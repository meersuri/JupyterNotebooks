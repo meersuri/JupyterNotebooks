{
 "cells": [
  {
   "cell_type": "code",
   "execution_count": 1,
   "metadata": {},
   "outputs": [],
   "source": [
    "import numpy as np\n",
    "import torch\n",
    "import torchvision\n",
    "import time\n",
    "import torch.nn as nn\n",
    "import torch.nn.functional as F\n",
    "import torch.optim as optim\n",
    "import torchvision.transforms as transforms\n",
    "import matplotlib.pyplot as plt\n",
    "from torch.optim.lr_scheduler import ReduceLROnPlateau"
   ]
  },
  {
   "cell_type": "code",
   "execution_count": 2,
   "metadata": {},
   "outputs": [],
   "source": [
    "device = torch.device('cuda') if torch.cuda.is_available() else torch.device('cpu')"
   ]
  },
  {
   "cell_type": "code",
   "execution_count": 3,
   "metadata": {},
   "outputs": [
    {
     "data": {
      "text/plain": [
       "device(type='cuda')"
      ]
     },
     "execution_count": 3,
     "metadata": {},
     "output_type": "execute_result"
    }
   ],
   "source": [
    "device"
   ]
  },
  {
   "cell_type": "code",
   "execution_count": 4,
   "metadata": {},
   "outputs": [],
   "source": [
    "class DenoisingConvAutoEncoder(nn.Module):\n",
    "    \n",
    "    def __init__(self):\n",
    "        super(DenoisingConvAutoEncoder, self).__init__()\n",
    "        self.conv1 = nn.Conv2d(1, 32, 3, padding=(1, 1))\n",
    "        self.pool1 = nn.MaxPool2d(2, return_indices=True)\n",
    "        self.conv2 = nn.Conv2d(32, 32, 3, padding=(1, 1))\n",
    "        self.tconv1 = nn.ConvTranspose2d(32, 32, 3, padding = (1, 1))\n",
    "        self.unpool1 = nn.MaxUnpool2d((2, 2))\n",
    "        self.tconv2 = nn.ConvTranspose2d(32, 1, 3, padding = (1, 1))\n",
    "    \n",
    "    def forward(self, x):\n",
    "        x = F.relu(self.conv1(x))\n",
    "        x, indices = self.pool1(x)\n",
    "        x = F.relu(self.conv2(x))\n",
    "        x = F.relu(self.tconv1(x))\n",
    "        x = self.unpool1(x, indices)\n",
    "        x = F.relu(self.tconv2(x))\n",
    "        return x"
   ]
  },
  {
   "cell_type": "code",
   "execution_count": 5,
   "metadata": {},
   "outputs": [],
   "source": [
    "transform = transforms.Compose([transforms.ToTensor()])"
   ]
  },
  {
   "cell_type": "code",
   "execution_count": 6,
   "metadata": {},
   "outputs": [],
   "source": [
    "train_dataset = torchvision.datasets.MNIST(root = './', \n",
    "                                           train = True,\n",
    "                                           download = True,\n",
    "                                           transform = transform)\n",
    "val_dataset = torchvision.datasets.MNIST(root = './', \n",
    "                                           train = False,\n",
    "                                           download = True,\n",
    "                                           transform = transform)"
   ]
  },
  {
   "cell_type": "code",
   "execution_count": 7,
   "metadata": {},
   "outputs": [],
   "source": [
    "batch_size = 32\n",
    "train_loader = torch.utils.data.DataLoader(train_dataset,\n",
    "                                     batch_size=batch_size,\n",
    "                                     shuffle=True,\n",
    "                                     num_workers=2,\n",
    "                                     pin_memory=True)\n",
    "\n",
    "val_loader = torch.utils.data.DataLoader(val_dataset,\n",
    "                                     batch_size=batch_size,\n",
    "                                     shuffle=True,\n",
    "                                     num_workers=2,\n",
    "                                     pin_memory=True)"
   ]
  },
  {
   "cell_type": "code",
   "execution_count": 8,
   "metadata": {},
   "outputs": [],
   "source": [
    "def addGaussianNoise(x, eps):\n",
    "    return x + eps*torch.randn_like(x)\n",
    "\n",
    "def getRandomMask(data, size):\n",
    "    mask = torch.ones_like(data)\n",
    "    n, c, h, w = mask.shape\n",
    "    x = torch.randint(low = 0, high = h - size, size = (1, 1))\n",
    "    y = torch.randint(low = 0, high = w - size, size = (1, 1))\n",
    "    mask[:, :, x : x + size, y : y + size] = 0\n",
    "    return mask, x, y\n",
    "\n",
    "def getMask(data, size, x, y):\n",
    "    mask = torch.ones_like(data)\n",
    "    n, c, h, w = mask.shape\n",
    "    mask[:, :, x : x + size, y : y + size] = 0\n",
    "    return mask"
   ]
  },
  {
   "cell_type": "code",
   "execution_count": 28,
   "metadata": {},
   "outputs": [
    {
     "data": {
      "text/plain": [
       "DenoisingConvAutoEncoder(\n",
       "  (conv1): Conv2d(1, 32, kernel_size=(3, 3), stride=(1, 1), padding=(1, 1))\n",
       "  (pool1): MaxPool2d(kernel_size=2, stride=2, padding=0, dilation=1, ceil_mode=False)\n",
       "  (conv2): Conv2d(32, 32, kernel_size=(3, 3), stride=(1, 1), padding=(1, 1))\n",
       "  (tconv1): ConvTranspose2d(32, 32, kernel_size=(3, 3), stride=(1, 1), padding=(1, 1))\n",
       "  (unpool1): MaxUnpool2d(kernel_size=(2, 2), stride=(2, 2), padding=(0, 0))\n",
       "  (tconv2): ConvTranspose2d(32, 1, kernel_size=(3, 3), stride=(1, 1), padding=(1, 1))\n",
       ")"
      ]
     },
     "execution_count": 28,
     "metadata": {},
     "output_type": "execute_result"
    }
   ],
   "source": [
    "model = DenoisingConvAutoEncoder()\n",
    "model.to(device)"
   ]
  },
  {
   "cell_type": "code",
   "execution_count": 29,
   "metadata": {},
   "outputs": [],
   "source": [
    "criterion = nn.L1Loss(reduction = 'none')\n",
    "optimizer = optim.SGD(model.parameters(), lr=1e-4, momentum=0.9, weight_decay = 0.01)"
   ]
  },
  {
   "cell_type": "code",
   "execution_count": 30,
   "metadata": {},
   "outputs": [
    {
     "name": "stdout",
     "output_type": "stream",
     "text": [
      "epoch = 0, iter = 0, loss = 0.7098\n",
      "epoch = 0, iter = 500, loss = 0.7687\n",
      "epoch = 0, iter = 1000, loss = 0.8593\n",
      "epoch = 0, iter = 1500, loss = 0.7925\n",
      "epoch = 1, iter = 0, loss = 0.6959\n",
      "epoch = 1, iter = 500, loss = 0.6803\n",
      "epoch = 1, iter = 1000, loss = 0.6893\n",
      "epoch = 1, iter = 1500, loss = 0.6125\n",
      "epoch = 2, iter = 0, loss = 0.6376\n",
      "epoch = 2, iter = 500, loss = 0.6421\n",
      "epoch = 2, iter = 1000, loss = 0.5720\n",
      "epoch = 2, iter = 1500, loss = 0.6391\n",
      "epoch = 3, iter = 0, loss = 0.6106\n",
      "epoch = 3, iter = 500, loss = 0.5798\n",
      "epoch = 3, iter = 1000, loss = 0.6319\n",
      "epoch = 3, iter = 1500, loss = 0.6710\n",
      "epoch = 4, iter = 0, loss = 0.5661\n",
      "epoch = 4, iter = 500, loss = 0.6278\n",
      "epoch = 4, iter = 1000, loss = 0.5677\n",
      "epoch = 4, iter = 1500, loss = 0.5942\n",
      "epoch = 5, iter = 0, loss = 0.6622\n",
      "epoch = 5, iter = 500, loss = 0.6199\n",
      "epoch = 5, iter = 1000, loss = 0.5765\n",
      "epoch = 5, iter = 1500, loss = 0.6217\n",
      "epoch = 6, iter = 0, loss = 0.6357\n",
      "epoch = 6, iter = 500, loss = 0.6249\n",
      "epoch = 6, iter = 1000, loss = 0.5689\n",
      "epoch = 6, iter = 1500, loss = 0.5441\n",
      "epoch = 7, iter = 0, loss = 0.5871\n",
      "epoch = 7, iter = 500, loss = 0.6662\n",
      "epoch = 7, iter = 1000, loss = 0.4864\n",
      "epoch = 7, iter = 1500, loss = 0.5669\n",
      "epoch = 8, iter = 0, loss = 0.5578\n",
      "epoch = 8, iter = 500, loss = 0.6426\n",
      "epoch = 8, iter = 1000, loss = 0.5221\n",
      "epoch = 8, iter = 1500, loss = 0.6074\n",
      "epoch = 9, iter = 0, loss = 0.6209\n",
      "epoch = 9, iter = 500, loss = 0.5265\n",
      "epoch = 9, iter = 1000, loss = 0.6312\n",
      "epoch = 9, iter = 1500, loss = 0.5573\n",
      "epoch = 10, iter = 0, loss = 0.5674\n",
      "epoch = 10, iter = 500, loss = 0.6372\n",
      "epoch = 10, iter = 1000, loss = 0.5556\n",
      "epoch = 10, iter = 1500, loss = 0.6272\n",
      "epoch = 11, iter = 0, loss = 0.6023\n",
      "epoch = 11, iter = 500, loss = 0.5377\n",
      "epoch = 11, iter = 1000, loss = 0.5173\n",
      "epoch = 11, iter = 1500, loss = 0.4368\n",
      "epoch = 12, iter = 0, loss = 0.5149\n",
      "epoch = 12, iter = 500, loss = 0.5862\n",
      "epoch = 12, iter = 1000, loss = 0.5192\n",
      "epoch = 12, iter = 1500, loss = 0.5285\n",
      "epoch = 13, iter = 0, loss = 0.6287\n",
      "epoch = 13, iter = 500, loss = 0.6031\n",
      "epoch = 13, iter = 1000, loss = 0.4778\n",
      "epoch = 13, iter = 1500, loss = 0.5394\n",
      "epoch = 14, iter = 0, loss = 0.4297\n",
      "epoch = 14, iter = 500, loss = 0.5503\n",
      "epoch = 14, iter = 1000, loss = 0.5117\n",
      "epoch = 14, iter = 1500, loss = 0.5220\n",
      "epoch = 15, iter = 0, loss = 0.5723\n",
      "epoch = 15, iter = 500, loss = 0.5672\n",
      "epoch = 15, iter = 1000, loss = 0.5536\n",
      "epoch = 15, iter = 1500, loss = 0.4942\n",
      "epoch = 16, iter = 0, loss = 0.5240\n",
      "epoch = 16, iter = 500, loss = 0.5539\n",
      "epoch = 16, iter = 1000, loss = 0.5120\n",
      "epoch = 16, iter = 1500, loss = 0.4620\n",
      "epoch = 17, iter = 0, loss = 0.5070\n",
      "epoch = 17, iter = 500, loss = 0.5519\n",
      "epoch = 17, iter = 1000, loss = 0.5197\n",
      "epoch = 17, iter = 1500, loss = 0.5087\n",
      "epoch = 18, iter = 0, loss = 0.4860\n",
      "epoch = 18, iter = 500, loss = 0.5439\n",
      "epoch = 18, iter = 1000, loss = 0.4589\n",
      "epoch = 18, iter = 1500, loss = 0.4512\n",
      "epoch = 19, iter = 0, loss = 0.4580\n",
      "epoch = 19, iter = 500, loss = 0.5162\n",
      "epoch = 19, iter = 1000, loss = 0.5000\n",
      "epoch = 19, iter = 1500, loss = 0.5177\n",
      "epoch = 20, iter = 0, loss = 0.5500\n",
      "epoch = 20, iter = 500, loss = 0.5067\n",
      "epoch = 20, iter = 1000, loss = 0.4924\n",
      "epoch = 20, iter = 1500, loss = 0.5450\n",
      "epoch = 21, iter = 0, loss = 0.5274\n",
      "epoch = 21, iter = 500, loss = 0.5190\n",
      "epoch = 21, iter = 1000, loss = 0.4438\n",
      "epoch = 21, iter = 1500, loss = 0.4648\n",
      "epoch = 22, iter = 0, loss = 0.5760\n",
      "epoch = 22, iter = 500, loss = 0.5718\n",
      "epoch = 22, iter = 1000, loss = 0.4921\n",
      "epoch = 22, iter = 1500, loss = 0.4908\n",
      "epoch = 23, iter = 0, loss = 0.4800\n",
      "epoch = 23, iter = 500, loss = 0.4235\n",
      "epoch = 23, iter = 1000, loss = 0.5356\n",
      "epoch = 23, iter = 1500, loss = 0.5431\n",
      "epoch = 24, iter = 0, loss = 0.4824\n",
      "epoch = 24, iter = 500, loss = 0.4464\n",
      "epoch = 24, iter = 1000, loss = 0.5008\n",
      "epoch = 24, iter = 1500, loss = 0.4987\n",
      "epoch = 25, iter = 0, loss = 0.5050\n",
      "epoch = 25, iter = 500, loss = 0.5005\n",
      "epoch = 25, iter = 1000, loss = 0.5548\n",
      "epoch = 25, iter = 1500, loss = 0.5567\n",
      "epoch = 26, iter = 0, loss = 0.5548\n",
      "epoch = 26, iter = 500, loss = 0.4792\n",
      "epoch = 26, iter = 1000, loss = 0.4438\n",
      "epoch = 26, iter = 1500, loss = 0.4454\n",
      "epoch = 27, iter = 0, loss = 0.4804\n",
      "epoch = 27, iter = 500, loss = 0.4257\n",
      "epoch = 27, iter = 1000, loss = 0.4163\n",
      "epoch = 27, iter = 1500, loss = 0.5098\n",
      "epoch = 28, iter = 0, loss = 0.4644\n",
      "epoch = 28, iter = 500, loss = 0.5282\n",
      "epoch = 28, iter = 1000, loss = 0.5047\n",
      "epoch = 28, iter = 1500, loss = 0.3998\n",
      "epoch = 29, iter = 0, loss = 0.5331\n",
      "epoch = 29, iter = 500, loss = 0.4999\n",
      "epoch = 29, iter = 1000, loss = 0.4558\n",
      "epoch = 29, iter = 1500, loss = 0.5038\n"
     ]
    }
   ],
   "source": [
    "train_loss_hist = []\n",
    "val_loss_hist = []\n",
    "n_epochs = 30\n",
    "# mask_size = 10\n",
    "mask_loss = 20\n",
    "# mask_sizes = [(7, 10), (7, 10), (7, 10)]\n",
    "mask_size = 10\n",
    "scheduler = ReduceLROnPlateau(optimizer, 'min', patience = 3)\n",
    "for e in range(n_epochs):\n",
    "    # training\n",
    "#     m_low, m_high = mask_sizes[e//10]\n",
    "    for i, batch in enumerate(train_loader):\n",
    "        data, labels = batch\n",
    "        labels = data[:]\n",
    "        \n",
    "#         mask_size = np.random.randint(m_low, m_high)\n",
    "#         mask, x, y = getRandomMask(data, mask_size)\n",
    "        n, c, h, w = data.shape\n",
    "        x, y = h//2, w//2\n",
    "        mask = getMask(data, mask_size, x, y)\n",
    "        data = data * mask\n",
    "        data = data.to(device)\n",
    "        labels = labels.to(device)\n",
    "\n",
    "        optimizer.zero_grad()\n",
    "        out = model(data)\n",
    "\n",
    "        loss = criterion(out, labels)\n",
    "        wts = torch.ones_like(data)\n",
    "        wts[:, :, x : x + mask_size, y : y + mask_size] = mask_loss\n",
    "        loss = loss * wts\n",
    "        loss = loss.mean()\n",
    "        loss.backward()\n",
    "        optimizer.step()\n",
    "        loss_val = loss.item()\n",
    "        train_loss_hist.append(loss_val)\n",
    "\n",
    "        if i % 500 == 0:\n",
    "            print('epoch = {}, iter = {}, loss = {:.4f}'.format(e, i, loss_val))\n",
    "        \n",
    "    # validation\n",
    "    valid_loss = 0\n",
    "    for i, batch in enumerate(val_loader):\n",
    "        data, labels = batch\n",
    "        labels = data[:]\n",
    "        data = data.to(device)\n",
    "        labels = labels.to(device)\n",
    "        out = model(data)\n",
    "        loss = criterion(out, labels)\n",
    "        wts = torch.ones_like(data)\n",
    "        wts[:, :, x : x + mask_size, y : y + mask_size] = mask_loss\n",
    "        loss = loss * wts\n",
    "        loss = loss.mean()\n",
    "        loss_val = loss.item()\n",
    "        valid_loss += loss_val\n",
    "    val_loss_hist.append(valid_loss/(i + 1))\n",
    "    \n",
    "    #learning rate scheduler\n",
    "    scheduler.step(val_loss_hist[-1])\n",
    "        "
   ]
  },
  {
   "cell_type": "code",
   "execution_count": 12,
   "metadata": {},
   "outputs": [
    {
     "data": {
      "text/plain": [
       "Text(0,0.5,'training loss')"
      ]
     },
     "execution_count": 12,
     "metadata": {},
     "output_type": "execute_result"
    },
    {
     "data": {
      "image/png": "[encoded data removed]",
      "text/plain": [
       "<matplotlib.figure.Figure at 0x2b587ff2780>"
      ]
     },
     "metadata": {},
     "output_type": "display_data"
    }
   ],
   "source": [
    "plt.figure()\n",
    "plt.plot(train_loss_hist)\n",
    "plt.xlabel('iters')\n",
    "plt.ylabel('training loss')"
   ]
  },
  {
   "cell_type": "code",
   "execution_count": 13,
   "metadata": {},
   "outputs": [
    {
     "data": {
      "text/plain": [
       "Text(0,0.5,'validation loss')"
      ]
     },
     "execution_count": 13,
     "metadata": {},
     "output_type": "execute_result"
    },
    {
     "data": {
      "image/png": "[encoded data removed]",
      "text/plain": [
       "<matplotlib.figure.Figure at 0x2b58818c780>"
      ]
     },
     "metadata": {},
     "output_type": "display_data"
    }
   ],
   "source": [
    "plt.figure()\n",
    "plt.plot(val_loss_hist)\n",
    "plt.xlabel('epochs')\n",
    "plt.ylabel('validation loss')"
   ]
  },
  {
   "cell_type": "code",
   "execution_count": 23,
   "metadata": {},
   "outputs": [],
   "source": [
    "data, labels = next(iter(train_loader))\n",
    "labels = data[:]\n",
    "mask, x, y = getRandomMask(data, 10)\n",
    "data = data * mask"
   ]
  },
  {
   "cell_type": "code",
   "execution_count": 24,
   "metadata": {},
   "outputs": [
    {
     "data": {
      "text/plain": [
       "(32, 1, 28, 28)"
      ]
     },
     "execution_count": 24,
     "metadata": {},
     "output_type": "execute_result"
    }
   ],
   "source": [
    "data = data.to(device)\n",
    "out = model(data)\n",
    "out = out.cpu().detach().numpy()\n",
    "out.shape"
   ]
  },
  {
   "cell_type": "code",
   "execution_count": 25,
   "metadata": {},
   "outputs": [
    {
     "data": {
      "image/png": "[encoded data removed]",
      "text/plain": [
       "<matplotlib.figure.Figure at 0x2b588306a90>"
      ]
     },
     "metadata": {},
     "output_type": "display_data"
    }
   ],
   "source": [
    "n = 5\n",
    "for i in range(n):\n",
    "    img = out[i]\n",
    "    img = np.reshape(img, (28, 28))\n",
    "    plt.subplot(3, n, i + 1)\n",
    "    plt.imshow(img, cmap = 'gray')"
   ]
  },
  {
   "cell_type": "code",
   "execution_count": 26,
   "metadata": {},
   "outputs": [
    {
     "data": {
      "image/png": "[encoded data removed]",
      "text/plain": [
       "<matplotlib.figure.Figure at 0x2b58b1e5550>"
      ]
     },
     "metadata": {},
     "output_type": "display_data"
    }
   ],
   "source": [
    "n = 5\n",
    "for i in range(n):\n",
    "    img = labels[i].cpu().detach().numpy()\n",
    "    img = np.reshape(img, (28, 28))\n",
    "    plt.subplot(1, n, i + 1)\n",
    "    plt.imshow(img, cmap = 'gray')"
   ]
  },
  {
   "cell_type": "code",
   "execution_count": 27,
   "metadata": {},
   "outputs": [
    {
     "data": {
      "image/png": "[encoded data removed]",
      "text/plain": [
       "<matplotlib.figure.Figure at 0x2b58b0e72b0>"
      ]
     },
     "metadata": {},
     "output_type": "display_data"
    }
   ],
   "source": [
    "n = 5\n",
    "for i in range(n):\n",
    "    img = data[i].cpu().detach().numpy()\n",
    "    img = np.reshape(img, (28, 28))\n",
    "    plt.subplot(1, n, i + 1)\n",
    "    plt.imshow(img, cmap = 'gray')"
   ]
  },
  {
   "cell_type": "code",
   "execution_count": null,
   "metadata": {},
   "outputs": [],
   "source": []
  }
 ],
 "metadata": {
  "kernelspec": {
   "display_name": "Python 3",
   "language": "python",
   "name": "python3"
  },
  "language_info": {
   "codemirror_mode": {
    "name": "ipython",
    "version": 3
   },
   "file_extension": ".py",
   "mimetype": "text/x-python",
   "name": "python",
   "nbconvert_exporter": "python",
   "pygments_lexer": "ipython3",
   "version": "3.5.4"
  }
 },
 "nbformat": 4,
 "nbformat_minor": 2
}
