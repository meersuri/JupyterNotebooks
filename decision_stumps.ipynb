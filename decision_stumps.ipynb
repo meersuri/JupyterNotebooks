{
 "cells": [
  {
   "cell_type": "code",
   "execution_count": 1,
   "metadata": {},
   "outputs": [],
   "source": [
    "import os\n",
    "import math\n",
    "import numpy as np\n",
    "import pandas as pd\n",
    "from sklearn.model_selection import train_test_split\n",
    "from sklearn import datasets"
   ]
  },
  {
   "cell_type": "code",
   "execution_count": 26,
   "metadata": {},
   "outputs": [],
   "source": [
    "class DecisionStump:\n",
    "    \n",
    "    def __init__(self):\n",
    "        self.d = None\n",
    "        self.best_split_idx = None\n",
    "        self.best_split_val = None\n",
    "        self.min_wt_err = None\n",
    "        \n",
    "    def fit(self, data, target, sample_weights=None, verbose=0):\n",
    "        assert len(data.shape) == 2, 'Expected 2-d input data'\n",
    "        assert data.shape[0] == target.shape[0], 'Expected data and target to have equal number of samples'\n",
    "        assert len(target.shape) == 1 or target.shape[1] == 1, 'Only supports binary classification'\n",
    "        data = pd.DataFrame(data)\n",
    "        target = pd.DataFrame(target)\n",
    "        assert all(target.isin([1, -1])), 'targets need to be in [+1, -1]'\n",
    "        n, d = data.shape\n",
    "        self.d = d\n",
    "        if sample_weights is None:\n",
    "            sample_weights = (1/n) * np.ones((n, ))\n",
    "\n",
    "        self.min_wt_err = np.inf\n",
    "        for i in range(d):\n",
    "            combined = pd.concat([data.iloc[:, i], target], axis = 1)\n",
    "            combined.sort_values(by = combined.columns[0], inplace = True)\n",
    "            # x[d] <= thr -> negative class, x[d] > thr -> positive class\n",
    "            preds = np.ones((n, ))\n",
    "            wt_err = np.sum(sample_weights*(preds != np.array(combined.iloc[:, 1])).astype('float64'))\n",
    "            if wt_err < self.min_wt_err:\n",
    "                self.min_wt_err = wt_err\n",
    "                self.best_split_idx = i\n",
    "                self.best_split_val = combined.iat[0, 0]\n",
    "            for j in range(n):\n",
    "                prev_contrib = sample_weights[j] * (float(combined.iat[j, 1] != 1))\n",
    "                new_contrib = sample_weights[j] * (float(combined.iat[j, 1] != -1))\n",
    "                wt_err = wt_err - prev_contrib + new_contrib\n",
    "                if wt_err < self.min_wt_err:\n",
    "                    self.min_wt_err = wt_err\n",
    "                    self.best_split_idx = i\n",
    "                    self.best_split_val = combined.iat[j, 0]\n",
    "                    if verbose:\n",
    "                        print('New best split with feature {}, split val {}, err {}'.format(i,\n",
    "                                                                                            combined.iat[j, 0],\n",
    "                                                                                            wt_err))\n",
    "        print('Minimum weighted classification error = {}'.format(self.min_wt_err))\n",
    "            \n",
    "    def predict(self, data):\n",
    "        assert len(data.shape) == 2, 'Expectd 2-d input'\n",
    "        assert data.shape[1] == self.d, 'Expected input to have {} features'.format(self.d)\n",
    "        n, d = data.shape\n",
    "        data = pd.DataFrame(data)\n",
    "        preds = np.zeros((n, ), dtype = 'int8')\n",
    "        for i in range(n):\n",
    "            if data.iat[i, self.best_split_idx] <= self.best_split_val:\n",
    "                preds[i] = -1\n",
    "            else:\n",
    "                preds[i] = +1\n",
    "            \n",
    "        return preds"
   ]
  },
  {
   "cell_type": "code",
   "execution_count": 95,
   "metadata": {},
   "outputs": [],
   "source": [
    "class BoostedStumps:\n",
    "    \n",
    "    def __init__(self, n_estimators=10):\n",
    "        self.sample_weights = None\n",
    "        self.d = None\n",
    "        self.n_estimators = n_estimators\n",
    "    \n",
    "    def fit(self, data, target):\n",
    "        assert len(data.shape) == 2, 'Expected 2-d input data'\n",
    "        assert data.shape[0] == target.shape[0], 'Expected data and target to have equal number of samples'\n",
    "        assert len(target.shape) == 1 or target.shape[1] == 1, 'Only supports binary classification'\n",
    "        data = pd.DataFrame(data)\n",
    "        target = pd.DataFrame(target)\n",
    "        assert all(target.isin([1, -1])), 'targets need to be in [+1, -1]'\n",
    "\n",
    "        n, d = data.shape\n",
    "        self.d = d\n",
    "        self.sample_weights = (1/n) * np.ones((n, ))\n",
    "        self.classifier = [DecisionStump() for i in range(self.n_estimators)]\n",
    "        self.clf_wts = np.zeros((self.n_estimators, ))\n",
    "        for i in range(self.n_estimators):\n",
    "            # update sample weights\n",
    "            y_net = np.zeros((n, ))\n",
    "            for j in range(i - 1):\n",
    "                y_net += self.clf_wts[j] * self.classifier[j].predict(data)\n",
    "            y_net = np.exp(-y_net * (target[target.columns[0]]))\n",
    "            self.sample_weights = self.sample_weights * y_net\n",
    "            self.sample_weights /= np.sum(self.sample_weights)\n",
    "            # fit new classifer and calculate its weight\n",
    "            self.classifier[i].fit(data, target, self.sample_weights)\n",
    "            eps = self.classifier[i].min_wt_err\n",
    "            self.clf_wts[i] = (1/2) * np.log((1 - eps)/eps)\n",
    "#             y_preds = self.classifier[i].predict(data)\n",
    "#             self.sample_weights *= np.exp(-self.clf_wts[i] * y_preds * np.array(target[target.columns[0]]))\n",
    "#             self.sample_weights /= np.sum(self.sample_weights)\n",
    "        \n",
    "    def predict(self, data):\n",
    "        assert len(data.shape) == 2, 'Expectd 2-d input'\n",
    "        assert data.shape[1] == self.d, 'Expected input to have {} features'.format(self.d)\n",
    "        n, d = data.shape\n",
    "        data = pd.DataFrame(data)\n",
    "        y = np.zeros((n, ))\n",
    "        for i in range(self.n_estimators):\n",
    "            y += self.clf_wts[i] * self.classifier[i].predict(data)\n",
    "        y = np.sign(y)\n",
    "        return y\n",
    "            "
   ]
  },
  {
   "cell_type": "code",
   "execution_count": 4,
   "metadata": {},
   "outputs": [],
   "source": [
    "dataset = datasets.load_breast_cancer()"
   ]
  },
  {
   "cell_type": "code",
   "execution_count": 5,
   "metadata": {},
   "outputs": [
    {
     "data": {
      "text/plain": [
       "dict_keys(['feature_names', 'target_names', 'data', 'DESCR', 'target'])"
      ]
     },
     "execution_count": 5,
     "metadata": {},
     "output_type": "execute_result"
    }
   ],
   "source": [
    "dataset.keys()"
   ]
  },
  {
   "cell_type": "code",
   "execution_count": 6,
   "metadata": {},
   "outputs": [
    {
     "data": {
      "text/plain": [
       "(569, 30)"
      ]
     },
     "execution_count": 6,
     "metadata": {},
     "output_type": "execute_result"
    }
   ],
   "source": [
    "dataset.data.shape"
   ]
  },
  {
   "cell_type": "code",
   "execution_count": 7,
   "metadata": {
    "scrolled": true
   },
   "outputs": [
    {
     "data": {
      "text/html": [
       "<div>\n",
       "<style scoped>\n",
       "    .dataframe tbody tr th:only-of-type {\n",
       "        vertical-align: middle;\n",
       "    }\n",
       "\n",
       "    .dataframe tbody tr th {\n",
       "        vertical-align: top;\n",
       "    }\n",
       "\n",
       "    .dataframe thead th {\n",
       "        text-align: right;\n",
       "    }\n",
       "</style>\n",
       "<table border=\"1\" class=\"dataframe\">\n",
       "  <thead>\n",
       "    <tr style=\"text-align: right;\">\n",
       "      <th></th>\n",
       "      <th>malignant</th>\n",
       "    </tr>\n",
       "  </thead>\n",
       "  <tbody>\n",
       "    <tr>\n",
       "      <th>0</th>\n",
       "      <td>-1</td>\n",
       "    </tr>\n",
       "    <tr>\n",
       "      <th>1</th>\n",
       "      <td>-1</td>\n",
       "    </tr>\n",
       "    <tr>\n",
       "      <th>2</th>\n",
       "      <td>-1</td>\n",
       "    </tr>\n",
       "    <tr>\n",
       "      <th>3</th>\n",
       "      <td>-1</td>\n",
       "    </tr>\n",
       "    <tr>\n",
       "      <th>4</th>\n",
       "      <td>-1</td>\n",
       "    </tr>\n",
       "  </tbody>\n",
       "</table>\n",
       "</div>"
      ],
      "text/plain": [
       "   malignant\n",
       "0         -1\n",
       "1         -1\n",
       "2         -1\n",
       "3         -1\n",
       "4         -1"
      ]
     },
     "execution_count": 7,
     "metadata": {},
     "output_type": "execute_result"
    }
   ],
   "source": [
    "y = pd.DataFrame(dataset.target, columns= [dataset.target_names[0]], dtype = 'int8')\n",
    "y[y['malignant'] == 0] = -1\n",
    "y.head()"
   ]
  },
  {
   "cell_type": "code",
   "execution_count": 29,
   "metadata": {
    "scrolled": true
   },
   "outputs": [
    {
     "data": {
      "text/plain": [
       "True"
      ]
     },
     "execution_count": 29,
     "metadata": {},
     "output_type": "execute_result"
    }
   ],
   "source": [
    "y_arr = np.array(y['malignant'])\n",
    "# y_arr[y_arr == -1].shape\n",
    "y_df = pd.DataFrame(y)\n",
    "all(y_df.isin([1, -1]))\n",
    "# y_df.values"
   ]
  },
  {
   "cell_type": "code",
   "execution_count": 9,
   "metadata": {
    "collapsed": true
   },
   "outputs": [
    {
     "data": {
      "text/html": [
       "<div>\n",
       "<style scoped>\n",
       "    .dataframe tbody tr th:only-of-type {\n",
       "        vertical-align: middle;\n",
       "    }\n",
       "\n",
       "    .dataframe tbody tr th {\n",
       "        vertical-align: top;\n",
       "    }\n",
       "\n",
       "    .dataframe thead th {\n",
       "        text-align: right;\n",
       "    }\n",
       "</style>\n",
       "<table border=\"1\" class=\"dataframe\">\n",
       "  <thead>\n",
       "    <tr style=\"text-align: right;\">\n",
       "      <th></th>\n",
       "      <th>mean radius</th>\n",
       "      <th>mean texture</th>\n",
       "      <th>mean perimeter</th>\n",
       "      <th>mean area</th>\n",
       "      <th>mean smoothness</th>\n",
       "      <th>mean compactness</th>\n",
       "      <th>mean concavity</th>\n",
       "      <th>mean concave points</th>\n",
       "      <th>mean symmetry</th>\n",
       "      <th>mean fractal dimension</th>\n",
       "      <th>...</th>\n",
       "      <th>worst radius</th>\n",
       "      <th>worst texture</th>\n",
       "      <th>worst perimeter</th>\n",
       "      <th>worst area</th>\n",
       "      <th>worst smoothness</th>\n",
       "      <th>worst compactness</th>\n",
       "      <th>worst concavity</th>\n",
       "      <th>worst concave points</th>\n",
       "      <th>worst symmetry</th>\n",
       "      <th>worst fractal dimension</th>\n",
       "    </tr>\n",
       "  </thead>\n",
       "  <tbody>\n",
       "    <tr>\n",
       "      <th>0</th>\n",
       "      <td>17.99</td>\n",
       "      <td>10.38</td>\n",
       "      <td>122.80</td>\n",
       "      <td>1001.0</td>\n",
       "      <td>0.11840</td>\n",
       "      <td>0.27760</td>\n",
       "      <td>0.3001</td>\n",
       "      <td>0.14710</td>\n",
       "      <td>0.2419</td>\n",
       "      <td>0.07871</td>\n",
       "      <td>...</td>\n",
       "      <td>25.38</td>\n",
       "      <td>17.33</td>\n",
       "      <td>184.60</td>\n",
       "      <td>2019.0</td>\n",
       "      <td>0.1622</td>\n",
       "      <td>0.6656</td>\n",
       "      <td>0.7119</td>\n",
       "      <td>0.2654</td>\n",
       "      <td>0.4601</td>\n",
       "      <td>0.11890</td>\n",
       "    </tr>\n",
       "    <tr>\n",
       "      <th>1</th>\n",
       "      <td>20.57</td>\n",
       "      <td>17.77</td>\n",
       "      <td>132.90</td>\n",
       "      <td>1326.0</td>\n",
       "      <td>0.08474</td>\n",
       "      <td>0.07864</td>\n",
       "      <td>0.0869</td>\n",
       "      <td>0.07017</td>\n",
       "      <td>0.1812</td>\n",
       "      <td>0.05667</td>\n",
       "      <td>...</td>\n",
       "      <td>24.99</td>\n",
       "      <td>23.41</td>\n",
       "      <td>158.80</td>\n",
       "      <td>1956.0</td>\n",
       "      <td>0.1238</td>\n",
       "      <td>0.1866</td>\n",
       "      <td>0.2416</td>\n",
       "      <td>0.1860</td>\n",
       "      <td>0.2750</td>\n",
       "      <td>0.08902</td>\n",
       "    </tr>\n",
       "    <tr>\n",
       "      <th>2</th>\n",
       "      <td>19.69</td>\n",
       "      <td>21.25</td>\n",
       "      <td>130.00</td>\n",
       "      <td>1203.0</td>\n",
       "      <td>0.10960</td>\n",
       "      <td>0.15990</td>\n",
       "      <td>0.1974</td>\n",
       "      <td>0.12790</td>\n",
       "      <td>0.2069</td>\n",
       "      <td>0.05999</td>\n",
       "      <td>...</td>\n",
       "      <td>23.57</td>\n",
       "      <td>25.53</td>\n",
       "      <td>152.50</td>\n",
       "      <td>1709.0</td>\n",
       "      <td>0.1444</td>\n",
       "      <td>0.4245</td>\n",
       "      <td>0.4504</td>\n",
       "      <td>0.2430</td>\n",
       "      <td>0.3613</td>\n",
       "      <td>0.08758</td>\n",
       "    </tr>\n",
       "    <tr>\n",
       "      <th>3</th>\n",
       "      <td>11.42</td>\n",
       "      <td>20.38</td>\n",
       "      <td>77.58</td>\n",
       "      <td>386.1</td>\n",
       "      <td>0.14250</td>\n",
       "      <td>0.28390</td>\n",
       "      <td>0.2414</td>\n",
       "      <td>0.10520</td>\n",
       "      <td>0.2597</td>\n",
       "      <td>0.09744</td>\n",
       "      <td>...</td>\n",
       "      <td>14.91</td>\n",
       "      <td>26.50</td>\n",
       "      <td>98.87</td>\n",
       "      <td>567.7</td>\n",
       "      <td>0.2098</td>\n",
       "      <td>0.8663</td>\n",
       "      <td>0.6869</td>\n",
       "      <td>0.2575</td>\n",
       "      <td>0.6638</td>\n",
       "      <td>0.17300</td>\n",
       "    </tr>\n",
       "    <tr>\n",
       "      <th>4</th>\n",
       "      <td>20.29</td>\n",
       "      <td>14.34</td>\n",
       "      <td>135.10</td>\n",
       "      <td>1297.0</td>\n",
       "      <td>0.10030</td>\n",
       "      <td>0.13280</td>\n",
       "      <td>0.1980</td>\n",
       "      <td>0.10430</td>\n",
       "      <td>0.1809</td>\n",
       "      <td>0.05883</td>\n",
       "      <td>...</td>\n",
       "      <td>22.54</td>\n",
       "      <td>16.67</td>\n",
       "      <td>152.20</td>\n",
       "      <td>1575.0</td>\n",
       "      <td>0.1374</td>\n",
       "      <td>0.2050</td>\n",
       "      <td>0.4000</td>\n",
       "      <td>0.1625</td>\n",
       "      <td>0.2364</td>\n",
       "      <td>0.07678</td>\n",
       "    </tr>\n",
       "  </tbody>\n",
       "</table>\n",
       "<p>5 rows × 30 columns</p>\n",
       "</div>"
      ],
      "text/plain": [
       "   mean radius  mean texture  mean perimeter  mean area  mean smoothness  \\\n",
       "0        17.99         10.38          122.80     1001.0          0.11840   \n",
       "1        20.57         17.77          132.90     1326.0          0.08474   \n",
       "2        19.69         21.25          130.00     1203.0          0.10960   \n",
       "3        11.42         20.38           77.58      386.1          0.14250   \n",
       "4        20.29         14.34          135.10     1297.0          0.10030   \n",
       "\n",
       "   mean compactness  mean concavity  mean concave points  mean symmetry  \\\n",
       "0           0.27760          0.3001              0.14710         0.2419   \n",
       "1           0.07864          0.0869              0.07017         0.1812   \n",
       "2           0.15990          0.1974              0.12790         0.2069   \n",
       "3           0.28390          0.2414              0.10520         0.2597   \n",
       "4           0.13280          0.1980              0.10430         0.1809   \n",
       "\n",
       "   mean fractal dimension           ...             worst radius  \\\n",
       "0                 0.07871           ...                    25.38   \n",
       "1                 0.05667           ...                    24.99   \n",
       "2                 0.05999           ...                    23.57   \n",
       "3                 0.09744           ...                    14.91   \n",
       "4                 0.05883           ...                    22.54   \n",
       "\n",
       "   worst texture  worst perimeter  worst area  worst smoothness  \\\n",
       "0          17.33           184.60      2019.0            0.1622   \n",
       "1          23.41           158.80      1956.0            0.1238   \n",
       "2          25.53           152.50      1709.0            0.1444   \n",
       "3          26.50            98.87       567.7            0.2098   \n",
       "4          16.67           152.20      1575.0            0.1374   \n",
       "\n",
       "   worst compactness  worst concavity  worst concave points  worst symmetry  \\\n",
       "0             0.6656           0.7119                0.2654          0.4601   \n",
       "1             0.1866           0.2416                0.1860          0.2750   \n",
       "2             0.4245           0.4504                0.2430          0.3613   \n",
       "3             0.8663           0.6869                0.2575          0.6638   \n",
       "4             0.2050           0.4000                0.1625          0.2364   \n",
       "\n",
       "   worst fractal dimension  \n",
       "0                  0.11890  \n",
       "1                  0.08902  \n",
       "2                  0.08758  \n",
       "3                  0.17300  \n",
       "4                  0.07678  \n",
       "\n",
       "[5 rows x 30 columns]"
      ]
     },
     "execution_count": 9,
     "metadata": {},
     "output_type": "execute_result"
    }
   ],
   "source": [
    "X = pd.DataFrame(dataset.data, columns = dataset.feature_names)\n",
    "X.head()"
   ]
  },
  {
   "cell_type": "code",
   "execution_count": 103,
   "metadata": {
    "scrolled": true
   },
   "outputs": [
    {
     "name": "stdout",
     "output_type": "stream",
     "text": [
      "Minimum weighted classification error = 0.3479789103690687\n"
     ]
    }
   ],
   "source": [
    "model = DecisionStump()\n",
    "model.fit(X, y, verbose = 0)"
   ]
  },
  {
   "cell_type": "code",
   "execution_count": 104,
   "metadata": {},
   "outputs": [
    {
     "name": "stdout",
     "output_type": "stream",
     "text": [
      "9 0.05534 0.3479789103690687\n"
     ]
    }
   ],
   "source": [
    "print(model.best_split_idx, model.best_split_val, model.min_wt_err)"
   ]
  },
  {
   "cell_type": "code",
   "execution_count": 105,
   "metadata": {},
   "outputs": [
    {
     "data": {
      "text/plain": [
       "malignant    0.652021\n",
       "dtype: float64"
      ]
     },
     "execution_count": 105,
     "metadata": {},
     "output_type": "execute_result"
    }
   ],
   "source": [
    "y_pred = model.predict(X)\n",
    "acc = (pd.DataFrame(y_pred, columns = ['malignant']) == y).astype('float64')\n",
    "acc.mean()\n",
    "# print('acc = {}'.format(acc)))"
   ]
  },
  {
   "cell_type": "code",
   "execution_count": 106,
   "metadata": {},
   "outputs": [
    {
     "name": "stdout",
     "output_type": "stream",
     "text": [
      "Minimum weighted classification error = 0.3479789103690688\n",
      "Minimum weighted classification error = 0.3479789103690686\n",
      "Minimum weighted classification error = 0.3434139236026029\n",
      "Minimum weighted classification error = 0.2900114260454331\n",
      "Minimum weighted classification error = 0.2515070363591458\n",
      "Minimum weighted classification error = 0.2392687736406172\n",
      "Minimum weighted classification error = 0.23744255971008055\n",
      "Minimum weighted classification error = 0.23730502231342546\n",
      "Minimum weighted classification error = 0.2372923521778353\n",
      "Minimum weighted classification error = 0.2372893325174103\n",
      "Minimum weighted classification error = 0.23728847650697094\n",
      "Minimum weighted classification error = 0.23728823269540467\n",
      "Minimum weighted classification error = 0.23728816325066904\n",
      "Minimum weighted classification error = 0.2372881434708368\n",
      "Minimum weighted classification error = 0.2372881378369857\n"
     ]
    }
   ],
   "source": [
    "model = BoostedStumps(n_estimators = 15)\n",
    "model.fit(X, y)"
   ]
  },
  {
   "cell_type": "code",
   "execution_count": 100,
   "metadata": {},
   "outputs": [
    {
     "data": {
      "text/plain": [
       "array([0.31396752, 0.31396752, 0.32405865, 0.44766428, 0.54529542,\n",
       "       0.57834631, 0.58337605, 0.58375593, 0.58379093, 0.58379927,\n",
       "       0.58380164, 0.58380231, 0.5838025 , 0.58380256, 0.58380257])"
      ]
     },
     "execution_count": 100,
     "metadata": {},
     "output_type": "execute_result"
    }
   ],
   "source": [
    "model.clf_wts"
   ]
  },
  {
   "cell_type": "code",
   "execution_count": 101,
   "metadata": {},
   "outputs": [
    {
     "data": {
      "text/plain": [
       "malignant    0.604569\n",
       "dtype: float64"
      ]
     },
     "execution_count": 101,
     "metadata": {},
     "output_type": "execute_result"
    }
   ],
   "source": [
    "y_pred = model.predict(X)\n",
    "acc = (pd.DataFrame(y_pred, columns = ['malignant']) == y).astype('float64')\n",
    "acc.mean()"
   ]
  },
  {
   "cell_type": "code",
   "execution_count": null,
   "metadata": {},
   "outputs": [],
   "source": []
  }
 ],
 "metadata": {
  "kernelspec": {
   "display_name": "Python 3",
   "language": "python",
   "name": "python3"
  },
  "language_info": {
   "codemirror_mode": {
    "name": "ipython",
    "version": 3
   },
   "file_extension": ".py",
   "mimetype": "text/x-python",
   "name": "python",
   "nbconvert_exporter": "python",
   "pygments_lexer": "ipython3",
   "version": "3.5.4"
  }
 },
 "nbformat": 4,
 "nbformat_minor": 2
}
