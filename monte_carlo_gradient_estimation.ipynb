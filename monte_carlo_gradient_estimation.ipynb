{
 "cells": [
  {
   "cell_type": "code",
   "execution_count": 2,
   "metadata": {},
   "outputs": [],
   "source": [
    "import numpy as np\n",
    "import matplotlib.pyplot as plt\n",
    "import tensorflow as tf"
   ]
  },
  {
   "cell_type": "markdown",
   "metadata": {},
   "source": [
    "To estimate the gradient w.r.t distribution parameters, of the expectation of a function w.r.t that distribution  - $\\newline$\n",
    "$\\nabla_{\\theta} \\mathrm{E}_{p_{\\theta}(x)}[f(x,\\phi)]$ $\\newline$\n",
    "Multiple estimators exist - $\\newline$\n",
    "Score function estimator - $\\nabla_{\\theta} \\mathrm{E}_{p_{\\theta}(x)}[f(x,\\phi)] = \n",
    "\\mathrm{E}_{p_{\\theta}(x)}[f(x,\\phi)\\nabla_{\\theta}\\log p_{\\theta}(x)] \\approx\n",
    "\\dfrac{1}{N}\\sum_{i}^{N}f(\\hat{x}_i, \\phi)\\nabla_{\\theta}\\log p_{\\theta}(\\hat{x}_i)$"
   ]
  }
 ],
 "metadata": {
  "kernelspec": {
   "display_name": "Python 3",
   "language": "python",
   "name": "python3"
  },
  "language_info": {
   "codemirror_mode": {
    "name": "ipython",
    "version": 3
   },
   "file_extension": ".py",
   "mimetype": "text/x-python",
   "name": "python",
   "nbconvert_exporter": "python",
   "pygments_lexer": "ipython3",
   "version": "3.7.9"
  }
 },
 "nbformat": 4,
 "nbformat_minor": 4
}
