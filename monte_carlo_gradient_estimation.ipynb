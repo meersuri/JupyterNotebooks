{
 "cells": [
  {
   "cell_type": "code",
   "execution_count": 2,
   "metadata": {},
   "outputs": [],
   "source": [
    "import numpy as np\n",
    "import matplotlib.pyplot as plt\n",
    "import tensorflow as tf"
   ]
  },
  {
   "cell_type": "markdown",
   "metadata": {},
   "source": [
    "To estimate the gradient w.r.t distribution parameters, of the expectation of a function w.r.t that distribution  - $\\newline$\n",
    "$\\nabla_{\\theta} \\mathrm{E}_{p_{\\theta}(x)}[f(x,\\phi)]$ $\\newline$\n",
    "Multiple estimators exist - $\\newline$\n",
    "Score function estimator - $\\nabla_{\\theta} \\mathrm{E}_{p_{\\theta}(x)}[f(x,\\phi)] = \n",
    "\\mathrm{E}_{p_{\\theta}(x)}[f(x,\\phi)\\nabla_{\\theta}\\log p_{\\theta}(x)] \\approx\n",
    "\\dfrac{1}{N}\\sum_{i}^{N}f(\\hat{x}_i, \\phi)\\nabla_{\\theta}\\log p_{\\theta}(\\hat{x}_i)$"
   ]
  },
  {
   "cell_type": "markdown",
   "metadata": {},
   "source": [
    "Score function estimator with $f(x) = k$ and $p_\\theta (x) = \\mathcal{N}(x|\\mu, \\sigma^2)$ where $\\theta = \\lbrace \\mu, \\sigma^2 \\rbrace $ - $\\newline$\n",
    "$\\nabla_{\\mu} \\mathrm{E}_{p_{\\theta}(x)}[f(x,\\phi)] = \n",
    "\\mathrm{E}_{\\mathcal{N}(x|\\mu, \\sigma^2)}[k\\nabla_{\\mu}\\log \\mathcal{N}(x|\\mu, \\sigma^2)] =\n",
    "\\mathrm{E}_{\\mathcal{N}(x|\\mu, \\sigma^2)}[k\\frac{(x - \\mu)}{\\sigma^2}] \\approx \n",
    "\\dfrac{1}{N}\\sum_{i}^{N}k \\frac{(\\hat{x}_i - \\mu)}{\\sigma^2}$ where $\\hat{x}_i \\sim \\mathcal{N}(x|\\mu, \\sigma^2)$ $\\newline$\n",
    "$\\nabla_{\\sigma^2} \\mathrm{E}_{p_{\\theta}(x)}[f(x,\\phi)] = \n",
    "\\mathrm{E}_{\\mathcal{N}(x|\\mu, \\sigma^2)}[k\\nabla_{\\sigma^2}\\log \\mathcal{N}(x|\\mu, \\sigma^2)] =\n",
    "\\mathrm{E}_{\\mathcal{N}(x|\\mu, \\sigma^2)}[k\\frac{(x - \\mu)^2}{\\sigma^3}] \\approx\n",
    "\\dfrac{1}{N}\\sum_{i}^{N}k \\frac{(\\hat{x}_i - \\mu)^2}{\\sigma^3}$ where $\\hat{x}_i \\sim \\mathcal{N}(x|\\mu, \\sigma^2)$"
   ]
  },
  {
   "cell_type": "code",
   "execution_count": 16,
   "metadata": {},
   "outputs": [
    {
     "data": {
      "text/plain": [
       "<StemContainer object of 3 artists>"
      ]
     },
     "execution_count": 16,
     "metadata": {},
     "output_type": "execute_result"
    },
    {
     "data": {
      "image/png": "[encoded data removed]",
      "text/plain": [
       "<Figure size 432x288 with 1 Axes>"
      ]
     },
     "metadata": {
      "needs_background": "light"
     },
     "output_type": "display_data"
    }
   ],
   "source": [
    "def objective(x):\n",
    "    return 100\n",
    "\n",
    "mean = 5\n",
    "var = 10\n",
    "x = 10\n",
    "N = [1,5,10,20,50,100,1000,5000]\n",
    "dE_mean = []\n",
    "for Ni in N:\n",
    "    xh = mean + var*np.random.randn(Ni)\n",
    "    dE_mean_i =  objective(x)*(xh - mean)/var\n",
    "    dE_mean.append(dE_mean_i.mean())\n",
    "plt.stem(N, dE_mean)"
   ]
  },
  {
   "cell_type": "code",
   "execution_count": null,
   "metadata": {},
   "outputs": [],
   "source": []
  }
 ],
 "metadata": {
  "kernelspec": {
   "display_name": "Python 3",
   "language": "python",
   "name": "python3"
  },
  "language_info": {
   "codemirror_mode": {
    "name": "ipython",
    "version": 3
   },
   "file_extension": ".py",
   "mimetype": "text/x-python",
   "name": "python",
   "nbconvert_exporter": "python",
   "pygments_lexer": "ipython3",
   "version": "3.7.9"
  }
 },
 "nbformat": 4,
 "nbformat_minor": 4
}
