{
 "cells": [
  {
   "cell_type": "code",
   "execution_count": 1,
   "metadata": {},
   "outputs": [],
   "source": [
    "import numpy as np\n",
    "import matplotlib.pyplot as plt\n",
    "import scipy.stats as st"
   ]
  },
  {
   "cell_type": "code",
   "execution_count": 2,
   "metadata": {},
   "outputs": [
    {
     "data": {
      "image/png": "[encoded data removed]",
      "text/plain": [
       "<matplotlib.figure.Figure at 0x1d19d66b4e0>"
      ]
     },
     "metadata": {},
     "output_type": "display_data"
    }
   ],
   "source": [
    "np.random.seed(10)\n",
    "# number of samples\n",
    "n = 1000\n",
    "# dimensions/features\n",
    "d = 2\n",
    "# number of components in the GMM\n",
    "k = 3\n",
    "# random init for means and covariances of the components\n",
    "means = np.zeros((k, d, 1))\n",
    "covs = np.zeros((k, d, d))\n",
    "for i in range(k):\n",
    "    means[i] = np.random.randint(low = 0, high = 10, size = (d, 1))\n",
    "    covs[i] = np.random.randint(low = 1, high = 7) * np.eye(d)\n",
    "data = np.zeros((n, d))\n",
    "# remember which component generated each point\n",
    "w_true = np.zeros((n, ))\n",
    "for i in range(n):\n",
    "    z = np.random.choice(k)\n",
    "    w_true[i] = z\n",
    "    data[i] = np.random.multivariate_normal(means[z].squeeze(), covs[z], 1)\n",
    "plt.figure()\n",
    "plt.scatter(data[:500, 0], data[:500, 1])\n",
    "# fit GMM to this data\n",
    "X = data"
   ]
  },
  {
   "cell_type": "code",
   "execution_count": 3,
   "metadata": {},
   "outputs": [
    {
     "data": {
      "text/plain": [
       "array([[[9.],\n",
       "        [4.]],\n",
       "\n",
       "       [[1.],\n",
       "        [9.]],\n",
       "\n",
       "       [[0.],\n",
       "        [1.]]])"
      ]
     },
     "execution_count": 3,
     "metadata": {},
     "output_type": "execute_result"
    }
   ],
   "source": [
    "means"
   ]
  },
  {
   "cell_type": "code",
   "execution_count": 4,
   "metadata": {},
   "outputs": [
    {
     "data": {
      "text/plain": [
       "array([[[1., 0.],\n",
       "        [0., 1.]],\n",
       "\n",
       "       [[6., 0.],\n",
       "        [0., 6.]],\n",
       "\n",
       "       [[3., 0.],\n",
       "        [0., 3.]]])"
      ]
     },
     "execution_count": 4,
     "metadata": {},
     "output_type": "execute_result"
    }
   ],
   "source": [
    "covs"
   ]
  },
  {
   "cell_type": "code",
   "execution_count": 5,
   "metadata": {},
   "outputs": [],
   "source": [
    "n, d = X.shape\n",
    "# uniformly init posteriors\n",
    "# w = (1/k) * np.ones((n, k))\n",
    "# random non-uniform init for posteriors\n",
    "w = np.random.randint(low = 1, high = 10, size = (n, k)).astype('float64')\n",
    "w = w / np.sum(w, axis = 1)[:, None]\n",
    "# priors\n",
    "p = np.mean(w, axis = 0)\n",
    "# ML estimate of the means and covariances based on the init posteriors\n",
    "m = np.matmul(w.T, X) / np.matmul(w.T, np.ones((n, 1)))\n",
    "S = np.zeros((k, d, d))\n",
    "for i in range(k):\n",
    "    S[i] = (1/np.sum(w[:, i])) * np.matmul((w[:, i, None]*(X - m[i])).T, (X - m[i]))"
   ]
  },
  {
   "cell_type": "code",
   "execution_count": 6,
   "metadata": {},
   "outputs": [
    {
     "data": {
      "text/plain": [
       "array([0.33476161, 0.33625764, 0.32898075])"
      ]
     },
     "execution_count": 6,
     "metadata": {},
     "output_type": "execute_result"
    }
   ],
   "source": [
    "p"
   ]
  },
  {
   "cell_type": "code",
   "execution_count": 7,
   "metadata": {},
   "outputs": [
    {
     "data": {
      "text/plain": [
       "array([[3.34176337, 4.75904911],\n",
       "       [3.46854124, 4.86765638],\n",
       "       [3.30704605, 4.76289493]])"
      ]
     },
     "execution_count": 7,
     "metadata": {},
     "output_type": "execute_result"
    }
   ],
   "source": [
    "m"
   ]
  },
  {
   "cell_type": "code",
   "execution_count": 8,
   "metadata": {},
   "outputs": [
    {
     "data": {
      "text/plain": [
       "array([[[19.11398358, -1.1564408 ],\n",
       "        [-1.1564408 , 13.79996942]],\n",
       "\n",
       "       [[19.84541887, -1.5105775 ],\n",
       "        [-1.5105775 , 14.87807185]],\n",
       "\n",
       "       [[19.63778076, -0.9347606 ],\n",
       "        [-0.9347606 , 15.00877458]]])"
      ]
     },
     "execution_count": 8,
     "metadata": {},
     "output_type": "execute_result"
    }
   ],
   "source": [
    "S"
   ]
  },
  {
   "cell_type": "code",
   "execution_count": 9,
   "metadata": {},
   "outputs": [],
   "source": [
    "n_iter = 100\n",
    "for e in range(n_iter):\n",
    "    # update posteriors to get the lower bound of likelihood - E step\n",
    "    for i in range(n):\n",
    "        px = np.zeros((k))\n",
    "        for j in range(k):\n",
    "            px[j] = p[j] * st.multivariate_normal.pdf(X[i], m[j], S[j])\n",
    "        w[i] = px / np.sum(px)\n",
    "    # Maximize lower bound of likelihood - M step   \n",
    "    p = np.mean(w, axis = 0)\n",
    "    m = np.matmul(w.T, X) / np.matmul(w.T, np.ones((n, 1)))\n",
    "    S = np.zeros((k, d, d))\n",
    "    for j in range(k):\n",
    "        S[j] = (1/np.sum(w[:, j])) * np.matmul((w[:, j, None]*(X - m[j])).T, (X - m[j]))"
   ]
  },
  {
   "cell_type": "code",
   "execution_count": 10,
   "metadata": {},
   "outputs": [
    {
     "data": {
      "text/plain": [
       "array([[9.07204579, 3.99632055],\n",
       "       [1.04440345, 9.30081019],\n",
       "       [0.13894225, 1.19138703]])"
      ]
     },
     "execution_count": 10,
     "metadata": {},
     "output_type": "execute_result"
    }
   ],
   "source": [
    "# ML mean vectors\n",
    "m"
   ]
  },
  {
   "cell_type": "code",
   "execution_count": 11,
   "metadata": {},
   "outputs": [
    {
     "data": {
      "text/plain": [
       "array([[[ 1.13273017e+00, -1.88942765e-04],\n",
       "        [-1.88942765e-04,  1.14487588e+00]],\n",
       "\n",
       "       [[ 6.29198454e+00, -6.55294593e-01],\n",
       "        [-6.55294593e-01,  5.41496116e+00]],\n",
       "\n",
       "       [[ 3.10483026e+00,  4.97316516e-02],\n",
       "        [ 4.97316516e-02,  3.06246080e+00]]])"
      ]
     },
     "execution_count": 11,
     "metadata": {},
     "output_type": "execute_result"
    }
   ],
   "source": [
    "# ML covariance matrices\n",
    "S"
   ]
  },
  {
   "cell_type": "code",
   "execution_count": 12,
   "metadata": {},
   "outputs": [
    {
     "data": {
      "text/plain": [
       "array([[9.99476924e-01, 5.04623577e-04, 1.84519246e-05],\n",
       "       [5.10318937e-16, 9.88240832e-04, 9.99011759e-01],\n",
       "       [2.77650681e-18, 9.62787714e-04, 9.99037212e-01],\n",
       "       ...,\n",
       "       [9.42959310e-09, 4.67129144e-01, 5.32870846e-01],\n",
       "       [9.99876915e-01, 1.21397239e-04, 1.68756404e-06],\n",
       "       [1.61145424e-14, 1.97924439e-02, 9.80207556e-01]])"
      ]
     },
     "execution_count": 12,
     "metadata": {},
     "output_type": "execute_result"
    }
   ],
   "source": [
    "# posteriors w[i,j] - probability that point i was generated by component j\n",
    "w"
   ]
  },
  {
   "cell_type": "code",
   "execution_count": 13,
   "metadata": {},
   "outputs": [
    {
     "data": {
      "text/plain": [
       "0.982"
      ]
     },
     "execution_count": 13,
     "metadata": {},
     "output_type": "execute_result"
    }
   ],
   "source": [
    "# How accurately the model predicted the components from which the points were drawn\n",
    "acc = np.argmax(w, axis = 1) == w_true\n",
    "acc.astype('float64')\n",
    "np.mean(acc)"
   ]
  }
 ],
 "metadata": {
  "kernelspec": {
   "display_name": "Python 3",
   "language": "python",
   "name": "python3"
  },
  "language_info": {
   "codemirror_mode": {
    "name": "ipython",
    "version": 3
   },
   "file_extension": ".py",
   "mimetype": "text/x-python",
   "name": "python",
   "nbconvert_exporter": "python",
   "pygments_lexer": "ipython3",
   "version": "3.5.4"
  }
 },
 "nbformat": 4,
 "nbformat_minor": 2
}
