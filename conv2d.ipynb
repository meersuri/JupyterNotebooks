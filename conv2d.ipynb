{
 "cells": [
  {
   "cell_type": "code",
   "execution_count": 1,
   "metadata": {},
   "outputs": [],
   "source": [
    "import numpy as np"
   ]
  },
  {
   "cell_type": "code",
   "execution_count": 173,
   "metadata": {},
   "outputs": [],
   "source": [
    "def naive_conv2d(x, filt, stride):\n",
    "    \n",
    "    assert len(x.shape) == 4\n",
    "    assert len(filt.shape) == 4\n",
    "    assert x.shape[1] == filt.shape[2]\n",
    "    \n",
    "    n, c_in, h, w = x.shape\n",
    "    k, _, _, c_out = filt.shape\n",
    "    h_out = (h - k)//stride + 1\n",
    "    w_out = (w - k)//stride + 1\n",
    "    out = np.zeros((n, c_out, h_out, w_out))\n",
    "    \n",
    "    s = stride\n",
    "    for i in range(n):\n",
    "        for co in range(c_out):\n",
    "            for x1 in range(0, h - k + 1, s):\n",
    "                for y1 in range(0, w - k + 1, s):\n",
    "                    pixel = 0\n",
    "                    for m in range(k):\n",
    "                        for n in range(k):\n",
    "                            for ci in range(c_in):\n",
    "                                pixel += x[i, ci, x1 + m, y1 + n]*filt[m, n, ci, co]\n",
    "                    out[i][co][x1//s][y1//s] = pixel\n",
    "    \n",
    "    return out"
   ]
  },
  {
   "cell_type": "code",
   "execution_count": 224,
   "metadata": {},
   "outputs": [],
   "source": [
    "k = 3\n",
    "c_in = 1\n",
    "c_out = 4\n",
    "h = 5\n",
    "w = h\n",
    "n = 2\n",
    "s = 1\n",
    "\n",
    "x = np.random.randint(low=0, high=2, size=(n, c_in, h, w))\n",
    "w = np.random.randn(k, k, c_in, c_out)"
   ]
  },
  {
   "cell_type": "code",
   "execution_count": 225,
   "metadata": {},
   "outputs": [],
   "source": [
    "filt = np.random.randn(k, k, c_in, c_out)\n",
    "out = naive_conv2d(x, filt, 1)"
   ]
  },
  {
   "cell_type": "code",
   "execution_count": 226,
   "metadata": {},
   "outputs": [
    {
     "data": {
      "text/plain": [
       "(2, 4, 3, 3)"
      ]
     },
     "execution_count": 226,
     "metadata": {},
     "output_type": "execute_result"
    }
   ],
   "source": [
    "out.shape"
   ]
  },
  {
   "cell_type": "code",
   "execution_count": 227,
   "metadata": {},
   "outputs": [],
   "source": [
    "def get_patches(x, filt, stride):\n",
    "    assert len(x.shape) == 4\n",
    "    assert len(filt.shape) == 4\n",
    "    assert x.shape[1] == filt.shape[2]\n",
    "    \n",
    "    n, c_in, h, w = x.shape\n",
    "    k, _, _, c_out = filt.shape\n",
    "    h_out = (h - k)//stride + 1\n",
    "    w_out = (w - k)//stride + 1\n",
    "    \n",
    "    s = stride\n",
    "    x_f = np.zeros((n*h_out*w_out, k*k*c_in))\n",
    "    for i in range(n):\n",
    "        for x1 in range(0, h - k + 1, s):\n",
    "            for y1 in range(0, w - k + 1, s):\n",
    "                x_f[y1//s + w_out*x1//s + i*h_out*w_out] = x[i, :, x1:x1+k, y1:y1+k].reshape(1, -1)\n",
    "                \n",
    "    return x_f"
   ]
  },
  {
   "cell_type": "code",
   "execution_count": 228,
   "metadata": {},
   "outputs": [
    {
     "name": "stdout",
     "output_type": "stream",
     "text": [
      "(2, 1, 5, 5) (3, 3, 1, 4)\n"
     ]
    }
   ],
   "source": [
    "print(x.shape, filt.shape)"
   ]
  },
  {
   "cell_type": "code",
   "execution_count": 229,
   "metadata": {},
   "outputs": [
    {
     "data": {
      "text/plain": [
       "(18, 9)"
      ]
     },
     "execution_count": 229,
     "metadata": {},
     "output_type": "execute_result"
    }
   ],
   "source": [
    "x_f = get_patches(x, filt, 1)\n",
    "x_f.shape"
   ]
  },
  {
   "cell_type": "code",
   "execution_count": 230,
   "metadata": {},
   "outputs": [],
   "source": [
    "def matmul_conv2d(x, filt, stride):\n",
    "    \n",
    "    assert len(x.shape) == 4\n",
    "    assert len(filt.shape) == 4\n",
    "    assert x.shape[1] == filt.shape[2]\n",
    "    \n",
    "    n, c_in, h, w = x.shape\n",
    "    k, _, _, c_out = filt.shape\n",
    "    h_out = (h - k)//stride + 1\n",
    "    w_out = (w - k)//stride + 1\n",
    "    \n",
    "    x_f = get_patches(x, filt, stride)\n",
    "    \n",
    "    filt_f = filt.reshape(-1, c_out)\n",
    "    out = np.matmul(x_f, filt_f)\n",
    "    out = out.reshape(n, h_out, w_out, c_out)\n",
    "    out = out.transpose(0, 3, 1, 2)\n",
    "    return (x_f, out)"
   ]
  },
  {
   "cell_type": "code",
   "execution_count": 231,
   "metadata": {},
   "outputs": [
    {
     "data": {
      "text/plain": [
       "(2, 4, 3, 3)"
      ]
     },
     "execution_count": 231,
     "metadata": {},
     "output_type": "execute_result"
    }
   ],
   "source": [
    "stride = 1\n",
    "x_f, mmconv2d_out = matmul_conv2d(x, filt, stride)\n",
    "mmconv2d_out.shape"
   ]
  },
  {
   "cell_type": "code",
   "execution_count": 232,
   "metadata": {},
   "outputs": [
    {
     "data": {
      "text/plain": [
       "(2, 4, 3, 3)"
      ]
     },
     "execution_count": 232,
     "metadata": {},
     "output_type": "execute_result"
    }
   ],
   "source": [
    "nconv2d_out = naive_conv2d(x, filt, 1)\n",
    "nconv2d_out.shape"
   ]
  },
  {
   "cell_type": "code",
   "execution_count": 233,
   "metadata": {},
   "outputs": [
    {
     "data": {
      "text/plain": [
       "True"
      ]
     },
     "execution_count": 233,
     "metadata": {},
     "output_type": "execute_result"
    }
   ],
   "source": [
    "np.allclose(mmconv2d_out, nconv2d_out)"
   ]
  },
  {
   "cell_type": "code",
   "execution_count": 234,
   "metadata": {},
   "outputs": [],
   "source": [
    "class Conv2d:\n",
    "    def __init__(self, kernel_size, in_channels, out_channels, stride):\n",
    "        self.k = kernel_size\n",
    "        self.c_in = in_channels\n",
    "        self.c_out = out_channels\n",
    "        self.s = stride\n",
    "        self.w = 0.01*np.random.randn(self.k, self.k, self.c_in, self.c_out)\n",
    "        \n",
    "    def __call__(self, x):\n",
    "        assert len(x.shape) == 4\n",
    "        assert x.shape[1] == self.c_in\n",
    "        \n",
    "        x_f, out = matmul_conv2d(x, self.w, self.s)\n",
    "        self.x_f = x_f\n",
    "        return out\n",
    "    \n",
    "    def backward(self, G):\n",
    "        grads = {}\n",
    "        grads['w'] = np.matmul(self.x_f.T, G)\n",
    "        grads['x'] = np.matmul(G, self.w.reshape(-1, self.c_out).T)\n",
    "        return grads"
   ]
  },
  {
   "cell_type": "code",
   "execution_count": 235,
   "metadata": {},
   "outputs": [
    {
     "data": {
      "text/plain": [
       "(16, 4, 30, 30)"
      ]
     },
     "execution_count": 235,
     "metadata": {},
     "output_type": "execute_result"
    }
   ],
   "source": [
    "conv1 = Conv2d(3, 1, 4, 1)\n",
    "x = np.random.randn(16, 1, 32, 32)\n",
    "y = conv1(x)\n",
    "y.shape"
   ]
  },
  {
   "cell_type": "code",
   "execution_count": 236,
   "metadata": {},
   "outputs": [],
   "source": [
    "grads = conv1.backward(np.ones((y.shape[0]*y.shape[2]*y.shape[3], y.shape[1])))"
   ]
  },
  {
   "cell_type": "code",
   "execution_count": 237,
   "metadata": {},
   "outputs": [
    {
     "data": {
      "text/plain": [
       "(14400, 9)"
      ]
     },
     "execution_count": 237,
     "metadata": {},
     "output_type": "execute_result"
    }
   ],
   "source": [
    "grads['x'].shape"
   ]
  },
  {
   "cell_type": "code",
   "execution_count": 238,
   "metadata": {},
   "outputs": [
    {
     "data": {
      "text/plain": [
       "(9, 4)"
      ]
     },
     "execution_count": 238,
     "metadata": {},
     "output_type": "execute_result"
    }
   ],
   "source": [
    "grads['w'].shape"
   ]
  },
  {
   "cell_type": "code",
   "execution_count": 239,
   "metadata": {},
   "outputs": [],
   "source": [
    "import torch\n",
    "import torch.nn as nn\n",
    "import time"
   ]
  },
  {
   "cell_type": "code",
   "execution_count": 240,
   "metadata": {},
   "outputs": [],
   "source": [
    "x = np.random.randn(32, 32, 128, 128)\n",
    "conv1 = Conv2d(3, 32, 64, 1)\n",
    "tconv = nn.Conv2d(32, 64, 3, 1)\n",
    "n = 3"
   ]
  },
  {
   "cell_type": "code",
   "execution_count": 241,
   "metadata": {},
   "outputs": [
    {
     "name": "stdout",
     "output_type": "stream",
     "text": [
      "2.5316556294759116\n"
     ]
    }
   ],
   "source": [
    "t1 = time.time()\n",
    "for i in range(n):\n",
    "    out = conv1(x)\n",
    "t2 = time.time()\n",
    "print((t2 - t1)/n)"
   ]
  },
  {
   "cell_type": "code",
   "execution_count": 242,
   "metadata": {},
   "outputs": [
    {
     "name": "stdout",
     "output_type": "stream",
     "text": [
      "0.6896743774414062\n"
     ]
    }
   ],
   "source": [
    "x_t = torch.tensor(x).float()\n",
    "t1 = time.time()\n",
    "for i in range(n):\n",
    "    out = tconv(x_t)\n",
    "t2 = time.time()\n",
    "print((t2 - t1)/n)"
   ]
  }
 ],
 "metadata": {
  "kernelspec": {
   "display_name": "Python 3",
   "language": "python",
   "name": "python3"
  },
  "language_info": {
   "codemirror_mode": {
    "name": "ipython",
    "version": 3
   },
   "file_extension": ".py",
   "mimetype": "text/x-python",
   "name": "python",
   "nbconvert_exporter": "python",
   "pygments_lexer": "ipython3",
   "version": "3.5.4"
  }
 },
 "nbformat": 4,
 "nbformat_minor": 2
}
