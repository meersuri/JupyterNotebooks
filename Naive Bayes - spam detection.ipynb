{
 "cells": [
  {
   "cell_type": "code",
   "execution_count": 1,
   "metadata": {},
   "outputs": [],
   "source": [
    "import io\n",
    "import numpy as np\n",
    "import string\n",
    "import matplotlib.pyplot as plt\n",
    "import re"
   ]
  },
  {
   "cell_type": "code",
   "execution_count": 2,
   "metadata": {},
   "outputs": [],
   "source": [
    "x_data = []\n",
    "y_data = []\n",
    "text = \"\""
   ]
  },
  {
   "cell_type": "code",
   "execution_count": 4,
   "metadata": {},
   "outputs": [],
   "source": [
    "stopwords = ['are','you','your','an','the','to','for','or', 'is', 'a', 'and', 'have', 'from', 'of', 'with', 'on']"
   ]
  },
  {
   "cell_type": "code",
   "execution_count": 5,
   "metadata": {},
   "outputs": [],
   "source": [
    "with open('./spam.csv','r') as f:\n",
    "    for line in f:\n",
    "        if line[0] == 's':\n",
    "            y_data.append(1)\n",
    "            raw_text = line[5:-1]\n",
    "        else:\n",
    "            y_data.append(0)\n",
    "            raw_text = line[4:-1]\n",
    "        punc = string.punctuation\n",
    "        nopunc = \"\"\n",
    "        for i in range(len(punc)):\n",
    "            nopunc += \" \"\n",
    "        punc2space_table = str.maketrans(punc,nopunc)\n",
    "        translator = str.maketrans('', '', string.punctuation)\n",
    "#        nopunc_text = raw_text.translate(table)\n",
    "        nopunc_text = raw_text.translate(punc2space_table)\n",
    "\n",
    "        clean_text = str.lower(nopunc_text)\n",
    "        clean_text = re.sub(' +',' ',clean_text)\n",
    "        nostopwords_text = ''\n",
    "        word_text = clean_text.split()\n",
    "        for word in word_text:\n",
    "            if not(word in stopwords):\n",
    "                nostopwords_text = nostopwords_text + word + ' '\n",
    "        clean_text = nostopwords_text\n",
    "        x_data.append(clean_text)\n",
    "        text = text+clean_text"
   ]
  },
  {
   "cell_type": "code",
   "execution_count": 6,
   "metadata": {},
   "outputs": [],
   "source": [
    "y_data = np.array(y_data)\n",
    "\n",
    "M = int(len(x_data)*0.7)\n",
    "\n",
    "x_train = x_data[:M]\n",
    "y_train = y_data[:M]\n",
    "\n",
    "x_test = x_data[M:]\n",
    "y_test = y_data[M:]"
   ]
  },
  {
   "cell_type": "code",
   "execution_count": 7,
   "metadata": {},
   "outputs": [],
   "source": [
    "word_text = text.split()\n",
    "vocab = set(word_text)\n",
    "vocab_to_int = { c : i for i , c in enumerate (vocab)}\n",
    "int_to_vocab = dict(enumerate(vocab))\n",
    "V = len(vocab)"
   ]
  },
  {
   "cell_type": "code",
   "execution_count": 8,
   "metadata": {},
   "outputs": [],
   "source": [
    "spam_prior = np.size(np.nonzero(y_train)[0])/M\n",
    "mult_probs_spam = np.zeros((V,1))\n",
    "mult_probs_ham = np.zeros((V,1))"
   ]
  },
  {
   "cell_type": "code",
   "execution_count": 9,
   "metadata": {},
   "outputs": [],
   "source": [
    "for i in range(M):\n",
    "    word_text = x_train[i].split()\n",
    "    n = len(word_text)\n",
    "    for j in range(n):\n",
    "        for k in range(V):\n",
    "            if vocab_to_int[word_text[j]] == k and y_train[i] == 1:\n",
    "                mult_probs_spam[k] += 1\n",
    "            elif vocab_to_int[word_text[j]] == k and y_train[i] == 0:\n",
    "                mult_probs_ham[k] += 1"
   ]
  },
  {
   "cell_type": "code",
   "execution_count": 13,
   "metadata": {},
   "outputs": [],
   "source": [
    "nsum_spam = 0\n",
    "nsum_ham = 0"
   ]
  },
  {
   "cell_type": "code",
   "execution_count": 14,
   "metadata": {},
   "outputs": [],
   "source": [
    "for i in range(M):\n",
    "    word_text = x_train[i].split()\n",
    "    n = len(word_text)\n",
    "    if y_train[i] == 1:\n",
    "        nsum_spam += n\n",
    "    else:\n",
    "        nsum_ham += n"
   ]
  },
  {
   "cell_type": "code",
   "execution_count": 15,
   "metadata": {},
   "outputs": [],
   "source": [
    "mult_probs_spam = (mult_probs_spam + 1)/(nsum_spam + V)\n",
    "mult_probs_ham = (mult_probs_ham + 1)/(nsum_ham + V)"
   ]
  },
  {
   "cell_type": "code",
   "execution_count": 32,
   "metadata": {},
   "outputs": [
    {
     "data": {
      "text/plain": [
       "(1674,)"
      ]
     },
     "execution_count": 32,
     "metadata": {},
     "output_type": "execute_result"
    }
   ],
   "source": [
    "y_test.shape"
   ]
  },
  {
   "cell_type": "code",
   "execution_count": 33,
   "metadata": {},
   "outputs": [
    {
     "data": {
      "text/plain": [
       "(1673,)"
      ]
     },
     "execution_count": 33,
     "metadata": {},
     "output_type": "execute_result"
    }
   ],
   "source": [
    "np.squeeze(y_pred).shape"
   ]
  },
  {
   "cell_type": "code",
   "execution_count": 42,
   "metadata": {},
   "outputs": [
    {
     "name": "stdout",
     "output_type": "stream",
     "text": [
      "test accuracy = 0.858338\n"
     ]
    },
    {
     "name": "stderr",
     "output_type": "stream",
     "text": [
      "C:\\Users\\Lab716A-PC\\AppData\\Local\\conda\\conda\\envs\\py35\\lib\\site-packages\\ipykernel_launcher.py:12: RuntimeWarning: invalid value encountered in true_divide\n",
      "  if sys.path[0] == '':\n",
      "C:\\Users\\Lab716A-PC\\AppData\\Local\\conda\\conda\\envs\\py35\\lib\\site-packages\\ipykernel_launcher.py:14: RuntimeWarning: invalid value encountered in greater\n",
      "  \n"
     ]
    }
   ],
   "source": [
    "M = len(x_test)\n",
    "y_test = y_test[:M]\n",
    "y_pred = np.ones((M,1))\n",
    "for i in range(M):\n",
    "    word_text = x_test[i].split()\n",
    "    n = len(word_text)\n",
    "    spam_prob = np.log(spam_prior)\n",
    "    ham_prob = np.log(1 - spam_prior)\n",
    "    for j in range(n):\n",
    "        spam_prob +=  np.log(mult_probs_spam[vocab_to_int[word_text[j]]])\n",
    "        ham_prob += np.log(mult_probs_ham[vocab_to_int[word_text[j]]])\n",
    "    spam_posterior = np.exp(spam_prob)/(np.exp(spam_prob) + np.exp(ham_prob))\n",
    "    ham_posterior = 1 - spam_posterior\n",
    "    if spam_posterior > ham_posterior:\n",
    "        y_pred[i] = 0\n",
    "\n",
    "test_acc = np.size(np.nonzero(y_test[:,None] == y_pred)[0])/M\n",
    "print('test accuracy = %f'%(test_acc))"
   ]
  }
 ],
 "metadata": {
  "kernelspec": {
   "display_name": "Python 3",
   "language": "python",
   "name": "python3"
  },
  "language_info": {
   "codemirror_mode": {
    "name": "ipython",
    "version": 3
   },
   "file_extension": ".py",
   "mimetype": "text/x-python",
   "name": "python",
   "nbconvert_exporter": "python",
   "pygments_lexer": "ipython3",
   "version": "3.5.4"
  }
 },
 "nbformat": 4,
 "nbformat_minor": 2
}
