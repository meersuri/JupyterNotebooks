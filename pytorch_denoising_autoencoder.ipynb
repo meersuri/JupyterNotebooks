{
 "cells": [
  {
   "cell_type": "markdown",
   "metadata": {},
   "source": [
    "Learning pytorch and an experiment on denoising autoencoders"
   ]
  },
  {
   "cell_type": "code",
   "execution_count": 1,
   "metadata": {},
   "outputs": [],
   "source": [
    "import numpy as np\n",
    "import torch\n",
    "import torchvision\n",
    "import time\n",
    "import torch.nn as nn\n",
    "import torch.nn.functional as F\n",
    "import torch.optim as optim\n",
    "import torchvision.transforms as transforms\n",
    "import matplotlib.pyplot as plt"
   ]
  },
  {
   "cell_type": "code",
   "execution_count": 2,
   "metadata": {},
   "outputs": [
    {
     "name": "stdout",
     "output_type": "stream",
     "text": [
      "tensor([[[0.3686, 0.4137, 0.4620, 0.5548, 0.9061],\n",
      "         [0.9565, 0.7600, 0.7523, 0.6103, 0.9009],\n",
      "         [0.1548, 0.8854, 0.9694, 0.5675, 0.5036],\n",
      "         [0.2580, 0.4390, 0.5583, 0.3861, 0.0864],\n",
      "         [0.6476, 0.7712, 0.8084, 0.9750, 0.7844]],\n",
      "\n",
      "        [[0.9043, 0.3513, 0.5989, 0.7622, 0.1394],\n",
      "         [0.4372, 0.2649, 0.0557, 0.2791, 0.9522],\n",
      "         [0.2231, 0.9392, 0.8689, 0.9826, 0.6329],\n",
      "         [0.9808, 0.9599, 0.6188, 0.5319, 0.6604],\n",
      "         [0.2487, 0.6015, 0.3674, 0.8622, 0.1532]],\n",
      "\n",
      "        [[0.6467, 0.2085, 0.4745, 0.9227, 0.0658],\n",
      "         [0.4432, 0.1299, 0.2646, 0.7239, 0.4092],\n",
      "         [0.5613, 0.9190, 0.8288, 0.7517, 0.0344],\n",
      "         [0.9021, 0.0998, 0.1854, 0.9885, 0.9552],\n",
      "         [0.6464, 0.7281, 0.8556, 0.0849, 0.0614]],\n",
      "\n",
      "        [[0.7756, 0.0035, 0.2323, 0.0901, 0.6325],\n",
      "         [0.1452, 0.7946, 0.8524, 0.2291, 0.0374],\n",
      "         [0.7708, 0.1428, 0.2647, 0.1356, 0.0707],\n",
      "         [0.7984, 0.2290, 0.5820, 0.1514, 0.4054],\n",
      "         [0.4048, 0.4240, 0.2424, 0.0908, 0.8560]],\n",
      "\n",
      "        [[0.0988, 0.2815, 0.7257, 0.0728, 0.0791],\n",
      "         [0.8877, 0.3790, 0.3138, 0.3636, 0.1237],\n",
      "         [0.6080, 0.3393, 0.4605, 0.9233, 0.4851],\n",
      "         [0.0809, 0.4617, 0.8228, 0.4298, 0.2154],\n",
      "         [0.3677, 0.5520, 0.1858, 0.2422, 0.7103]]])\n"
     ]
    }
   ],
   "source": [
    "x = torch.rand(5, 5, 5)\n",
    "print(x)"
   ]
  },
  {
   "cell_type": "code",
   "execution_count": 5,
   "metadata": {},
   "outputs": [
    {
     "data": {
      "text/plain": [
       "torch.Size([5, 5, 5])"
      ]
     },
     "execution_count": 5,
     "metadata": {},
     "output_type": "execute_result"
    }
   ],
   "source": [
    "x.size()"
   ]
  },
  {
   "cell_type": "code",
   "execution_count": 6,
   "metadata": {
    "collapsed": true
   },
   "outputs": [
    {
     "data": {
      "text/plain": [
       "tensor([[0.3000, 0.0210, 0.8710, 0.5552, 0.9482],\n",
       "        [0.2811, 0.7825, 0.3574, 0.4456, 0.5085],\n",
       "        [0.0207, 0.1845, 0.1318, 0.1385, 0.0191],\n",
       "        [0.6576, 0.9688, 0.0794, 0.6047, 0.8560],\n",
       "        [0.1410, 0.4178, 0.6317, 0.1815, 0.3526],\n",
       "        [0.5689, 0.2904, 0.7580, 0.0463, 0.2372],\n",
       "        [0.4719, 0.3142, 0.1094, 0.9083, 0.8728],\n",
       "        [0.1724, 0.0254, 0.6684, 0.8099, 0.8835],\n",
       "        [0.9916, 0.9341, 0.0269, 0.0042, 0.3970],\n",
       "        [0.8719, 0.1148, 0.0102, 0.6787, 0.0249],\n",
       "        [0.9064, 0.7817, 0.3404, 0.6689, 0.1033],\n",
       "        [0.5208, 0.6700, 0.4030, 0.3707, 0.1618],\n",
       "        [0.1223, 0.0552, 0.7338, 0.8261, 0.6486],\n",
       "        [0.8522, 0.3554, 0.0835, 0.2575, 0.3160],\n",
       "        [0.6597, 0.5491, 0.5451, 0.7546, 0.2171],\n",
       "        [0.0855, 0.6388, 0.6713, 0.7549, 0.3723],\n",
       "        [0.9430, 0.9047, 0.7433, 0.8827, 0.1861],\n",
       "        [0.9990, 0.1268, 0.5106, 0.6171, 0.8684],\n",
       "        [0.8130, 0.6549, 0.2901, 0.3076, 0.4009],\n",
       "        [0.3773, 0.4786, 0.9814, 0.1294, 0.2874],\n",
       "        [0.2780, 0.0494, 0.4267, 0.8979, 0.1225],\n",
       "        [0.1579, 0.9918, 0.8093, 0.5338, 0.2642],\n",
       "        [0.6882, 0.1512, 0.7639, 0.8251, 0.9023],\n",
       "        [0.9894, 0.7485, 0.2836, 0.4833, 0.9630],\n",
       "        [0.7075, 0.8524, 0.2819, 0.2613, 0.5887]])"
      ]
     },
     "execution_count": 6,
     "metadata": {},
     "output_type": "execute_result"
    }
   ],
   "source": [
    "x.view([-1, 5])"
   ]
  },
  {
   "cell_type": "code",
   "execution_count": 8,
   "metadata": {},
   "outputs": [
    {
     "name": "stdout",
     "output_type": "stream",
     "text": [
      "tensor([[0., 0., 0., 0., 0., 0., 0., 0., 0., 0.],\n",
      "        [0., 0., 0., 0., 0., 0., 0., 0., 0., 0.],\n",
      "        [0., 0., 0., 0., 0., 0., 0., 0., 0., 0.],\n",
      "        [0., 0., 0., 0., 0., 0., 0., 0., 0., 0.],\n",
      "        [0., 0., 0., 0., 0., 0., 0., 0., 0., 0.]], dtype=torch.float64)\n"
     ]
    }
   ],
   "source": [
    "c = np.zeros((5, 10))\n",
    "d = torch.from_numpy(c)\n",
    "print(d)"
   ]
  },
  {
   "cell_type": "code",
   "execution_count": 9,
   "metadata": {},
   "outputs": [
    {
     "data": {
      "text/plain": [
       "True"
      ]
     },
     "execution_count": 9,
     "metadata": {},
     "output_type": "execute_result"
    }
   ],
   "source": [
    "torch.cuda.is_available()"
   ]
  },
  {
   "cell_type": "code",
   "execution_count": 34,
   "metadata": {},
   "outputs": [],
   "source": [
    "device = torch.device(\"cuda\")"
   ]
  },
  {
   "cell_type": "code",
   "execution_count": 30,
   "metadata": {},
   "outputs": [],
   "source": [
    "n = 10000\n",
    "m = 1000\n",
    "d = m\n",
    "p = 1000\n",
    "x = np.random.rand(n, m)\n",
    "y = np.random.rand(d, p)"
   ]
  },
  {
   "cell_type": "code",
   "execution_count": 41,
   "metadata": {},
   "outputs": [
    {
     "name": "stdout",
     "output_type": "stream",
     "text": [
      "avg time = 213.556 ms\n"
     ]
    }
   ],
   "source": [
    "t0 = time.perf_counter()\n",
    "for i in range(10):\n",
    "    z = np.matmul(x, y)\n",
    "t1 = time.perf_counter()\n",
    "avg = (t1 - t0)/10\n",
    "print('avg time = {:.3f} ms'.format(avg*1e3))"
   ]
  },
  {
   "cell_type": "code",
   "execution_count": 35,
   "metadata": {},
   "outputs": [],
   "source": [
    "xc = torch.from_numpy(x)\n",
    "xc = xc.to(device)\n",
    "yc = torch.from_numpy(y)\n",
    "yc = yc.to(device)"
   ]
  },
  {
   "cell_type": "code",
   "execution_count": 43,
   "metadata": {},
   "outputs": [
    {
     "name": "stdout",
     "output_type": "stream",
     "text": [
      "avg time = 0.210 ms\n"
     ]
    }
   ],
   "source": [
    "t0 = time.perf_counter()\n",
    "for i in range(10):\n",
    "    z = torch.matmul(xc, yc)\n",
    "t1 = time.perf_counter()\n",
    "avg = (t1 - t0)/10\n",
    "print('avg time = {:.3f} ms'.format(avg*1e3))"
   ]
  },
  {
   "cell_type": "code",
   "execution_count": 77,
   "metadata": {},
   "outputs": [],
   "source": [
    "x = torch.rand(5, 1, device = device, requires_grad = True)\n",
    "y = x**2\n",
    "z = y.mean()"
   ]
  },
  {
   "cell_type": "code",
   "execution_count": 78,
   "metadata": {},
   "outputs": [],
   "source": [
    "z.backward()"
   ]
  },
  {
   "cell_type": "code",
   "execution_count": 79,
   "metadata": {},
   "outputs": [
    {
     "data": {
      "text/plain": [
       "tensor([[0.0079],\n",
       "        [0.3794],\n",
       "        [0.0136],\n",
       "        [0.1987],\n",
       "        [0.3667]], device='cuda:0')"
      ]
     },
     "execution_count": 79,
     "metadata": {},
     "output_type": "execute_result"
    }
   ],
   "source": [
    "x.grad"
   ]
  },
  {
   "cell_type": "code",
   "execution_count": 4,
   "metadata": {},
   "outputs": [
    {
     "name": "stdout",
     "output_type": "stream",
     "text": [
      "torch.Size([4, 16, 16, 16])\n"
     ]
    }
   ],
   "source": [
    "x = torch.randn((4,32,16,16))\n",
    "tconv = nn.ConvTranspose2d(32, 16, 3, padding = (1, 1))\n",
    "y = tconv(x)\n",
    "print(y.shape)"
   ]
  },
  {
   "cell_type": "code",
   "execution_count": 62,
   "metadata": {},
   "outputs": [],
   "source": [
    "class DAE(nn.Module):\n",
    "    \n",
    "    def __init__(self):\n",
    "        super(DAE, self).__init__()\n",
    "        self.conv1 = nn.Conv2d(1, 32, 3, padding=(1, 1))\n",
    "        self.pool1 = nn.MaxPool2d(2, return_indices=True)\n",
    "        self.conv2 = nn.Conv2d(32, 32, 3, padding=(1, 1))\n",
    "        self.tconv1 = nn.ConvTranspose2d(32, 32, 3, padding = (1, 1))\n",
    "        self.unpool1 = nn.MaxUnpool2d((2, 2))\n",
    "        self.tconv2 = nn.ConvTranspose2d(32, 1, 3, padding = (1, 1))\n",
    "    \n",
    "    def forward(self, x):\n",
    "        x = F.relu(self.conv1(x))\n",
    "        x, indices = self.pool1(x)\n",
    "        x = F.relu(self.conv2(x))\n",
    "        x = F.relu(self.tconv1(x))\n",
    "        x = self.unpool1(x, indices)\n",
    "        x = F.relu(self.tconv2(x))\n",
    "        return x\n",
    "        "
   ]
  },
  {
   "cell_type": "code",
   "execution_count": 85,
   "metadata": {},
   "outputs": [],
   "source": [
    "transform = transforms.Compose(\n",
    "    [transforms.ToTensor()])"
   ]
  },
  {
   "cell_type": "code",
   "execution_count": 86,
   "metadata": {},
   "outputs": [],
   "source": [
    "train_dataset = torchvision.datasets.MNIST(root = './', \n",
    "                                           train = True,\n",
    "                                           download = True,\n",
    "                                           transform = transform)"
   ]
  },
  {
   "cell_type": "code",
   "execution_count": 87,
   "metadata": {},
   "outputs": [],
   "source": [
    "batch_size = 32\n",
    "train_loader = torch.utils.data.DataLoader(train_dataset,\n",
    "                                     batch_size=batch_size,\n",
    "                                     shuffle=True,\n",
    "                                     num_workers=2,\n",
    "                                     pin_memory=True)"
   ]
  },
  {
   "cell_type": "code",
   "execution_count": 104,
   "metadata": {},
   "outputs": [
    {
     "data": {
      "text/plain": [
       "DAE(\n",
       "  (conv1): Conv2d(1, 32, kernel_size=(3, 3), stride=(1, 1), padding=(1, 1))\n",
       "  (pool1): MaxPool2d(kernel_size=2, stride=2, padding=0, dilation=1, ceil_mode=False)\n",
       "  (conv2): Conv2d(32, 32, kernel_size=(3, 3), stride=(1, 1), padding=(1, 1))\n",
       "  (tconv1): ConvTranspose2d(32, 32, kernel_size=(3, 3), stride=(1, 1), padding=(1, 1))\n",
       "  (unpool1): MaxUnpool2d(kernel_size=(2, 2), stride=(2, 2), padding=(0, 0))\n",
       "  (tconv2): ConvTranspose2d(32, 1, kernel_size=(3, 3), stride=(1, 1), padding=(1, 1))\n",
       ")"
      ]
     },
     "execution_count": 104,
     "metadata": {},
     "output_type": "execute_result"
    }
   ],
   "source": [
    "model = DAE()\n",
    "device = torch.device(\"cuda\")\n",
    "model.to(device)"
   ]
  },
  {
   "cell_type": "code",
   "execution_count": 105,
   "metadata": {},
   "outputs": [],
   "source": [
    "criterion = nn.MSELoss()\n",
    "optimizer = optim.SGD(model.parameters(), lr=1e-4, momentum=0.9, weight_decay = 0)"
   ]
  },
  {
   "cell_type": "code",
   "execution_count": 106,
   "metadata": {
    "scrolled": true
   },
   "outputs": [
    {
     "name": "stdout",
     "output_type": "stream",
     "text": [
      "epoch = 0, iter = 0, loss = 0.1060137003660202\n",
      "epoch = 0, iter = 100, loss = 0.10570366680622101\n",
      "epoch = 0, iter = 200, loss = 0.09019365161657333\n",
      "epoch = 0, iter = 300, loss = 0.09244218468666077\n",
      "epoch = 0, iter = 400, loss = 0.08206967264413834\n",
      "epoch = 0, iter = 500, loss = 0.08347464352846146\n",
      "epoch = 0, iter = 600, loss = 0.06980297714471817\n",
      "epoch = 0, iter = 700, loss = 0.07513720542192459\n",
      "epoch = 0, iter = 800, loss = 0.06402046978473663\n",
      "epoch = 0, iter = 900, loss = 0.06384697556495667\n",
      "epoch = 0, iter = 1000, loss = 0.057631779462099075\n",
      "epoch = 0, iter = 1100, loss = 0.05752367526292801\n",
      "epoch = 0, iter = 1200, loss = 0.052765969187021255\n",
      "epoch = 0, iter = 1300, loss = 0.05028824508190155\n",
      "epoch = 0, iter = 1400, loss = 0.051780816167593\n",
      "epoch = 0, iter = 1500, loss = 0.04883857071399689\n",
      "epoch = 0, iter = 1600, loss = 0.04740605503320694\n",
      "epoch = 0, iter = 1700, loss = 0.05006725341081619\n",
      "epoch = 0, iter = 1800, loss = 0.0431852862238884\n",
      "epoch = 1, iter = 0, loss = 0.04476874694228172\n",
      "epoch = 1, iter = 100, loss = 0.04649980738759041\n",
      "epoch = 1, iter = 200, loss = 0.041620783507823944\n",
      "epoch = 1, iter = 300, loss = 0.041714154183864594\n",
      "epoch = 1, iter = 400, loss = 0.03839452564716339\n",
      "epoch = 1, iter = 500, loss = 0.03922508284449577\n",
      "epoch = 1, iter = 600, loss = 0.04266757518053055\n",
      "epoch = 1, iter = 700, loss = 0.037192996591329575\n",
      "epoch = 1, iter = 800, loss = 0.03485441580414772\n",
      "epoch = 1, iter = 900, loss = 0.03831086680293083\n",
      "epoch = 1, iter = 1000, loss = 0.034158144146203995\n",
      "epoch = 1, iter = 1100, loss = 0.03179437294602394\n",
      "epoch = 1, iter = 1200, loss = 0.03581995144486427\n",
      "epoch = 1, iter = 1300, loss = 0.03982669487595558\n",
      "epoch = 1, iter = 1400, loss = 0.03595569357275963\n",
      "epoch = 1, iter = 1500, loss = 0.035600002855062485\n",
      "epoch = 1, iter = 1600, loss = 0.03509604558348656\n",
      "epoch = 1, iter = 1700, loss = 0.03193047270178795\n",
      "epoch = 1, iter = 1800, loss = 0.03211715817451477\n",
      "epoch = 2, iter = 0, loss = 0.03135457634925842\n",
      "epoch = 2, iter = 100, loss = 0.03308080509305\n",
      "epoch = 2, iter = 200, loss = 0.031833622604608536\n",
      "epoch = 2, iter = 300, loss = 0.031823255121707916\n",
      "epoch = 2, iter = 400, loss = 0.03208108991384506\n",
      "epoch = 2, iter = 500, loss = 0.03121166303753853\n",
      "epoch = 2, iter = 600, loss = 0.030926745384931564\n",
      "epoch = 2, iter = 700, loss = 0.029977550730109215\n",
      "epoch = 2, iter = 800, loss = 0.03161551430821419\n",
      "epoch = 2, iter = 900, loss = 0.029812783002853394\n",
      "epoch = 2, iter = 1000, loss = 0.030564887449145317\n",
      "epoch = 2, iter = 1100, loss = 0.027878552675247192\n",
      "epoch = 2, iter = 1200, loss = 0.029736200347542763\n",
      "epoch = 2, iter = 1300, loss = 0.028602570295333862\n",
      "epoch = 2, iter = 1400, loss = 0.03164566680788994\n",
      "epoch = 2, iter = 1500, loss = 0.02944072149693966\n",
      "epoch = 2, iter = 1600, loss = 0.03070683777332306\n",
      "epoch = 2, iter = 1700, loss = 0.031138155609369278\n",
      "epoch = 2, iter = 1800, loss = 0.030931813642382622\n",
      "epoch = 3, iter = 0, loss = 0.028532061725854874\n",
      "epoch = 3, iter = 100, loss = 0.028111916035413742\n",
      "epoch = 3, iter = 200, loss = 0.027837179601192474\n",
      "epoch = 3, iter = 300, loss = 0.027558717876672745\n",
      "epoch = 3, iter = 400, loss = 0.027823710814118385\n",
      "epoch = 3, iter = 500, loss = 0.026524605229496956\n",
      "epoch = 3, iter = 600, loss = 0.02629491500556469\n",
      "epoch = 3, iter = 700, loss = 0.026574037969112396\n",
      "epoch = 3, iter = 800, loss = 0.026830989867448807\n",
      "epoch = 3, iter = 900, loss = 0.02609187178313732\n",
      "epoch = 3, iter = 1000, loss = 0.029165102168917656\n",
      "epoch = 3, iter = 1100, loss = 0.02465994469821453\n",
      "epoch = 3, iter = 1200, loss = 0.02526693418622017\n",
      "epoch = 3, iter = 1300, loss = 0.026481948792934418\n",
      "epoch = 3, iter = 1400, loss = 0.0259281937032938\n",
      "epoch = 3, iter = 1500, loss = 0.026510706171393394\n",
      "epoch = 3, iter = 1600, loss = 0.026553917676210403\n",
      "epoch = 3, iter = 1700, loss = 0.024882333353161812\n",
      "epoch = 3, iter = 1800, loss = 0.02528209052979946\n",
      "epoch = 4, iter = 0, loss = 0.026004495099186897\n",
      "epoch = 4, iter = 100, loss = 0.025596318766474724\n",
      "epoch = 4, iter = 200, loss = 0.02431672252714634\n",
      "epoch = 4, iter = 300, loss = 0.023028215393424034\n",
      "epoch = 4, iter = 400, loss = 0.024514855816960335\n",
      "epoch = 4, iter = 500, loss = 0.024649834260344505\n",
      "epoch = 4, iter = 600, loss = 0.024770215153694153\n",
      "epoch = 4, iter = 700, loss = 0.02277395874261856\n",
      "epoch = 4, iter = 800, loss = 0.022991903126239777\n",
      "epoch = 4, iter = 900, loss = 0.025790762156248093\n",
      "epoch = 4, iter = 1000, loss = 0.025974299758672714\n",
      "epoch = 4, iter = 1100, loss = 0.024977490305900574\n",
      "epoch = 4, iter = 1200, loss = 0.02539242058992386\n",
      "epoch = 4, iter = 1300, loss = 0.02340618148446083\n",
      "epoch = 4, iter = 1400, loss = 0.022999944165349007\n",
      "epoch = 4, iter = 1500, loss = 0.022599533200263977\n",
      "epoch = 4, iter = 1600, loss = 0.02204449102282524\n",
      "epoch = 4, iter = 1700, loss = 0.022736065089702606\n",
      "epoch = 4, iter = 1800, loss = 0.02425215393304825\n"
     ]
    }
   ],
   "source": [
    "train_loss = []\n",
    "n_epochs = 5\n",
    "eps = 0.1\n",
    "for e in range(n_epochs):\n",
    "    for i, batch in enumerate(train_loader):\n",
    "        data, labels = batch\n",
    "        labels = data[:]\n",
    "        data = data + eps*torch.randn_like(data)\n",
    "        data = data.to(device)\n",
    "        labels = labels.to(device)\n",
    "\n",
    "        optimizer.zero_grad()\n",
    "        out = model(data)\n",
    "\n",
    "        loss = criterion(out, labels)\n",
    "        loss.backward()\n",
    "        optimizer.step()\n",
    "        loss_val = loss.item()\n",
    "        train_loss.append(loss_val)\n",
    "\n",
    "        if i % 100 == 0:\n",
    "            print('epoch = {}, iter = {}, loss = {}'.format(e, i, loss_val))\n",
    "    "
   ]
  },
  {
   "cell_type": "code",
   "execution_count": 107,
   "metadata": {
    "collapsed": true
   },
   "outputs": [
    {
     "data": {
      "text/plain": [
       "[<matplotlib.lines.Line2D at 0x1e453f71240>]"
      ]
     },
     "execution_count": 107,
     "metadata": {},
     "output_type": "execute_result"
    },
    {
     "data": {
      "image/png": "[encoded data removed]",
      "text/plain": [
       "<matplotlib.figure.Figure at 0x1e4540b1a90>"
      ]
     },
     "metadata": {},
     "output_type": "display_data"
    }
   ],
   "source": [
    "plt.figure()\n",
    "plt.plot(train_loss)"
   ]
  },
  {
   "cell_type": "code",
   "execution_count": 11,
   "metadata": {},
   "outputs": [],
   "source": [
    "data, labels = next(iter(train_loader))"
   ]
  },
  {
   "cell_type": "code",
   "execution_count": 108,
   "metadata": {},
   "outputs": [
    {
     "data": {
      "text/plain": [
       "(32, 1, 28, 28)"
      ]
     },
     "execution_count": 108,
     "metadata": {},
     "output_type": "execute_result"
    }
   ],
   "source": [
    "data = data.to(device)\n",
    "out = model(data)\n",
    "out = out.cpu().detach().numpy()\n",
    "out.shape"
   ]
  },
  {
   "cell_type": "code",
   "execution_count": 109,
   "metadata": {},
   "outputs": [
    {
     "data": {
      "image/png": "[encoded data removed]",
      "text/plain": [
       "<matplotlib.figure.Figure at 0x1e4540a0c88>"
      ]
     },
     "metadata": {},
     "output_type": "display_data"
    }
   ],
   "source": [
    "n = 5\n",
    "for i in range(n):\n",
    "    img = out[i]\n",
    "    img = np.reshape(img, (28, 28))\n",
    "    plt.subplot(1, n, i + 1)\n",
    "    plt.imshow(img, cmap = 'gray')"
   ]
  },
  {
   "cell_type": "code",
   "execution_count": 110,
   "metadata": {},
   "outputs": [
    {
     "data": {
      "image/png": "[encoded data removed]",
      "text/plain": [
       "<matplotlib.figure.Figure at 0x1e40642e9e8>"
      ]
     },
     "metadata": {},
     "output_type": "display_data"
    }
   ],
   "source": [
    "n = 5\n",
    "for i in range(n):\n",
    "    img = labels[i].cpu().detach().numpy()\n",
    "    img = np.reshape(img, (28, 28))\n",
    "    plt.subplot(1, n, i + 1)\n",
    "    plt.imshow(img, cmap = 'gray')"
   ]
  },
  {
   "cell_type": "code",
   "execution_count": 111,
   "metadata": {},
   "outputs": [
    {
     "data": {
      "image/png": "[encoded data removed]",
      "text/plain": [
       "<matplotlib.figure.Figure at 0x1e454004eb8>"
      ]
     },
     "metadata": {},
     "output_type": "display_data"
    }
   ],
   "source": [
    "n = 5\n",
    "for i in range(n):\n",
    "    img = data[i].cpu().detach().numpy()\n",
    "    img = np.reshape(img, (28, 28))\n",
    "    plt.subplot(1, n, i + 1)\n",
    "    plt.imshow(img, cmap = 'gray')"
   ]
  },
  {
   "cell_type": "code",
   "execution_count": null,
   "metadata": {},
   "outputs": [],
   "source": []
  }
 ],
 "metadata": {
  "kernelspec": {
   "display_name": "Python 3",
   "language": "python",
   "name": "python3"
  },
  "language_info": {
   "codemirror_mode": {
    "name": "ipython",
    "version": 3
   },
   "file_extension": ".py",
   "mimetype": "text/x-python",
   "name": "python",
   "nbconvert_exporter": "python",
   "pygments_lexer": "ipython3",
   "version": "3.5.4"
  }
 },
 "nbformat": 4,
 "nbformat_minor": 2
}
