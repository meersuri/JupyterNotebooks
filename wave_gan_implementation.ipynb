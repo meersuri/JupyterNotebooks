{
 "cells": [
  {
   "cell_type": "code",
   "execution_count": 1,
   "metadata": {},
   "outputs": [],
   "source": [
    "import numpy as np\n",
    "import torch\n",
    "import torchvision\n",
    "import torch.nn as nn\n",
    "import torch.nn.functional as F\n",
    "import torch.optim as optim\n",
    "import torchvision.transforms as transforms\n",
    "from torch.autograd import grad\n",
    "import matplotlib.pyplot as plt\n",
    "import os\n",
    "import wave\n",
    "import struct"
   ]
  },
  {
   "cell_type": "code",
   "execution_count": 2,
   "metadata": {},
   "outputs": [],
   "source": [
    "device = torch.device(\"cuda:0\" if torch.cuda.is_available() else \"cpu\")"
   ]
  },
  {
   "cell_type": "code",
   "execution_count": 64,
   "metadata": {},
   "outputs": [],
   "source": [
    "class Generator(nn.Module):\n",
    "    def __init__(self, d):\n",
    "        super(Generator, self).__init__()\n",
    "        self.d = d\n",
    "        self.linear1 = nn.Linear(100, 256*d)\n",
    "        self.tconv1 = nn.ConvTranspose1d(16*d, 8*d, 25, stride = 4, padding = 3)\n",
    "        self.tconv2 = nn.ConvTranspose1d(8*d, 4*d, 25, stride = 4, padding = 3)\n",
    "        self.tconv3 = nn.ConvTranspose1d(4*d, 2*d, 25, stride = 4, padding = 0)\n",
    "        self.tconv4 = nn.ConvTranspose1d(2*d, d, 25, stride = 4, padding = 0)\n",
    "        self.tconv5 = nn.ConvTranspose1d(d, 1, 25, stride = 3, padding = 0, output_padding = 1)\n",
    "    \n",
    "    def forward(self, x):\n",
    "        out = self.linear1(x)\n",
    "        out = F.relu(out.reshape(-1, 16*self.d, 16))\n",
    "        out = F.relu(self.tconv1(out))\n",
    "        out = F.relu(self.tconv2(out))\n",
    "        out = F.relu(self.tconv3(out))\n",
    "        out = F.relu(self.tconv4(out))\n",
    "        out = F.relu(self.tconv5(out))\n",
    "        out = torch.tanh(out)\n",
    "        return out"
   ]
  },
  {
   "cell_type": "code",
   "execution_count": 66,
   "metadata": {},
   "outputs": [
    {
     "name": "stdout",
     "output_type": "stream",
     "text": [
      "torch.Size([8, 1, 16226])\n"
     ]
    }
   ],
   "source": [
    "# G = nn.ConvTranspose1d(1, 2, 25, stride = 4, dilation = 1, padding = 4)\n",
    "G = Generator(16)\n",
    "x = torch.rand(8, 100, dtype = torch.float32)\n",
    "G_x = G(x)\n",
    "print(G_x.shape)"
   ]
  },
  {
   "cell_type": "code",
   "execution_count": 130,
   "metadata": {},
   "outputs": [],
   "source": [
    "class Discriminator(nn.Module):\n",
    "    def __init__(self, d):\n",
    "        super(Discriminator, self).__init__()\n",
    "        self.d = d\n",
    "        self.conv1 = nn.Conv1d(1, d, 25, stride = 3, padding = 4)\n",
    "        self.conv2 = nn.Conv1d(d, 2*d, 25, stride = 4, padding = 4)\n",
    "        self.conv3 = nn.Conv1d(2*d, 4*d, 25, stride = 4, padding = 4)\n",
    "        self.conv4 = nn.Conv1d(4*d, 8*d, 25, stride = 4, padding = 4)\n",
    "        self.conv5 = nn.Conv1d(8*d, 16*d, 25, stride = 4, padding = 4)\n",
    "        self.linear = nn.Linear(256*d, 1)\n",
    "        \n",
    "    def forward(self, x):\n",
    "        out = F.leaky_relu(self.conv1(x), 0.2)\n",
    "        out = F.leaky_relu(self.conv2(out), 0.2)\n",
    "        out = F.leaky_relu(self.conv3(out), 0.2)\n",
    "        out = F.leaky_relu(self.conv4(out), 0.2)\n",
    "        out = F.leaky_relu(self.conv5(out), 0.2)\n",
    "        out = out.reshape(-1, 256*self.d)\n",
    "        out = self.linear(out)\n",
    "        return out "
   ]
  },
  {
   "cell_type": "code",
   "execution_count": 131,
   "metadata": {},
   "outputs": [
    {
     "data": {
      "text/plain": [
       "4096"
      ]
     },
     "execution_count": 131,
     "metadata": {},
     "output_type": "execute_result"
    }
   ],
   "source": [
    "256*16"
   ]
  },
  {
   "cell_type": "code",
   "execution_count": 142,
   "metadata": {},
   "outputs": [
    {
     "name": "stdout",
     "output_type": "stream",
     "text": [
      "torch.Size([8, 1])\n"
     ]
    }
   ],
   "source": [
    "D = Discriminator(16)\n",
    "# D = nn.Conv1d(1, 2, 25, stride = 4)\n",
    "x = torch.rand(8, 1, 16226, dtype = torch.float32)\n",
    "D_x = D(x)\n",
    "print(D_x.shape)"
   ]
  },
  {
   "cell_type": "code",
   "execution_count": 68,
   "metadata": {},
   "outputs": [],
   "source": [
    "data_one = './data/speech_commands_v0.01/one/'\n",
    "files = os.listdir(data_one)"
   ]
  },
  {
   "cell_type": "code",
   "execution_count": 69,
   "metadata": {},
   "outputs": [],
   "source": [
    "with wave.open(os.path.join(data_one, files[0])) as f:\n",
    "    params = f.getparams()"
   ]
  },
  {
   "cell_type": "code",
   "execution_count": 70,
   "metadata": {},
   "outputs": [
    {
     "data": {
      "text/plain": [
       "_wave_params(nchannels=1, sampwidth=2, framerate=16000, nframes=16000, comptype='NONE', compname='not compressed')"
      ]
     },
     "execution_count": 70,
     "metadata": {},
     "output_type": "execute_result"
    }
   ],
   "source": [
    "params"
   ]
  },
  {
   "cell_type": "code",
   "execution_count": 71,
   "metadata": {},
   "outputs": [],
   "source": [
    "data = []\n",
    "with wave.open(os.path.join(data_one, files[0])) as f:\n",
    "    data = f.readframes(params.nframes)"
   ]
  },
  {
   "cell_type": "code",
   "execution_count": 72,
   "metadata": {},
   "outputs": [
    {
     "data": {
      "text/plain": [
       "32000"
      ]
     },
     "execution_count": 72,
     "metadata": {},
     "output_type": "execute_result"
    }
   ],
   "source": [
    "len(data)"
   ]
  },
  {
   "cell_type": "code",
   "execution_count": 73,
   "metadata": {},
   "outputs": [],
   "source": [
    "float_data = []\n",
    "for i in range(params.nframes):\n",
    "    x = struct.unpack('h', data[i:i+2])\n",
    "    float_data.append(x[0])\n",
    "float_data = np.array(float_data, dtype = np.float32)"
   ]
  },
  {
   "cell_type": "code",
   "execution_count": 74,
   "metadata": {},
   "outputs": [
    {
     "data": {
      "text/plain": [
       "[<matplotlib.lines.Line2D at 0x1e69c1fa4e0>]"
      ]
     },
     "execution_count": 74,
     "metadata": {},
     "output_type": "execute_result"
    },
    {
     "data": {
      "image/png": "[encoded data removed]",
      "text/plain": [
       "<matplotlib.figure.Figure at 0x1e69bac65c0>"
      ]
     },
     "metadata": {},
     "output_type": "display_data"
    }
   ],
   "source": [
    "plt.plot(float_data)"
   ]
  },
  {
   "cell_type": "code",
   "execution_count": 75,
   "metadata": {},
   "outputs": [],
   "source": [
    "float_data = np.pad(float_data, 113, 'constant', constant_values=((0, 0)))"
   ]
  },
  {
   "cell_type": "code",
   "execution_count": 76,
   "metadata": {},
   "outputs": [
    {
     "data": {
      "text/plain": [
       "[<matplotlib.lines.Line2D at 0x1e69c26b908>]"
      ]
     },
     "execution_count": 76,
     "metadata": {},
     "output_type": "execute_result"
    },
    {
     "data": {
      "image/png": "[encoded data removed]",
      "text/plain": [
       "<matplotlib.figure.Figure at 0x1e69c21c860>"
      ]
     },
     "metadata": {},
     "output_type": "display_data"
    }
   ],
   "source": [
    "plt.plot(float_data)"
   ]
  },
  {
   "cell_type": "code",
   "execution_count": 77,
   "metadata": {},
   "outputs": [
    {
     "data": {
      "text/plain": [
       "(16226,)"
      ]
     },
     "execution_count": 77,
     "metadata": {},
     "output_type": "execute_result"
    }
   ],
   "source": [
    "float_data.shape"
   ]
  },
  {
   "cell_type": "code",
   "execution_count": 78,
   "metadata": {},
   "outputs": [
    {
     "data": {
      "text/plain": [
       "2370"
      ]
     },
     "execution_count": 78,
     "metadata": {},
     "output_type": "execute_result"
    }
   ],
   "source": [
    "len(files)"
   ]
  },
  {
   "cell_type": "code",
   "execution_count": 83,
   "metadata": {},
   "outputs": [],
   "source": [
    "base_dir = './data/speech_commands_v0.01/'\n",
    "# names = ['one', 'two', 'three', 'four', 'five', 'six', 'seven', 'eight', 'nine']\n",
    "names = ['one']\n",
    "files = []\n",
    "for folder in os.listdir(base_dir):\n",
    "    if folder in names:\n",
    "        folder_files = os.listdir(os.path.join(base_dir, folder))\n",
    "        base = os.path.join(base_dir, folder)\n",
    "        files.extend([os.path.join(base, f) for f in folder_files])"
   ]
  },
  {
   "cell_type": "code",
   "execution_count": 84,
   "metadata": {},
   "outputs": [
    {
     "data": {
      "text/plain": [
       "2370"
      ]
     },
     "execution_count": 84,
     "metadata": {},
     "output_type": "execute_result"
    }
   ],
   "source": [
    "len(files)"
   ]
  },
  {
   "cell_type": "code",
   "execution_count": 85,
   "metadata": {},
   "outputs": [
    {
     "data": {
      "text/plain": [
       "'./data/speech_commands_v0.01/one\\\\00176480_nohash_0.wav'"
      ]
     },
     "execution_count": 85,
     "metadata": {},
     "output_type": "execute_result"
    }
   ],
   "source": [
    "files[0]"
   ]
  },
  {
   "cell_type": "code",
   "execution_count": 87,
   "metadata": {},
   "outputs": [],
   "source": [
    "n_pad = 113\n",
    "sample_len = 16226\n",
    "train_data = []\n",
    "for i, file in enumerate(files):\n",
    "    with wave.open(file) as f:\n",
    "        data = f.readframes(params.nframes)\n",
    "    if len(data) != 32000:\n",
    "        continue\n",
    "    data_float = np.zeros((sample_len, ), dtype = np.float32)\n",
    "    for j in range(0, len(data), 2):\n",
    "        x_int = struct.unpack('h', data[j:j+2])\n",
    "        data_float[n_pad + j//2] = float(x_int[0])\n",
    "    train_data.append(data_float)\n",
    "train_data = np.array(train_data, dtype = np.float32)"
   ]
  },
  {
   "cell_type": "code",
   "execution_count": 88,
   "metadata": {},
   "outputs": [
    {
     "data": {
      "text/plain": [
       "(2103, 16226)"
      ]
     },
     "execution_count": 88,
     "metadata": {},
     "output_type": "execute_result"
    }
   ],
   "source": [
    "train_data.shape"
   ]
  },
  {
   "cell_type": "code",
   "execution_count": 158,
   "metadata": {},
   "outputs": [],
   "source": [
    "def get_batch(train_data, batch_size):\n",
    "    idx = np.random.randint(0, len(train_data), size=batch_size)\n",
    "    batch = train_data[idx]\n",
    "    return np.expand_dims(batch, axis = 1)"
   ]
  },
  {
   "cell_type": "code",
   "execution_count": 159,
   "metadata": {},
   "outputs": [
    {
     "data": {
      "text/plain": [
       "(32, 1, 16226)"
      ]
     },
     "execution_count": 159,
     "metadata": {},
     "output_type": "execute_result"
    }
   ],
   "source": [
    "x = get_batch(train_data, 32)\n",
    "x.shape"
   ]
  },
  {
   "cell_type": "code",
   "execution_count": 173,
   "metadata": {},
   "outputs": [],
   "source": [
    "batch_size = 32\n",
    "n = 5\n",
    "n_disc = 5\n",
    "r = 10\n",
    "d = 16\n",
    "G = Generator(d)\n",
    "G.to(device)\n",
    "D = Discriminator(d)\n",
    "D.to(device)\n",
    "G_optim = optim.Adam(G.parameters(), 0.0001, betas = (0, 0.9))\n",
    "D_optim = optim.Adam(D.parameters(), 0.0001, betas = (0, 0.9))\n",
    "G_losses = []\n",
    "D_losses = []"
   ]
  },
  {
   "cell_type": "code",
   "execution_count": 174,
   "metadata": {},
   "outputs": [
    {
     "name": "stdout",
     "output_type": "stream",
     "text": [
      "torch.Size([32, 1, 16226])\n"
     ]
    }
   ],
   "source": [
    "real = torch.tensor(get_batch(train_data, 32))\n",
    "fake = torch.rand(batch_size, 1, 16226)\n",
    "eps = torch.rand(batch_size, 1, 1)\n",
    "real_eps = eps*real\n",
    "print(real_eps.shape)"
   ]
  },
  {
   "cell_type": "code",
   "execution_count": 175,
   "metadata": {},
   "outputs": [
    {
     "ename": "AttributeError",
     "evalue": "'tuple' object has no attribute 'dim'",
     "output_type": "error",
     "traceback": [
      "\u001b[1;31m---------------------------------------------------------------------------\u001b[0m",
      "\u001b[1;31mAttributeError\u001b[0m                            Traceback (most recent call last)",
      "\u001b[1;32m<ipython-input-175-7d877581ca4f>\u001b[0m in \u001b[0;36m<module>\u001b[1;34m()\u001b[0m\n\u001b[0;32m     16\u001b[0m                                       \u001b[0mreal_fake\u001b[0m\u001b[1;33m,\u001b[0m\u001b[1;33m\u001b[0m\u001b[0m\n\u001b[0;32m     17\u001b[0m                                       torch.ones(batch_size, 1).to(device)),\n\u001b[1;32m---> 18\u001b[1;33m                                  p = 2, dim = 1) - 1)**2)\n\u001b[0m\u001b[0;32m     19\u001b[0m         \u001b[0mD_loss\u001b[0m \u001b[1;33m=\u001b[0m \u001b[0mtorch\u001b[0m\u001b[1;33m.\u001b[0m\u001b[0mmean\u001b[0m\u001b[1;33m(\u001b[0m\u001b[0mD_fake\u001b[0m \u001b[1;33m-\u001b[0m \u001b[0mD_real\u001b[0m \u001b[1;33m+\u001b[0m \u001b[0mpenalty\u001b[0m\u001b[1;33m)\u001b[0m\u001b[1;33m\u001b[0m\u001b[0m\n\u001b[0;32m     20\u001b[0m         \u001b[0mD_optim\u001b[0m\u001b[1;33m.\u001b[0m\u001b[0mzero_grad\u001b[0m\u001b[1;33m(\u001b[0m\u001b[1;33m)\u001b[0m\u001b[1;33m\u001b[0m\u001b[0m\n",
      "\u001b[1;32m~\\AppData\\Local\\conda\\conda\\envs\\py35\\lib\\site-packages\\torch\\functional.py\u001b[0m in \u001b[0;36mnorm\u001b[1;34m(input, p, dim, keepdim, out)\u001b[0m\n\u001b[0;32m    709\u001b[0m         \u001b[1;33m(\u001b[0m\u001b[0mtensor\u001b[0m\u001b[1;33m(\u001b[0m\u001b[1;36m3.7417\u001b[0m\u001b[1;33m)\u001b[0m\u001b[1;33m,\u001b[0m \u001b[0mtensor\u001b[0m\u001b[1;33m(\u001b[0m\u001b[1;36m11.2250\u001b[0m\u001b[1;33m)\u001b[0m\u001b[1;33m)\u001b[0m\u001b[1;33m\u001b[0m\u001b[0m\n\u001b[0;32m    710\u001b[0m     \"\"\"\n\u001b[1;32m--> 711\u001b[1;33m     \u001b[0mndim\u001b[0m \u001b[1;33m=\u001b[0m \u001b[0minput\u001b[0m\u001b[1;33m.\u001b[0m\u001b[0mdim\u001b[0m\u001b[1;33m(\u001b[0m\u001b[1;33m)\u001b[0m\u001b[1;33m\u001b[0m\u001b[0m\n\u001b[0m\u001b[0;32m    712\u001b[0m \u001b[1;33m\u001b[0m\u001b[0m\n\u001b[0;32m    713\u001b[0m     \u001b[1;31m# catch default case\u001b[0m\u001b[1;33m\u001b[0m\u001b[1;33m\u001b[0m\u001b[0m\n",
      "\u001b[1;31mAttributeError\u001b[0m: 'tuple' object has no attribute 'dim'"
     ]
    }
   ],
   "source": [
    "for i in range(n):\n",
    "    for j in range(n_disc):\n",
    "        real = get_batch(train_data, batch_size)\n",
    "        real = torch.tensor(real).to(device)\n",
    "        z = 2*torch.rand(batch_size, 100) - 1\n",
    "        z = z.to(device)\n",
    "        fake = G(z)\n",
    "#         print(fake.shape)\n",
    "        eps = torch.rand(batch_size, 1, 1).to(device)\n",
    "        real_fake = eps*real + (1 - eps)*fake\n",
    "#         print(real_fake.shape)\n",
    "        D_real = D(real)\n",
    "        D_fake = D(fake)\n",
    "        D_real_fake = D(real_fake)\n",
    "        penalty = r*((torch.norm(grad(D_real_fake,\n",
    "                                      real_fake,\n",
    "                                      torch.ones(batch_size, 1).to(device)),\n",
    "                                 p = 2, dim = 1) - 1)**2)\n",
    "        D_loss = torch.mean(D_fake - D_real + penalty)\n",
    "        D_optim.zero_grad()\n",
    "        D_loss.backward()\n",
    "        D_optim.step()\n",
    "        D_losses.append(D_loss.item())\n",
    "    \n",
    "    z = 2*torch.rand(batch_size, 1, 16226) - 1\n",
    "    z = z.to(device)\n",
    "    fake = G(z)\n",
    "    G_loss = torch.mean(-D(fake))\n",
    "    G_optim.zero_grad()\n",
    "    G_loss.backward()\n",
    "    G_optim.step()\n",
    "    G_losses.append(G_loss.item())\n",
    "    \n",
    "    print('G_loss = {:.3}, D_loss = {:.3}'.format(G_losses[-1], D_losses[-1]))"
   ]
  },
  {
   "cell_type": "code",
   "execution_count": 28,
   "metadata": {},
   "outputs": [],
   "source": [
    "class Module(nn.Module):\n",
    "    def __init__(self, d):\n",
    "        super(Module, self).__init__()\n",
    "        self.linear = nn.Linear(d, 1)\n",
    "    \n",
    "    def forward(self, x):\n",
    "        return torch.tanh(self.linear(x))"
   ]
  },
  {
   "cell_type": "code",
   "execution_count": 81,
   "metadata": {},
   "outputs": [],
   "source": [
    "batch_size = 16\n",
    "d = 32\n",
    "module = Module(d)\n",
    "x = torch.rand(batch_size, d)\n",
    "x.requires_grad = True\n",
    "out = module(x)\n",
    "grad = torch.autograd.grad(out, x, torch.ones(batch_size, 1))"
   ]
  },
  {
   "cell_type": "code",
   "execution_count": 84,
   "metadata": {},
   "outputs": [
    {
     "data": {
      "text/plain": [
       "1"
      ]
     },
     "execution_count": 84,
     "metadata": {},
     "output_type": "execute_result"
    }
   ],
   "source": [
    "len(grad)"
   ]
  },
  {
   "cell_type": "code",
   "execution_count": 79,
   "metadata": {},
   "outputs": [
    {
     "data": {
      "text/plain": [
       "tensor([-0.0361,  0.0612,  0.0559, -0.0090,  0.0397,  0.0028, -0.0458,  0.0589,\n",
       "         0.0451,  0.0026, -0.0222,  0.0476, -0.0385,  0.0097,  0.0746])"
      ]
     },
     "execution_count": 79,
     "metadata": {},
     "output_type": "execute_result"
    }
   ],
   "source": [
    "grad[0][0][:15]"
   ]
  },
  {
   "cell_type": "code",
   "execution_count": null,
   "metadata": {},
   "outputs": [],
   "source": []
  }
 ],
 "metadata": {
  "kernelspec": {
   "display_name": "Python 3",
   "language": "python",
   "name": "python3"
  },
  "language_info": {
   "codemirror_mode": {
    "name": "ipython",
    "version": 3
   },
   "file_extension": ".py",
   "mimetype": "text/x-python",
   "name": "python",
   "nbconvert_exporter": "python",
   "pygments_lexer": "ipython3",
   "version": "3.5.4"
  }
 },
 "nbformat": 4,
 "nbformat_minor": 2
}
