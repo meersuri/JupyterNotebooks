{
 "cells": [
  {
   "cell_type": "code",
   "execution_count": 22,
   "metadata": {},
   "outputs": [],
   "source": [
    "import numpy as np\n",
    "import torch\n",
    "import torchvision\n",
    "import torch.nn as nn\n",
    "import torch.nn.functional as F\n",
    "import torch.optim as optim\n",
    "import torchvision.transforms as transforms\n",
    "import matplotlib.pyplot as plt\n",
    "import os\n",
    "import wave\n",
    "import struct"
   ]
  },
  {
   "cell_type": "code",
   "execution_count": 105,
   "metadata": {},
   "outputs": [],
   "source": [
    "device = torch.device(\"cuda:0\" if torch.cuda.is_available() else \"cpu\")"
   ]
  },
  {
   "cell_type": "code",
   "execution_count": 2,
   "metadata": {},
   "outputs": [],
   "source": [
    "class Generator(nn.Module):\n",
    "    def __init__(self, d):\n",
    "        super(Generator, self).__init__()\n",
    "        self.linear1 = nn.Linear(100, 256*d)\n",
    "        self.tconv1 = nn.ConvTranspose1d(16*d, 8*d, 25, stride = 4)\n",
    "        self.tconv2 = nn.ConvTranspose1d(8*d, 4*d, 25, stride = 4)\n",
    "        self.tconv3 = nn.ConvTranspose1d(4*d, 2*d, 25, stride = 4)\n",
    "        self.tconv4 = nn.ConvTranspose1d(2*d, d, 25, stride = 4)\n",
    "        self.tconv5 = nn.ConvTranspose1d(d, 1, 25, stride = 4)\n",
    "    \n",
    "    def forward(self, x):\n",
    "        out = self.linear1(x)\n",
    "        out = F.relu(out.reshape(-1, 16*d, 16))\n",
    "        out = F.relu(self.tconv1(out))\n",
    "        out = F.relu(self.tconv2(out))\n",
    "        out = F.relu(self.tconv3(out))\n",
    "        out = F.relu(self.tconv4(out))\n",
    "        out = F.relu(self.tconv5(out))\n",
    "        out = F.tanh(out)\n",
    "        return out"
   ]
  },
  {
   "cell_type": "code",
   "execution_count": 12,
   "metadata": {},
   "outputs": [],
   "source": [
    "class Discriminator(nn.Module):\n",
    "    def __init__(self, d):\n",
    "        super(Discriminator, self).__init__()\n",
    "        self.conv1 = nn.Conv1d(1, d, 25, stride = 4)\n",
    "        self.conv2 = nn.Conv1d(d, 2*d, 25, stride = 4)\n",
    "        self.conv3 = nn.Conv1d(2*d, 4*d, 25, stride = 4)\n",
    "        self.conv4 = nn.Conv1d(4*d, 8*d, 25, stride = 4)\n",
    "        self.conv5 = nn.Conv1d(8*d, 16*d, 25, stride = 4)\n",
    "        self.linear = nn.Linear(256*d, 1)\n",
    "        \n",
    "    def forward(self, x):\n",
    "        out = F.leaky_relu(self.conv1(x), 0.2)\n",
    "        out = F.leaky_relu(self.conv2(out), 0.2)\n",
    "        out = F.leaky_relu(self.conv3(out), 0.2)\n",
    "        out = F.leaky_relu(self.conv4(out), 0.2)\n",
    "        out = F.leaky_relu(self.conv5(out), 0.2)\n",
    "        out = out.reshape(-1, 256*d)\n",
    "        out = self.linear(out)\n",
    "        return out "
   ]
  },
  {
   "cell_type": "code",
   "execution_count": 15,
   "metadata": {},
   "outputs": [],
   "source": [
    "data_one = './data/speech_commands_v0.01/one/'\n",
    "files = os.listdir(data_one)"
   ]
  },
  {
   "cell_type": "code",
   "execution_count": 17,
   "metadata": {},
   "outputs": [],
   "source": [
    "with wave.open(os.path.join(data_one, files[0])) as f:\n",
    "    params = f.getparams()"
   ]
  },
  {
   "cell_type": "code",
   "execution_count": 18,
   "metadata": {},
   "outputs": [
    {
     "data": {
      "text/plain": [
       "_wave_params(nchannels=1, sampwidth=2, framerate=16000, nframes=16000, comptype='NONE', compname='not compressed')"
      ]
     },
     "execution_count": 18,
     "metadata": {},
     "output_type": "execute_result"
    }
   ],
   "source": [
    "params"
   ]
  },
  {
   "cell_type": "code",
   "execution_count": 69,
   "metadata": {},
   "outputs": [],
   "source": [
    "data = []\n",
    "with wave.open(files[0]) as f:\n",
    "    data = f.readframes(params.nframes)"
   ]
  },
  {
   "cell_type": "code",
   "execution_count": 70,
   "metadata": {},
   "outputs": [
    {
     "data": {
      "text/plain": [
       "32000"
      ]
     },
     "execution_count": 70,
     "metadata": {},
     "output_type": "execute_result"
    }
   ],
   "source": [
    "len(data)"
   ]
  },
  {
   "cell_type": "code",
   "execution_count": 39,
   "metadata": {},
   "outputs": [],
   "source": [
    "float_data = []\n",
    "for i in range(params.nframes):\n",
    "    x = struct.unpack('h', data[i:i+2])\n",
    "    float_data.append(x[0])\n",
    "float_data = np.array(float_data, dtype = np.float32)"
   ]
  },
  {
   "cell_type": "code",
   "execution_count": 40,
   "metadata": {},
   "outputs": [
    {
     "data": {
      "text/plain": [
       "[<matplotlib.lines.Line2D at 0x26d0d426fd0>]"
      ]
     },
     "execution_count": 40,
     "metadata": {},
     "output_type": "execute_result"
    },
    {
     "data": {
      "image/png": "[encoded data removed]",
      "text/plain": [
       "<matplotlib.figure.Figure at 0x26d0d6817f0>"
      ]
     },
     "metadata": {},
     "output_type": "display_data"
    }
   ],
   "source": [
    "plt.plot(float_data)"
   ]
  },
  {
   "cell_type": "code",
   "execution_count": 41,
   "metadata": {},
   "outputs": [],
   "source": [
    "float_data = np.pad(float_data, 192, 'constant', constant_values=((0, 0)))"
   ]
  },
  {
   "cell_type": "code",
   "execution_count": 42,
   "metadata": {},
   "outputs": [
    {
     "data": {
      "text/plain": [
       "[<matplotlib.lines.Line2D at 0x26d0ed44c50>]"
      ]
     },
     "execution_count": 42,
     "metadata": {},
     "output_type": "execute_result"
    },
    {
     "data": {
      "image/png": "[encoded data removed]",
      "text/plain": [
       "<matplotlib.figure.Figure at 0x26d0bae94a8>"
      ]
     },
     "metadata": {},
     "output_type": "display_data"
    }
   ],
   "source": [
    "plt.plot(float_data)"
   ]
  },
  {
   "cell_type": "code",
   "execution_count": 43,
   "metadata": {},
   "outputs": [
    {
     "data": {
      "text/plain": [
       "(16384,)"
      ]
     },
     "execution_count": 43,
     "metadata": {},
     "output_type": "execute_result"
    }
   ],
   "source": [
    "float_data.shape"
   ]
  },
  {
   "cell_type": "code",
   "execution_count": 44,
   "metadata": {},
   "outputs": [
    {
     "data": {
      "text/plain": [
       "2370"
      ]
     },
     "execution_count": 44,
     "metadata": {},
     "output_type": "execute_result"
    }
   ],
   "source": [
    "len(files)"
   ]
  },
  {
   "cell_type": "code",
   "execution_count": 88,
   "metadata": {},
   "outputs": [],
   "source": [
    "base_dir = './data/speech_commands_v0.01/'\n",
    "# names = ['one', 'two', 'three', 'four', 'five', 'six', 'seven', 'eight', 'nine']\n",
    "names = ['one']\n",
    "files = []\n",
    "for folder in os.listdir(base_dir):\n",
    "    if folder in names:\n",
    "        folder_files = os.listdir(os.path.join(base_dir, folder))\n",
    "        base = os.path.join(base_dir, folder)\n",
    "        files.extend([os.path.join(base, f) for f in folder_files])"
   ]
  },
  {
   "cell_type": "code",
   "execution_count": 89,
   "metadata": {},
   "outputs": [
    {
     "data": {
      "text/plain": [
       "2370"
      ]
     },
     "execution_count": 89,
     "metadata": {},
     "output_type": "execute_result"
    }
   ],
   "source": [
    "len(files)"
   ]
  },
  {
   "cell_type": "code",
   "execution_count": 90,
   "metadata": {},
   "outputs": [
    {
     "data": {
      "text/plain": [
       "'./data/speech_commands_v0.01/one\\\\00176480_nohash_0.wav'"
      ]
     },
     "execution_count": 90,
     "metadata": {},
     "output_type": "execute_result"
    }
   ],
   "source": [
    "files[0]"
   ]
  },
  {
   "cell_type": "code",
   "execution_count": 95,
   "metadata": {},
   "outputs": [],
   "source": [
    "train_data = []\n",
    "for i, file in enumerate(files):\n",
    "    with wave.open(file) as f:\n",
    "        data = f.readframes(params.nframes)\n",
    "    if len(data) != 32000:\n",
    "        continue\n",
    "    data_float = np.zeros((16384, ), dtype = np.float32)\n",
    "    for j in range(0, len(data), 2):\n",
    "        x_int = struct.unpack('h', data[j:j+2])\n",
    "        data_float[192 + j//2] = float(x_int[0])\n",
    "    train_data.append(data_float)\n",
    "train_data = np.array(train_data, dtype = np.float32)"
   ]
  },
  {
   "cell_type": "code",
   "execution_count": 96,
   "metadata": {},
   "outputs": [
    {
     "data": {
      "text/plain": [
       "(2103, 16384)"
      ]
     },
     "execution_count": 96,
     "metadata": {},
     "output_type": "execute_result"
    }
   ],
   "source": [
    "train_data.shape"
   ]
  },
  {
   "cell_type": "code",
   "execution_count": 103,
   "metadata": {},
   "outputs": [],
   "source": [
    "def get_batch(train_data, batch_size):\n",
    "    idx = np.random.randint(0, len(train_data), size=batch_size)\n",
    "    batch = train_data[idx]\n",
    "    return batch"
   ]
  },
  {
   "cell_type": "code",
   "execution_count": 104,
   "metadata": {},
   "outputs": [
    {
     "data": {
      "text/plain": [
       "(32, 16384)"
      ]
     },
     "execution_count": 104,
     "metadata": {},
     "output_type": "execute_result"
    }
   ],
   "source": [
    "x = get_batch(train_data, 32)\n",
    "x.shape"
   ]
  },
  {
   "cell_type": "code",
   "execution_count": null,
   "metadata": {},
   "outputs": [],
   "source": [
    "batch_size = 32\n",
    "n = 5\n",
    "n_disc = 5\n",
    "r = 10\n",
    "G = Generator()\n",
    "D = Discriminator()\n",
    "G_optim = optim.Adam(G.parameters(), 0.0001, betas = (0, 0.9))\n",
    "D_optim = optim.Adam(D.parameters(), 0.0001, betas = (0, 0.9))\n",
    "criterion_\n",
    "for i in range(n):\n",
    "    for j in range(n_disc):\n",
    "        real = get_batch(train_data, batch_size)\n",
    "        real = torch.tensor(real).to(device)\n",
    "        z = 2*torch.rand(batch_size, 16384) - 1\n",
    "        z = z.to(device)\n",
    "        fake = G(z)\n",
    "        eps = torch.rand(batch_size)\n",
    "        real_fake = eps*real + (1 - eps)*fake\n",
    "        D_real = D(real)\n",
    "        D_fake = D(fake)\n",
    "        penalty = r*(torch.norm( , p = 2, dim = 1))\n",
    "        \n",
    "        \n",
    "        \n",
    "    "
   ]
  }
 ],
 "metadata": {
  "kernelspec": {
   "display_name": "Python 3",
   "language": "python",
   "name": "python3"
  },
  "language_info": {
   "codemirror_mode": {
    "name": "ipython",
    "version": 3
   },
   "file_extension": ".py",
   "mimetype": "text/x-python",
   "name": "python",
   "nbconvert_exporter": "python",
   "pygments_lexer": "ipython3",
   "version": "3.5.4"
  }
 },
 "nbformat": 4,
 "nbformat_minor": 2
}
