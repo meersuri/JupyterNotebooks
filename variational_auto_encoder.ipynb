{
 "cells": [
  {
   "cell_type": "code",
   "execution_count": 1,
   "metadata": {},
   "outputs": [],
   "source": [
    "import tensorflow as tf\n",
    "import numpy as np\n",
    "import matplotlib.pyplot as plt\n",
    "import scipy.stats as st"
   ]
  },
  {
   "cell_type": "code",
   "execution_count": 2,
   "metadata": {},
   "outputs": [],
   "source": [
    "class Encoder(tf.keras.Model):\n",
    "    \"\"\"\n",
    "    Encoder q(z|x) as a diagonal MVN distribution\n",
    "    Feed-Forward Net that learns the mean and variance params of a MVN\n",
    "    that generates the latent code z conditioned on input x \n",
    "    \"\"\"\n",
    "    def __init__(self, latent_dim):\n",
    "        super(Encoder, self).__init__()\n",
    "        self.fc1 = tf.keras.layers.Dense(128, activation='relu')\n",
    "        self.fc2 = tf.keras.layers.Dense(32, activation='relu')\n",
    "        self.fc_mean = tf.keras.layers.Dense(latent_dim)\n",
    "        self.fc_log_var = tf.keras.layers.Dense(latent_dim)\n",
    "    \n",
    "    def call(self, x):\n",
    "        h1 = self.fc1(x)\n",
    "        h = self.fc2(h1)\n",
    "        mean = self.fc_mean(h)\n",
    "        log_var = self.fc_log_var(h)\n",
    "        return (mean, log_var)"
   ]
  },
  {
   "cell_type": "code",
   "execution_count": 3,
   "metadata": {},
   "outputs": [],
   "source": [
    "class Decoder(tf.keras.Model):\n",
    "    \"\"\"\n",
    "    Decoder p(x|z) as a diagnoal MVN distribution\n",
    "    Feed-Forward Net that learns the parameters of the MVN that\n",
    "    generate the data x from the latent code z\n",
    "    \"\"\"\n",
    "    def __init__(self, data_dim):\n",
    "        super(Encoder, self).__init__()\n",
    "        self.fc1 = tf.keras.layers.Dense(32, activation='relu')\n",
    "        self.fc2 = tf.keras.layers.Dense(128, activation='relu')\n",
    "        self.fc_mean = tf.keras.layers.Dense(data_dim)\n",
    "        self.fc_log_var = tf.keras.layers.Dense(data_dim)\n",
    "    \n",
    "    def call(self, z):\n",
    "        h1 = self.fc1(z)\n",
    "        h = self.fc2(h1)\n",
    "        mean = self.fc_mean(h)\n",
    "        log_var = self.fc_log_var(h)\n",
    "        return (mean, log_var)"
   ]
  },
  {
   "cell_type": "code",
   "execution_count": null,
   "metadata": {},
   "outputs": [],
   "source": [
    "class VAE(tf.keras.Model):\n",
    "    def __init__(self, latent_dim, data_dim):\n",
    "        self.latent_dim = latent_dim\n",
    "        self.data_dim = data_dim\n",
    "        self.enc = Encoder(latent_dim)\n",
    "        self.dec = Decoder(data_dim)\n",
    "    \n",
    "    def call(self, x):\n",
    "        mean, log_var = self.enc(x)\n",
    "        e = np.random.multivariate_normal(mean=np.zeros((self.latent_dim, 1)),\n",
    "                                          cov=np.eye(self.latent_dim), size = x.shape[0])\n",
    "        z = mean + e*np.exp(log_var)\n",
    "        mean, log_var = self.dec(z)\n",
    "        x_h = np.random.multivariate_normal(mean=np.zeros((self.data_dim, 1)),\n",
    "                                          cov=np.eye(self.data_dim), size = x.shape[0])\n",
    "        x_h = mean + x_h*np.exp(log_var)\n",
    "        return (z, x_h)"
   ]
  }
 ],
 "metadata": {
  "kernelspec": {
   "display_name": "Python 3",
   "language": "python",
   "name": "python3"
  },
  "language_info": {
   "codemirror_mode": {
    "name": "ipython",
    "version": 3
   },
   "file_extension": ".py",
   "mimetype": "text/x-python",
   "name": "python",
   "nbconvert_exporter": "python",
   "pygments_lexer": "ipython3",
   "version": "3.7.9"
  }
 },
 "nbformat": 4,
 "nbformat_minor": 4
}
