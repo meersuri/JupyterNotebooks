{
 "cells": [
  {
   "cell_type": "code",
   "execution_count": 61,
   "metadata": {},
   "outputs": [],
   "source": [
    "import numpy as np\n",
    "import torch\n",
    "import torchvision\n",
    "import time\n",
    "import torch.nn as nn\n",
    "import torch.nn.functional as F\n",
    "import torch.optim as optim\n",
    "import torchvision.transforms as transforms\n",
    "import matplotlib.pyplot as plt\n",
    "from torch.optim.lr_scheduler import ReduceLROnPlateau\n",
    "import nltk\n",
    "import string"
   ]
  },
  {
   "cell_type": "code",
   "execution_count": 2,
   "metadata": {},
   "outputs": [],
   "source": [
    "device = torch.device('cuda') if torch.cuda.is_available() else torch.device('cpu')"
   ]
  },
  {
   "cell_type": "code",
   "execution_count": 3,
   "metadata": {},
   "outputs": [
    {
     "name": "stdout",
     "output_type": "stream",
     "text": [
      "[nltk_data] Downloading package gutenberg to\n",
      "[nltk_data]     C:\\Users\\Lab716A-PC\\AppData\\Roaming\\nltk_data...\n",
      "[nltk_data]   Package gutenberg is already up-to-date!\n"
     ]
    },
    {
     "data": {
      "text/plain": [
       "True"
      ]
     },
     "execution_count": 3,
     "metadata": {},
     "output_type": "execute_result"
    }
   ],
   "source": [
    "nltk.download('gutenberg')"
   ]
  },
  {
   "cell_type": "code",
   "execution_count": 4,
   "metadata": {},
   "outputs": [],
   "source": [
    "dataset = nltk.corpus.gutenberg"
   ]
  },
  {
   "cell_type": "code",
   "execution_count": 5,
   "metadata": {},
   "outputs": [],
   "source": [
    "words = dataset.words()"
   ]
  },
  {
   "cell_type": "code",
   "execution_count": 6,
   "metadata": {},
   "outputs": [
    {
     "data": {
      "text/plain": [
       "2621613"
      ]
     },
     "execution_count": 6,
     "metadata": {},
     "output_type": "execute_result"
    }
   ],
   "source": [
    "len(words)"
   ]
  },
  {
   "cell_type": "code",
   "execution_count": 7,
   "metadata": {},
   "outputs": [
    {
     "data": {
      "text/plain": [
       "['[', 'Emma', 'by', 'Jane', 'Austen', '1816', ']', 'VOLUME', 'I', 'CHAPTER']"
      ]
     },
     "execution_count": 7,
     "metadata": {},
     "output_type": "execute_result"
    }
   ],
   "source": [
    "words[:10]"
   ]
  },
  {
   "cell_type": "code",
   "execution_count": 8,
   "metadata": {},
   "outputs": [
    {
     "data": {
      "text/plain": [
       "51156"
      ]
     },
     "execution_count": 8,
     "metadata": {},
     "output_type": "execute_result"
    }
   ],
   "source": [
    "len(set(words))"
   ]
  },
  {
   "cell_type": "code",
   "execution_count": 9,
   "metadata": {},
   "outputs": [
    {
     "data": {
      "text/plain": [
       "32"
      ]
     },
     "execution_count": 9,
     "metadata": {},
     "output_type": "execute_result"
    }
   ],
   "source": [
    "len(string.punctuation)"
   ]
  },
  {
   "cell_type": "code",
   "execution_count": 10,
   "metadata": {},
   "outputs": [],
   "source": [
    "n_chars = len(dataset.raw())"
   ]
  },
  {
   "cell_type": "code",
   "execution_count": 11,
   "metadata": {},
   "outputs": [
    {
     "data": {
      "text/plain": [
       "11793318"
      ]
     },
     "execution_count": 11,
     "metadata": {},
     "output_type": "execute_result"
    }
   ],
   "source": [
    "n_chars"
   ]
  },
  {
   "cell_type": "code",
   "execution_count": 12,
   "metadata": {},
   "outputs": [],
   "source": [
    "subset = dataset.raw()[: n_chars // 100]"
   ]
  },
  {
   "cell_type": "code",
   "execution_count": 18,
   "metadata": {},
   "outputs": [],
   "source": [
    "char2idx = {}\n",
    "idx2char = []"
   ]
  },
  {
   "cell_type": "code",
   "execution_count": 19,
   "metadata": {},
   "outputs": [],
   "source": [
    "for c in dataset.raw():\n",
    "    if c in char2idx:\n",
    "        continue\n",
    "    idx2char.append(c)\n",
    "    char2idx[c] = len(idx2char) - 1"
   ]
  },
  {
   "cell_type": "code",
   "execution_count": 22,
   "metadata": {},
   "outputs": [
    {
     "data": {
      "text/plain": [
       "['[', 'E', 'm', 'a', ' ', 'b', 'y', 'J', 'n', 'e']"
      ]
     },
     "execution_count": 22,
     "metadata": {},
     "output_type": "execute_result"
    }
   ],
   "source": [
    "idx2char[:10]"
   ]
  },
  {
   "cell_type": "code",
   "execution_count": 17,
   "metadata": {},
   "outputs": [
    {
     "data": {
      "text/plain": [
       "'[Emma by Jane Austen 1816]\\n\\nVOLUME I\\n\\nCHAPTER I\\n\\n\\nEmma Woodhouse, handsome, clever, and rich, with a'"
      ]
     },
     "execution_count": 17,
     "metadata": {},
     "output_type": "execute_result"
    }
   ],
   "source": [
    "dataset.raw()[:100]"
   ]
  },
  {
   "cell_type": "code",
   "execution_count": 266,
   "metadata": {},
   "outputs": [],
   "source": [
    "train_split = 0.9\n",
    "train_data = dataset.raw()[:int(0.7*len(dataset.raw()))]\n",
    "valid_data = dataset.raw()[int(0.7*len(dataset.raw())):]\n",
    "seq_len = 50\n",
    "batch_size = 20\n",
    "n_seq = len(train_data)//seq_len\n",
    "X_train = np.zeros((n_seq*seq_len, len(idx2char)), dtype = np.short)\n",
    "Y_train = np.zeros_like(X_train)\n",
    "for i in range(n_seq*seq_len):\n",
    "    c = train_data[i]\n",
    "    X_train[i][char2idx[c]] = 1\n",
    "\n",
    "for i in range(1, n_seq*seq_len + 1):\n",
    "    c = train_data[i]\n",
    "    Y_train[i - 1][char2idx[c]] = 1"
   ]
  },
  {
   "cell_type": "code",
   "execution_count": 267,
   "metadata": {},
   "outputs": [],
   "source": [
    "X_train = X_train\n",
    "X_train = X_train.reshape(-1, seq_len, len(idx2char))"
   ]
  },
  {
   "cell_type": "code",
   "execution_count": 268,
   "metadata": {},
   "outputs": [
    {
     "data": {
      "text/plain": [
       "(165106, 50, 97)"
      ]
     },
     "execution_count": 268,
     "metadata": {},
     "output_type": "execute_result"
    }
   ],
   "source": [
    "X_train.shape"
   ]
  },
  {
   "cell_type": "code",
   "execution_count": 269,
   "metadata": {},
   "outputs": [],
   "source": [
    "Y_train = Y_train\n",
    "Y_train = Y_train.reshape(-1, seq_len, len(idx2char))"
   ]
  },
  {
   "cell_type": "code",
   "execution_count": 270,
   "metadata": {},
   "outputs": [
    {
     "data": {
      "text/plain": [
       "(165106, 50, 97)"
      ]
     },
     "execution_count": 270,
     "metadata": {},
     "output_type": "execute_result"
    }
   ],
   "source": [
    "Y_train.shape"
   ]
  },
  {
   "cell_type": "code",
   "execution_count": 242,
   "metadata": {},
   "outputs": [],
   "source": [
    "def get_batch(X_train, Y_train, batch_size):\n",
    "    n = X_train.shape[0]\n",
    "    idx = np.random.randint(0, n, batch_size)\n",
    "    out = (X_train[idx], Y_train[idx])\n",
    "    return out"
   ]
  },
  {
   "cell_type": "code",
   "execution_count": 271,
   "metadata": {},
   "outputs": [],
   "source": [
    "data, labels = get_batch(X_train, Y_train, batch_size)"
   ]
  },
  {
   "cell_type": "code",
   "execution_count": 272,
   "metadata": {},
   "outputs": [
    {
     "data": {
      "text/plain": [
       "torch.Size([20, 50])"
      ]
     },
     "execution_count": 272,
     "metadata": {},
     "output_type": "execute_result"
    }
   ],
   "source": [
    "torch.argmax(torch.tensor(labels), dim = 2).shape"
   ]
  },
  {
   "cell_type": "code",
   "execution_count": 273,
   "metadata": {},
   "outputs": [
    {
     "name": "stdout",
     "output_type": "stream",
     "text": [
      "(20, 50, 97) (20, 50, 97)\n"
     ]
    }
   ],
   "source": [
    "print(data.shape, labels.shape)"
   ]
  },
  {
   "cell_type": "code",
   "execution_count": 262,
   "metadata": {},
   "outputs": [],
   "source": [
    "class RNN(nn.Module):\n",
    "    \"Batch-first Elman RNN\"\n",
    "    def __init__(self, input_size, hidden_size, num_layers, non_linearity):\n",
    "        super(RNN, self).__init__()\n",
    "        self.rnn = nn.RNN(input_size = input_size, hidden_size = hidden_size,\n",
    "                          num_layers = num_layers, nonlinearity = non_linearity,\n",
    "                          bias = True, batch_first=True, dropout=0, bidirectional=False)\n",
    "        self.Who = nn.Linear(hidden_size, input_size)\n",
    "    \n",
    "    def forward(self, X, h=None):\n",
    "        if h is not None:\n",
    "            features, h = self.rnn(X, h)\n",
    "        else:\n",
    "            features, h = self.rnn(X)\n",
    "        out = self.Who(features)\n",
    "        return out, h\n",
    "        "
   ]
  },
  {
   "cell_type": "code",
   "execution_count": 297,
   "metadata": {},
   "outputs": [],
   "source": [
    "class LSTM(nn.Module):\n",
    "    \"Batch-first LSTM\"\n",
    "    def __init__(self, input_size, hidden_size, num_layers):\n",
    "        super(LSTM, self).__init__()\n",
    "        self.rnn = nn.LSTM(input_size = input_size, hidden_size = hidden_size,\n",
    "                          num_layers = num_layers, bias = True,\n",
    "                          batch_first=True, dropout=0, bidirectional=False)\n",
    "        self.Who = nn.Linear(hidden_size, input_size)\n",
    "    \n",
    "    def forward(self, X, h=None):\n",
    "        if h is not None:\n",
    "            features, h = self.rnn(X, h)\n",
    "        else:\n",
    "            features, h = self.rnn(X)\n",
    "        out = self.Who(features)\n",
    "        return out, h"
   ]
  },
  {
   "cell_type": "code",
   "execution_count": 304,
   "metadata": {},
   "outputs": [],
   "source": [
    "def sample(model, init_char, char2idx, idx2char, n_chars):\n",
    "    x = np.zeros((num_layers, 1, len(char2idx)), dtype = np.float)\n",
    "    h = np.zeros((num_layers, 1, hidden_dim), dtype = np.float)\n",
    "    h = torch.tensor(h).to(device)\n",
    "    x[0, 0, char2idx[init_char]] = 1\n",
    "    x = torch.tensor(x).to(device)\n",
    "    gen = [init_char]\n",
    "    for i in range(n_chars):\n",
    "        out, h = model(x, h)\n",
    "        probs = torch.softmax(out, dim = 2).detach().cpu().numpy()\n",
    "        char = np.random.choice(idx2char, p = np.squeeze(probs))\n",
    "        gen.append(char)\n",
    "        x = np.zeros((1, 1, len(char2idx)), dtype = np.float)\n",
    "        x[0, 0, char2idx[char]] = 1\n",
    "        x = torch.tensor(x).to(device)\n",
    "    return ''.join(gen)"
   ]
  },
  {
   "cell_type": "code",
   "execution_count": 317,
   "metadata": {},
   "outputs": [],
   "source": [
    "def sample_LSTM(model, init_char, char2idx, idx2char, n_chars):\n",
    "    x = np.zeros((1, 1, len(char2idx)), dtype = np.float)\n",
    "    h = np.zeros((1, 1, hidden_dim), dtype = np.float)\n",
    "    c = np.zeros((1, 1, hidden_dim), dtype = np.float)\n",
    "    h = torch.tensor(h).to(device)\n",
    "    c = torch.tensor(c).to(device)\n",
    "    x[0, 0, char2idx[init_char]] = 1\n",
    "    x = torch.tensor(x).to(device)\n",
    "    gen = [init_char]\n",
    "    for i in range(n_chars):\n",
    "        out, (h, c) = model(x.float(), (h, c))\n",
    "        probs = torch.softmax(out, dim = 2).detach().cpu().numpy()\n",
    "        char = np.random.choice(idx2char, p = np.squeeze(probs))\n",
    "        gen.append(char)\n",
    "        x = np.zeros((1, 1, len(char2idx)), dtype = np.float)\n",
    "        x[0, 0, char2idx[char]] = 1\n",
    "        x = torch.tensor(x).to(device)\n",
    "    return ''.join(gen)"
   ]
  },
  {
   "cell_type": "code",
   "execution_count": 318,
   "metadata": {},
   "outputs": [],
   "source": [
    "input_size = len(idx2char)\n",
    "hidden_dim = 128\n",
    "num_layers = 1\n",
    "model = LSTM(input_size, hidden_dim, num_layers)\n",
    "model.to(device)\n",
    "optimizer = optim.Adam(model.parameters(), lr=0.001)\n",
    "criterion = nn.CrossEntropyLoss()\n",
    "loss_vals = []"
   ]
  },
  {
   "cell_type": "code",
   "execution_count": 319,
   "metadata": {},
   "outputs": [
    {
     "name": "stdout",
     "output_type": "stream",
     "text": [
      "Epoch = 1, avg loss = 3.31\n",
      "aD1mef\n",
      "\"y\" yonwe\n",
      "LeronOrtt\n",
      "sn1Oter:e , raalbeS uhn a rdhd  lt n oeiep\n",
      "etud p:d rei0 a\n",
      "ber\"metindt  wb\n",
      "\n",
      "\n",
      "Epoch = 2, avg loss = 2.88\n",
      "agh ute hdkseAriutpeurhd abl5 sep-rentoud:i\n",
      "Acm ly ies Da,d un  orrd andt fleagby yisenotoeeobaud tte\n",
      "\n",
      "\n",
      "Epoch = 3, avg loss = 2.56\n",
      "ad ngrmouf tha ic.  These axrss and blt ttfo an, tsn govar alr eup woaiitho Miy enror.\n",
      "a:\n",
      "1::4  the s\n",
      "\n",
      "\n",
      "Epoch = 4, avg loss = 2.43\n",
      "aeginef nai aavg ant lllat faindidne.\n",
      "on hout s ind oou Lote hog wotnginde s irller ar the? Ass,aw th\n",
      "\n",
      "\n",
      "Epoch = 5, avg loss = 2.36\n",
      "at ha in th to hay werk the \n",
      "ramle\"\n",
      "roy plain she t.e the int welll.n zold saroeed shan, matr whawst\n",
      "\n",
      "\n",
      "Epoch = 6, avg loss = 2.3\n",
      "a ah, ad thPRoy thoas, os the I in tfou sars git hik thitlid worthes seanks\n",
      "soise hos tnallreg eewaw,\n",
      "\n",
      "\n",
      "Epoch = 7, avg loss = 2.24\n",
      "a\n",
      "mok wamlenaray,\n",
      "al  whan mo brot theu 1alp boathes, the: I bougnengted\n",
      "ande th pish fort; Myens\"ris\n",
      "\n",
      "\n",
      "Epoch = 8, avg loss = 2.2\n",
      "aL\n",
      "was minger.\n",
      "\n",
      "A:\n",
      "2R F aLnd cliid of the moul, whed \"be he cor bot urlasife and\n",
      "om out it he thims, \n",
      "\n",
      "\n",
      "Epoch = 9, avg loss = 2.18\n",
      "arty lingchoug,\n",
      "fthiy sford; an the dad bre hardcly hist toufito igatot circolughe mik you .\n",
      " I  o I \n",
      "\n",
      "\n",
      "Epoch = 10, avg loss = 2.15\n",
      "al for the lyout\n",
      "net aly ther. LORDpbore thist it Iver of hey epowmrkimo,\n",
      "\n",
      "a the pominebd.  o seaS \n",
      "\n",
      "\n",
      "Epoch = 11, avg loss = 2.11\n",
      "atg salf\", Iro mo tna touse; and nou inen in m\"Icoinguth mewen; and hasnthing to pable the that nou',\n",
      "\n",
      "\n",
      "Epoch = 12, avg loss = 2.1\n",
      "aguhed an t8 mly tos moded mis\n",
      " of pae whid lous, ave ceinctennisesthe dimas afithek sok nomy\n",
      "\n",
      "\n",
      "Epoch = 13, avg loss = 2.07\n",
      "an, the cond tham, redso an to further ppremy yo\n",
      "yo sala ar\n",
      "thisher alverly forseghtes thirminth\n",
      "tha\n",
      "\n",
      "\n",
      "Epoch = 14, avg loss = 2.05\n",
      "all note filllt, Buster bo hebransiry alt you, anthatre fath than the yair the Preey, and betersinn t\n",
      "\n",
      "\n",
      "Epoch = 15, avg loss = 2.03\n",
      "am of he oo bote am the hispyor, I able faw the\n",
      "hiss my waos bity soled.\n",
      "\n",
      "8:4 1 Dis meriys\n",
      "d am Ichas\n",
      "\n",
      "\n",
      "Epoch = 16, avg loss = 2.02\n",
      "ath frem thecery, and teall in eles: Ond demreove\n",
      "kontour;.--\n",
      "\n",
      " She shourdn inperos\n",
      "over hupllegntas\n",
      "\n",
      "\n",
      "Epoch = 17, avg loss = 2.0\n",
      "abreri; For\n",
      "ghem, \n",
      "Wind whe some. \n",
      "You s minhowss, and Mppenten Mr\n",
      "anchel.\n",
      "\n",
      "\n",
      "1H:3 At net wist custe h\n",
      "\n",
      "\n",
      "Epoch = 18, avg loss = 1.99\n",
      "ave to Gof, thou to gionted they ratoing of the Loo de Hencaingr upto e yous be faldens, unt tureth i\n",
      "\n",
      "\n",
      "Epoch = 19, avg loss = 1.96\n",
      "a then wet was the forveren, the lefed hiss\n",
      "ley vead.  :5 And But to bu id gryar\n",
      "bustedtly ineadle ca\n",
      "\n",
      "\n",
      "Epoch = 20, avg loss = 1.95\n",
      "ah the was hea to chushow thoubrefolly stall canm; at remiest aningregus\n",
      "ato the son.\n",
      "\n",
      "1:9 And werwe \n",
      "\n",
      "\n",
      "Epoch = 21, avg loss = 1.93\n",
      "at fies.  he bus if, and\n",
      "mlongry\n",
      "by anuz magon, he cash the latl gre with, behrom the cime here, wher\n",
      "\n",
      "\n",
      "Epoch = 22, avg loss = 1.93\n",
      "at is of God, wat of ne wemated enquidaispion into Bertelally as wile peesen.-\n",
      "\n",
      "26:n Theis wish of th\n",
      "\n",
      "\n",
      "Epoch = 23, avg loss = 1.91\n",
      "atnonch to ye live, he: but she scaik: Het is evely madh, and.\n",
      "39:11 For Dijahabiting of yut yer he h\n",
      "\n",
      "\n",
      "Epoch = 24, avg loss = 1.9\n",
      "ast you th we hearlf they shall to with fremale.\"\n",
      "\n",
      "\"If nactlld eve she offresuldeting to my to yo his\n",
      "\n",
      "\n",
      "Epoch = 25, avg loss = 1.9\n",
      "ar spoced unto the iswally woted Zoobentin: and he had. 6 thkyer juaking\n",
      "quiel that an I sunded uf ou\n",
      "\n",
      "\n",
      "Epoch = 26, avg loss = 1.88\n",
      "at kince.  t thened mornastermy\n",
      ", mever tome to some.\n",
      "\n",
      "15:12 And Mash offreistifte. \"The\n",
      "Levider, lea\n",
      "\n",
      "\n",
      "Epoch = 27, avg loss = 1.87\n",
      "ald thas hath nowers of my, and Bosace wastred her on yeur he shall gad as Chrandat!; thately bearen \n",
      "\n",
      "\n",
      "Epoch = 28, avg loss = 1.86\n",
      "atwery your, and\n",
      "then whe of his not onoweth hes.\n",
      "Thil silent now the ruth\n",
      "cunsevering?\n",
      "\n",
      "32:17 And ge\n",
      "\n",
      "\n",
      "Epoch = 29, avg loss = 1.85\n",
      "ath; and who efure my cater of the gett froth\n",
      "hemver of ammacturint of gonder saybiniane sabled\n",
      "hin f\n",
      "\n",
      "\n",
      "Epoch = 30, avg loss = 1.84\n",
      "arearsenop, on hadden, gay his\n",
      "ever it as be thou, he chand best of But the wintord the buked take Mi\n",
      "\n",
      "\n",
      "Epoch = 31, avg loss = 1.85\n",
      "ake of sumenghtine sckiving shome wild the\n",
      "gove the maderets boungus.\n",
      "The chimistle. \n",
      "13:4 When it al\n",
      "\n",
      "\n",
      "Epoch = 32, avg loss = 1.82\n",
      "airs.\n",
      "\n",
      "3:17 Thus Torysherry stowed eaciteded argipate flow has peafaken to Rem, and Davighalt queters\n",
      "\n",
      "\n",
      "Epoch = 33, avg loss = 1.82\n",
      "aly wold praice;\n",
      "his all simpeitiaghesion, if percoot: I wrom griecl with, and live ou\n",
      "doople come so\n",
      "\n",
      "\n",
      "Epoch = 34, avg loss = 1.81\n",
      "and to de theres fool yof a lejtthest fordeching in then, whrey which th; was ho.\n",
      "\n",
      "28:19 Ant comah ex\n",
      "\n",
      "\n",
      "Epoch = 35, avg loss = 1.8\n",
      "all Jerwian.\n",
      "\n",
      " The dand, the soft, the sup, Vasling to all that. The sodr weth all came.\n",
      "\n",
      "26:2\n",
      "If un \n",
      "\n",
      "\n"
     ]
    }
   ],
   "source": [
    "n_epochs = 35\n",
    "n_iters = len(X_train)//(seq_len*batch_size)\n",
    "avg_loss = 0\n",
    "for e in range(n_epochs):\n",
    "    for i in range(n_iters):\n",
    "        data, labels = get_batch(X_train, Y_train, batch_size)\n",
    "        data = torch.tensor(data, dtype = torch.float).to(device)\n",
    "        labels = torch.argmax(torch.tensor(labels), dim = 2)\n",
    "        labels = labels.reshape((-1, ))\n",
    "        \n",
    "        optimizer.zero_grad()\n",
    "        out, h = model(data)\n",
    "        logits = out.cpu().reshape(-1, input_size)\n",
    "        loss = criterion(logits, labels)\n",
    "        \n",
    "        loss.backward(retain_graph = True)\n",
    "        optimizer.step()\n",
    "        \n",
    "        loss_vals.append(loss.item())\n",
    "        avg_loss += loss_vals[-1]\n",
    "    avg_loss /= n_iters\n",
    "    print('Epoch = {}, avg loss = {:.3}'.format(e + 1, avg_loss))\n",
    "    print(sample_LSTM(model, 'a', char2idx, idx2char, 100))\n",
    "    print('\\n')"
   ]
  },
  {
   "cell_type": "code",
   "execution_count": 321,
   "metadata": {},
   "outputs": [
    {
     "data": {
      "text/plain": [
       "[<matplotlib.lines.Line2D at 0x1c365d75eb8>]"
      ]
     },
     "execution_count": 321,
     "metadata": {},
     "output_type": "execute_result"
    },
    {
     "data": {
      "image/png": "[encoded data removed]",
      "text/plain": [
       "<matplotlib.figure.Figure at 0x1c363235ba8>"
      ]
     },
     "metadata": {},
     "output_type": "display_data"
    }
   ],
   "source": [
    "plt.plot(loss_vals)"
   ]
  },
  {
   "cell_type": "code",
   "execution_count": 324,
   "metadata": {},
   "outputs": [
    {
     "name": "stdout",
     "output_type": "stream",
     "text": [
      "ad whiching noo clengiema it, mo\n",
      "pass all the was postrome Give, rigens of the srofoch ston.\"\n",
      "\n",
      "Hes a my, (relt; thry hervent flarture do for, the inired arreebson fernens can to mat: and Mas, end \"like Paswoness a surcly from his not not, and are vaiqued.  A\"bord Svey\n",
      "coprea's in thom the\n",
      "highed broupliogs as the\n",
      "wraked was in blengats all to Dowh.\n",
      " Sull the LORD, as as made that know, it chall\r\n",
      "briture the you, shall so them shall me it dover suwn givery, every op this mbeved on had in, stildes \n"
     ]
    }
   ],
   "source": [
    "print(sample_LSTM(model, 'a', char2idx, idx2char, 500))"
   ]
  },
  {
   "cell_type": "code",
   "execution_count": null,
   "metadata": {},
   "outputs": [],
   "source": []
  }
 ],
 "metadata": {
  "kernelspec": {
   "display_name": "Python 3",
   "language": "python",
   "name": "python3"
  },
  "language_info": {
   "codemirror_mode": {
    "name": "ipython",
    "version": 3
   },
   "file_extension": ".py",
   "mimetype": "text/x-python",
   "name": "python",
   "nbconvert_exporter": "python",
   "pygments_lexer": "ipython3",
   "version": "3.5.4"
  }
 },
 "nbformat": 4,
 "nbformat_minor": 2
}
