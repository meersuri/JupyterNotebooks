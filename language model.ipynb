{
 "cells": [
  {
   "cell_type": "code",
   "execution_count": 61,
   "metadata": {},
   "outputs": [],
   "source": [
    "import numpy as np\n",
    "import torch\n",
    "import torchvision\n",
    "import time\n",
    "import torch.nn as nn\n",
    "import torch.nn.functional as F\n",
    "import torch.optim as optim\n",
    "import torchvision.transforms as transforms\n",
    "import matplotlib.pyplot as plt\n",
    "from torch.optim.lr_scheduler import ReduceLROnPlateau\n",
    "import nltk\n",
    "import string"
   ]
  },
  {
   "cell_type": "code",
   "execution_count": 2,
   "metadata": {},
   "outputs": [],
   "source": [
    "device = torch.device('cuda') if torch.cuda.is_available() else torch.device('cpu')"
   ]
  },
  {
   "cell_type": "code",
   "execution_count": 3,
   "metadata": {},
   "outputs": [
    {
     "name": "stdout",
     "output_type": "stream",
     "text": [
      "[nltk_data] Downloading package gutenberg to\n",
      "[nltk_data]     C:\\Users\\Lab716A-PC\\AppData\\Roaming\\nltk_data...\n",
      "[nltk_data]   Package gutenberg is already up-to-date!\n"
     ]
    },
    {
     "data": {
      "text/plain": [
       "True"
      ]
     },
     "execution_count": 3,
     "metadata": {},
     "output_type": "execute_result"
    }
   ],
   "source": [
    "nltk.download('gutenberg')"
   ]
  },
  {
   "cell_type": "code",
   "execution_count": 4,
   "metadata": {},
   "outputs": [],
   "source": [
    "dataset = nltk.corpus.gutenberg"
   ]
  },
  {
   "cell_type": "code",
   "execution_count": 5,
   "metadata": {},
   "outputs": [],
   "source": [
    "words = dataset.words()"
   ]
  },
  {
   "cell_type": "code",
   "execution_count": 6,
   "metadata": {},
   "outputs": [
    {
     "data": {
      "text/plain": [
       "2621613"
      ]
     },
     "execution_count": 6,
     "metadata": {},
     "output_type": "execute_result"
    }
   ],
   "source": [
    "len(words)"
   ]
  },
  {
   "cell_type": "code",
   "execution_count": 7,
   "metadata": {},
   "outputs": [
    {
     "data": {
      "text/plain": [
       "['[', 'Emma', 'by', 'Jane', 'Austen', '1816', ']', 'VOLUME', 'I', 'CHAPTER']"
      ]
     },
     "execution_count": 7,
     "metadata": {},
     "output_type": "execute_result"
    }
   ],
   "source": [
    "words[:10]"
   ]
  },
  {
   "cell_type": "code",
   "execution_count": 8,
   "metadata": {},
   "outputs": [
    {
     "data": {
      "text/plain": [
       "51156"
      ]
     },
     "execution_count": 8,
     "metadata": {},
     "output_type": "execute_result"
    }
   ],
   "source": [
    "len(set(words))"
   ]
  },
  {
   "cell_type": "code",
   "execution_count": 9,
   "metadata": {},
   "outputs": [
    {
     "data": {
      "text/plain": [
       "32"
      ]
     },
     "execution_count": 9,
     "metadata": {},
     "output_type": "execute_result"
    }
   ],
   "source": [
    "len(string.punctuation)"
   ]
  },
  {
   "cell_type": "code",
   "execution_count": 10,
   "metadata": {},
   "outputs": [],
   "source": [
    "n_chars = len(dataset.raw())"
   ]
  },
  {
   "cell_type": "code",
   "execution_count": 11,
   "metadata": {},
   "outputs": [
    {
     "data": {
      "text/plain": [
       "11793318"
      ]
     },
     "execution_count": 11,
     "metadata": {},
     "output_type": "execute_result"
    }
   ],
   "source": [
    "n_chars"
   ]
  },
  {
   "cell_type": "code",
   "execution_count": 12,
   "metadata": {},
   "outputs": [],
   "source": [
    "subset = dataset.raw()[: n_chars // 100]"
   ]
  },
  {
   "cell_type": "code",
   "execution_count": 18,
   "metadata": {},
   "outputs": [],
   "source": [
    "char2idx = {}\n",
    "idx2char = []"
   ]
  },
  {
   "cell_type": "code",
   "execution_count": 19,
   "metadata": {},
   "outputs": [],
   "source": [
    "for c in dataset.raw():\n",
    "    if c in char2idx:\n",
    "        continue\n",
    "    idx2char.append(c)\n",
    "    char2idx[c] = len(idx2char) - 1"
   ]
  },
  {
   "cell_type": "code",
   "execution_count": 22,
   "metadata": {},
   "outputs": [
    {
     "data": {
      "text/plain": [
       "['[', 'E', 'm', 'a', ' ', 'b', 'y', 'J', 'n', 'e']"
      ]
     },
     "execution_count": 22,
     "metadata": {},
     "output_type": "execute_result"
    }
   ],
   "source": [
    "idx2char[:10]"
   ]
  },
  {
   "cell_type": "code",
   "execution_count": 17,
   "metadata": {},
   "outputs": [
    {
     "data": {
      "text/plain": [
       "'[Emma by Jane Austen 1816]\\n\\nVOLUME I\\n\\nCHAPTER I\\n\\n\\nEmma Woodhouse, handsome, clever, and rich, with a'"
      ]
     },
     "execution_count": 17,
     "metadata": {},
     "output_type": "execute_result"
    }
   ],
   "source": [
    "dataset.raw()[:100]"
   ]
  },
  {
   "cell_type": "code",
   "execution_count": 266,
   "metadata": {},
   "outputs": [],
   "source": [
    "train_split = 0.9\n",
    "train_data = dataset.raw()[:int(0.7*len(dataset.raw()))]\n",
    "valid_data = dataset.raw()[int(0.7*len(dataset.raw())):]\n",
    "seq_len = 50\n",
    "batch_size = 20\n",
    "n_seq = len(train_data)//seq_len\n",
    "X_train = np.zeros((n_seq*seq_len, len(idx2char)), dtype = np.short)\n",
    "Y_train = np.zeros_like(X_train)\n",
    "for i in range(n_seq*seq_len):\n",
    "    c = train_data[i]\n",
    "    X_train[i][char2idx[c]] = 1\n",
    "\n",
    "for i in range(1, n_seq*seq_len + 1):\n",
    "    c = train_data[i]\n",
    "    Y_train[i - 1][char2idx[c]] = 1"
   ]
  },
  {
   "cell_type": "code",
   "execution_count": 267,
   "metadata": {},
   "outputs": [],
   "source": [
    "X_train = X_train\n",
    "X_train = X_train.reshape(-1, seq_len, len(idx2char))"
   ]
  },
  {
   "cell_type": "code",
   "execution_count": 268,
   "metadata": {},
   "outputs": [
    {
     "data": {
      "text/plain": [
       "(165106, 50, 97)"
      ]
     },
     "execution_count": 268,
     "metadata": {},
     "output_type": "execute_result"
    }
   ],
   "source": [
    "X_train.shape"
   ]
  },
  {
   "cell_type": "code",
   "execution_count": 269,
   "metadata": {},
   "outputs": [],
   "source": [
    "Y_train = Y_train\n",
    "Y_train = Y_train.reshape(-1, seq_len, len(idx2char))"
   ]
  },
  {
   "cell_type": "code",
   "execution_count": 270,
   "metadata": {},
   "outputs": [
    {
     "data": {
      "text/plain": [
       "(165106, 50, 97)"
      ]
     },
     "execution_count": 270,
     "metadata": {},
     "output_type": "execute_result"
    }
   ],
   "source": [
    "Y_train.shape"
   ]
  },
  {
   "cell_type": "code",
   "execution_count": 242,
   "metadata": {},
   "outputs": [],
   "source": [
    "def get_batch(X_train, Y_train, batch_size):\n",
    "    n = X_train.shape[0]\n",
    "    idx = np.random.randint(0, n, batch_size)\n",
    "    out = (X_train[idx], Y_train[idx])\n",
    "    return out"
   ]
  },
  {
   "cell_type": "code",
   "execution_count": 271,
   "metadata": {},
   "outputs": [],
   "source": [
    "data, labels = get_batch(X_train, Y_train, batch_size)"
   ]
  },
  {
   "cell_type": "code",
   "execution_count": 272,
   "metadata": {},
   "outputs": [
    {
     "data": {
      "text/plain": [
       "torch.Size([20, 50])"
      ]
     },
     "execution_count": 272,
     "metadata": {},
     "output_type": "execute_result"
    }
   ],
   "source": [
    "torch.argmax(torch.tensor(labels), dim = 2).shape"
   ]
  },
  {
   "cell_type": "code",
   "execution_count": 273,
   "metadata": {},
   "outputs": [
    {
     "name": "stdout",
     "output_type": "stream",
     "text": [
      "(20, 50, 97) (20, 50, 97)\n"
     ]
    }
   ],
   "source": [
    "print(data.shape, labels.shape)"
   ]
  },
  {
   "cell_type": "code",
   "execution_count": 262,
   "metadata": {},
   "outputs": [],
   "source": [
    "class RNN(nn.Module):\n",
    "    \"Batch-first Elman RNN\"\n",
    "    def __init__(self, input_size, hidden_size, num_layers, non_linearity):\n",
    "        super(RNN, self).__init__()\n",
    "        self.rnn = nn.RNN(input_size = input_size, hidden_size = hidden_size,\n",
    "                          num_layers = num_layers, nonlinearity = non_linearity,\n",
    "                          bias = True, batch_first=True, dropout=0, bidirectional=False)\n",
    "        self.Who = nn.Linear(hidden_size, input_size)\n",
    "    \n",
    "    def forward(self, X, h=None):\n",
    "        if h is not None:\n",
    "            features, h = self.rnn(X, h)\n",
    "        else:\n",
    "            features, h = self.rnn(X)\n",
    "        out = self.Who(features)\n",
    "        return out, h\n",
    "        "
   ]
  },
  {
   "cell_type": "code",
   "execution_count": 263,
   "metadata": {},
   "outputs": [],
   "source": [
    "def sample(model, init_char, char2idx, idx2char, n_chars):\n",
    "    x = np.zeros((1, 1, len(char2idx)), dtype = np.float)\n",
    "    h = np.zeros((1, 1, hidden_dim), dtype = np.float)\n",
    "    h = torch.tensor(h).to(device)\n",
    "    x[0, 0, char2idx[init_char]] = 1\n",
    "    x = torch.tensor(x).to(device)\n",
    "    gen = [init_char]\n",
    "    for i in range(n_chars):\n",
    "        out, h = model(x.float(), h)\n",
    "        probs = torch.softmax(out, dim = 2).detach().cpu().numpy()\n",
    "        char = np.random.choice(idx2char, p = np.squeeze(probs))\n",
    "        gen.append(char)\n",
    "        x = np.zeros((1, 1, len(char2idx)), dtype = np.float)\n",
    "        x[0, 0, char2idx[char]] = 1\n",
    "        x = torch.tensor(x).to(device)\n",
    "    return ''.join(gen)"
   ]
  },
  {
   "cell_type": "code",
   "execution_count": 274,
   "metadata": {},
   "outputs": [],
   "source": [
    "input_size = len(idx2char)\n",
    "hidden_dim = 128\n",
    "num_layers = 1\n",
    "model = RNN(input_size, hidden_dim, num_layers, 'tanh')\n",
    "model.to(device)\n",
    "optimizer = optim.Adam(model.parameters(), lr=0.001)\n",
    "criterion = nn.CrossEntropyLoss()\n",
    "loss_vals = []"
   ]
  },
  {
   "cell_type": "code",
   "execution_count": 275,
   "metadata": {},
   "outputs": [
    {
     "name": "stdout",
     "output_type": "stream",
     "text": [
      "Epoch = 1, avg loss = 3.24\n",
      "ac\n",
      " tiner rf  tesenal iro ih ttc es rurAo\n",
      "nom  mre\n",
      "wsr\n",
      "rp  \n",
      "diamnTi\n",
      "anh t ph therrlifoeoiethbunp Jone\n",
      "\n",
      "\n",
      "Epoch = 2, avg loss = 2.77\n",
      "amy heuofy aiphal\n",
      "thel ilseyRtr yur ra\n",
      "the Tho  Aaua hadwy Iand mTeittiur he nhe hhure.  tay baEt ahy\n",
      "\n",
      "\n",
      "Epoch = 3, avg loss = 2.42\n",
      "akd gaputhe  iuce leemy bl; Got kean ond tator Tht cilgan ontof byme taag\n",
      "me be irlpos bor tn shiwh T\n",
      "\n",
      "\n",
      "Epoch = 4, avg loss = 2.29\n",
      "aigscofesan bwtarered sole\n",
      "seens hatlen f\n",
      "peerllend hingthet flae pfored.\n",
      "\n",
      " Whou, the all her nigh\n",
      "\n",
      "\n",
      "Epoch = 5, avg loss = 2.2\n",
      "an and hed bllito; gof redel the and ye.  Be innono.\n",
      "\n",
      "D8?r bive to wade . ar iond mo chilithee therre\n",
      "\n",
      "\n",
      "Epoch = 6, avg loss = 2.16\n",
      "ank fots av I wha houde vid an; in the Horenose hay \"fry noud thele ve wha eflena d, and the An ald s\n",
      "\n",
      "\n",
      "Epoch = 7, avg loss = 2.11\n",
      "an tory the which,\n",
      "ghay Jequald to Mare gitare.\n",
      "\n",
      "25:24 And le terting\n",
      "tlertslle thearast loune he was\n",
      "\n",
      "\n",
      "Epoch = 8, avg loss = 2.08\n",
      "awive:  he arnedlo\n",
      "theke behere made claicen sece wis;\n",
      "wishinge tore an inst pant outheet\n",
      "redace\n",
      "buss\n",
      "\n",
      "\n",
      "Epoch = 9, avg loss = 2.05\n",
      "all dehis the hant in by; beesthe\n",
      "s, and arver Thoure\n",
      "thake tericent mo hourte node.  not the puttiog\n",
      "\n",
      "\n",
      "Epoch = 10, avg loss = 2.01\n",
      "and in Jiverads lo. Thind afamheres, and\n",
      "laving o and miigso.  He lung buld ug an i tle CresGik.\n",
      "I\n",
      "\n",
      "2\n",
      "\n",
      "\n",
      "Epoch = 11, avg loss = 1.99\n",
      "atanevereame\n",
      "thor hey came,\"lloss gime fof tolliatimentani. Mr.p,\" sto botr fithive normertonceramoco\n",
      "\n",
      "\n",
      "Epoch = 12, avg loss = 1.97\n",
      "athok st were and the wist ond the sead he: shall thy\n",
      "rijnitore:\n",
      "f\n",
      "im hasn of the wohe of her halt th\n",
      "\n",
      "\n",
      "Epoch = 13, avg loss = 1.95\n",
      "atm, and he dane wIsh pistid ars, and that he hid to t ye farnerutiot efore your blonk fauther in the\n",
      "\n",
      "\n",
      "Epoch = 14, avg loss = 1.93\n",
      "acus will I\n",
      "liodhond, with hemorges, Then onter it the\n",
      "mint, O8:53 furs feritever they maghun, ther i\n",
      "\n",
      "\n",
      "Epoch = 15, avg loss = 1.9\n",
      "at the reeituin; and all wes to cizse to hins wild in cepentosedifay in.\" Singhess with him t it O fo\n",
      "\n",
      "\n",
      "Epoch = 16, avg loss = 1.89\n",
      "ast LORD mat: Zeroun yound divais, and thy urne consilice; and yee\n",
      "Momy, and byings sway saich to gr\n",
      "\n",
      "\n",
      "Epoch = 17, avg loss = 1.88\n",
      "ackmenrugaye\"\n",
      "soy be the father from the LORD, whe\" she hen\n",
      "mf, and thus war. \n",
      "68: 5\n",
      "Rus fatith ole\n",
      "\n",
      "\n",
      "Epoch = 18, avg loss = 1.87\n",
      "an is of gook to poid.  Thet thencpsting; and have Godred your sen Edwhit beever to; ye rean, mad, Ha\n",
      "\n",
      "\n",
      "Epoch = 19, avg loss = 1.85\n",
      "al werk in yer\n",
      "her, prlpusr's  himble then fork man.\n",
      "\n",
      "118:71 But had in where shauld be breimbysn for\n",
      "\n",
      "\n",
      "Epoch = 20, avg loss = 1.84\n",
      "atow; the swelly de pjustle hooked quibling these andingor he, ard.  wrigh said\n",
      "the etherion.  \"och a\n",
      "\n",
      "\n",
      "Epoch = 21, avg loss = 1.83\n",
      "arin: 7:10 The eabuss\n",
      "and mest upon weeat\n",
      "dabmect ank\n",
      "of myakeres firite.  A2stoter sull of her mofr\n",
      "\n",
      "\n",
      "Epoch = 22, avg loss = 1.82\n",
      "as theisole so for hiz, They Efurs: that his fornt!\n",
      "Tathor for had beroun Chrised ther belor the with\n",
      "\n",
      "\n",
      "Epoch = 23, avg loss = 1.81\n",
      "and be apperatiou: I heat net but as the copmansely forned betree,\n",
      "You as Basar, and\n",
      "(ane my muble ge\n",
      "\n",
      "\n",
      "Epoch = 24, avg loss = 1.8\n",
      "are of mired\n",
      "the\n",
      "men with\n",
      "lake as at\n",
      "wined, and theretherss is dome all greable \n",
      "\n",
      "\"On!  5 And Hahe v\n",
      "\n",
      "\n",
      "Epoch = 25, avg loss = 1.8\n",
      "ambahe herd.\n",
      "Amoso sis thingo calting swalts of hank the LORD to he shall out to houre sonetowarns im\n",
      "\n",
      "\n",
      "Epoch = 26, avg loss = 1.79\n",
      "at atrer murm you\n",
      "callibe t\n",
      "fornepred that waman't dow to sid in her. She propled mones growerm thein\n",
      "\n",
      "\n",
      "Epoch = 27, avg loss = 1.78\n",
      "act of God, I wild be\n",
      "putters thus hold will\n",
      "blled the preccest to from not, a deverce of the\n",
      "dlest u\n",
      "\n",
      "\n",
      "Epoch = 28, avg loss = 1.77\n",
      "ans.\"\n",
      "\n",
      "    \"He old were rey obeinger, and the doft if Crese betace, whon Is Barts shedell,\n",
      "22:15 Hind\n",
      "\n",
      "\n",
      "Epoch = 29, avg loss = 1.77\n",
      "ancechiness was xegred\n",
      "inirech entuls his sight to ar.\n",
      "\n",
      "`Thum and her\n",
      "spural me the tring God, Yes we\n",
      "\n",
      "\n",
      "Epoch = 30, avg loss = 1.76\n",
      "asserica, it never whem ye wored of your.  Han weet dixsterint-not gadgence of plestied to mece.\n",
      "\n",
      "9:2\n",
      "\n",
      "\n",
      "Epoch = 31, avg loss = 1.77\n",
      "akethis dobeon, as hors doch not more to wasce of spurne.\n",
      "\n",
      "29:19 And then Beally bace of Asariah, is \n",
      "\n",
      "\n",
      "Epoch = 32, avg loss = 1.76\n",
      "artabien with\n",
      "Ab.\n",
      "\n",
      "19:7 The trease.\n",
      "\n",
      "30:10 The Nick his beetar's siwere to stacled: and to he knowe t\n",
      "\n",
      "\n",
      "Epoch = 33, avg loss = 1.75\n",
      "and wusteres aremyings,\n",
      "for the doing it\n",
      "be all heard even in\n",
      "intu,  he were if suase, hivh deerright\n",
      "\n",
      "\n",
      "Epoch = 34, avg loss = 1.74\n",
      "an agained awants\n",
      "colled to mame tima, and for thing,\n",
      "the Theam Mr.\n",
      "\n",
      "\n",
      "Toknm them heively--beef: f\n",
      "\n",
      "\n",
      "Epoch = 35, avg loss = 1.73\n",
      "all and thou herd beety thou I and unto the provion of a lequers, is thouses, bewnen ho when\n",
      "hes\n",
      "was \n",
      "\n",
      "\n"
     ]
    }
   ],
   "source": [
    "n_epochs = 35\n",
    "n_iters = len(X_train)//(seq_len*batch_size)\n",
    "avg_loss = 0\n",
    "for e in range(n_epochs):\n",
    "    for i in range(n_iters):\n",
    "        data, labels = get_batch(X_train, Y_train, batch_size)\n",
    "        data = torch.tensor(data, dtype = torch.float).to(device)\n",
    "        labels = torch.argmax(torch.tensor(labels), dim = 2)\n",
    "        labels = labels.reshape((-1, ))\n",
    "        \n",
    "        optimizer.zero_grad()\n",
    "        out, h = model(data)\n",
    "        logits = out.cpu().reshape(-1, input_size)\n",
    "        loss = criterion(logits, labels)\n",
    "        \n",
    "        loss.backward(retain_graph = True)\n",
    "        optimizer.step()\n",
    "        \n",
    "        loss_vals.append(loss.item())\n",
    "        avg_loss += loss_vals[-1]\n",
    "    avg_loss /= n_iters\n",
    "    print('Epoch = {}, avg loss = {:.3}'.format(e + 1, avg_loss))\n",
    "    print(sample(model, 'a', char2idx, idx2char, 100))\n",
    "    print('\\n')"
   ]
  },
  {
   "cell_type": "code",
   "execution_count": 276,
   "metadata": {},
   "outputs": [
    {
     "data": {
      "text/plain": [
       "[<matplotlib.lines.Line2D at 0x1c363245d68>]"
      ]
     },
     "execution_count": 276,
     "metadata": {},
     "output_type": "execute_result"
    },
    {
     "data": {
      "image/png": "[encoded data removed]",
      "text/plain": [
       "<matplotlib.figure.Figure at 0x1c36aeceb00>"
      ]
     },
     "metadata": {},
     "output_type": "display_data"
    }
   ],
   "source": [
    "plt.plot(loss_vals)"
   ]
  },
  {
   "cell_type": "code",
   "execution_count": 277,
   "metadata": {},
   "outputs": [
    {
     "name": "stdout",
     "output_type": "stream",
     "text": [
      "arns.\n",
      "\n",
      "2:36 Then offustith your him not they whuch thou, and I have greed go\n",
      "toover of had\n",
      "the LORD what I son he msald\n",
      "butted an one im\n",
      "one of\n",
      "the loon pophs the angling of amer, hoofy one hruskson, he hid with strongimare on the\n",
      "had aby they soate reme, and pensioned ont they the macke inirsted, and townth our and rath Childreto; whit she thours; and aftery: 'bur he his reation of but seewa\n",
      "from Bread, we acropte\n",
      "to lethed the Lort her buber there he said nonem his wordh then, whe hrack of Isra\n"
     ]
    }
   ],
   "source": [
    "print(sample(model, 'a', char2idx, idx2char, 500))"
   ]
  },
  {
   "cell_type": "code",
   "execution_count": null,
   "metadata": {},
   "outputs": [],
   "source": []
  }
 ],
 "metadata": {
  "kernelspec": {
   "display_name": "Python 3",
   "language": "python",
   "name": "python3"
  },
  "language_info": {
   "codemirror_mode": {
    "name": "ipython",
    "version": 3
   },
   "file_extension": ".py",
   "mimetype": "text/x-python",
   "name": "python",
   "nbconvert_exporter": "python",
   "pygments_lexer": "ipython3",
   "version": "3.5.4"
  }
 },
 "nbformat": 4,
 "nbformat_minor": 2
}
