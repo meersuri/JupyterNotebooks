{
 "cells": [
  {
   "cell_type": "code",
   "execution_count": 1,
   "metadata": {},
   "outputs": [],
   "source": [
    "import numpy as np\n",
    "import matplotlib.pyplot as plt\n",
    "import tensorflow as tf"
   ]
  },
  {
   "cell_type": "code",
   "execution_count": 4,
   "metadata": {},
   "outputs": [
    {
     "name": "stdout",
     "output_type": "stream",
     "text": [
      "tf.Tensor(3.0, shape=(), dtype=float32) tf.Tensor(2.0, shape=(), dtype=float32)\n"
     ]
    }
   ],
   "source": [
    "a = tf.Variable(2.0)\n",
    "b = tf.Variable(3.0)\n",
    "with tf.GradientTape(persistent=True) as tape:\n",
    "    y = a*b\n",
    "dy_a = tape.gradient(y, a)\n",
    "dy_b = tape.gradient(y, b)\n",
    "print(dy_a, dy_b)"
   ]
  },
  {
   "cell_type": "code",
   "execution_count": 7,
   "metadata": {},
   "outputs": [
    {
     "name": "stdout",
     "output_type": "stream",
     "text": [
      "tf.Tensor(0.14676267, shape=(), dtype=float32) tf.Tensor(0.073381335, shape=(), dtype=float32)\n"
     ]
    }
   ],
   "source": [
    "mean = tf.Variable(0.5)\n",
    "var = tf.Variable(2.0)\n",
    "x = tf.Variable(2.5)\n",
    "with tf.GradientTape(persistent=True) as tape:\n",
    "    px = ((2*np.pi)**(-0.5))*tf.exp((-0.5*(x - mean)**2)/var)\n",
    "dpx_mean = tape.gradient(px, mean)\n",
    "dpy_var = tape.gradient(px, var)\n",
    "print(dpx_mean, dpy_var)"
   ]
  }
 ],
 "metadata": {},
 "nbformat": 4,
 "nbformat_minor": 4
}
