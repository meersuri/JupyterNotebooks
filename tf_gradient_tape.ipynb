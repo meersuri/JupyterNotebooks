{
 "cells": [
  {
   "cell_type": "code",
   "execution_count": 1,
   "metadata": {},
   "outputs": [],
   "source": [
    "import numpy as np\n",
    "import matplotlib.pyplot as plt\n",
    "import tensorflow as tf"
   ]
  },
  {
   "cell_type": "markdown",
   "metadata": {},
   "source": [
    "$y = a + b$ $\\newline$\n",
    "$\\dfrac{dy}{da} = b$ $\\newline$\n",
    "$\\dfrac{dy}{db} = a$ $\\newline$"
   ]
  },
  {
   "cell_type": "code",
   "execution_count": 3,
   "metadata": {},
   "outputs": [
    {
     "name": "stdout",
     "output_type": "stream",
     "text": [
      "tf.Tensor(3.0, shape=(), dtype=float32) tf.Tensor(2.0, shape=(), dtype=float32)\n"
     ]
    }
   ],
   "source": [
    "a = tf.Variable(2.0)\n",
    "b = tf.Variable(3.0)\n",
    "with tf.GradientTape(persistent=True) as tape:\n",
    "    y = a*b\n",
    "dy_a = tape.gradient(y, a)\n",
    "dy_b = tape.gradient(y, b)\n",
    "print(dy_a, dy_b)"
   ]
  },
  {
   "cell_type": "markdown",
   "metadata": {},
   "source": [
    "\\begin{equation}\n",
    "p(x) = \\dfrac{1}{\\sqrt{2\\pi}}\\exp \\left( -\\dfrac{(x - \\mu)^2}{\\sigma^2}\\right)\n",
    "\\end{equation}"
   ]
  },
  {
   "cell_type": "code",
   "execution_count": 4,
   "metadata": {},
   "outputs": [
    {
     "name": "stdout",
     "output_type": "stream",
     "text": [
      "tf.Tensor(0.08801633, shape=(), dtype=float32) tf.Tensor(0.044008166, shape=(), dtype=float32)\n"
     ]
    }
   ],
   "source": [
    "mean = tf.Variable(1.5)\n",
    "sigma = tf.Variable(2.0)\n",
    "x = tf.Variable(2.5)\n",
    "with tf.GradientTape(persistent=True) as tape:\n",
    "    px = ((2*np.pi)**(-0.5))*tf.exp((-0.5*(x - mean)**2)/sigma**2)\n",
    "dpx_mean = tape.gradient(px, mean)\n",
    "dpy_sigma = tape.gradient(px, sigma)\n",
    "print(dpx_mean, dpy_sigma)"
   ]
  },
  {
   "cell_type": "markdown",
   "metadata": {},
   "source": [
    "\\begin{equation}\n",
    "\\frac{\\partial p(x)}{\\partial \\mu} = \\frac{(x - \\mu)}{\\sigma^2} \\times p(x)\n",
    "\\end{equation}\n",
    "\\begin{equation}\n",
    "\\frac{\\partial p(x)}{\\partial \\sigma} = \\frac{(x - \\mu)^2}{\\sigma^3} \\times p(x)\n",
    "\\end{equation}"
   ]
  },
  {
   "cell_type": "code",
   "execution_count": 5,
   "metadata": {},
   "outputs": [
    {
     "name": "stdout",
     "output_type": "stream",
     "text": [
      "0.08801633169107488 0.04400816584553744\n"
     ]
    }
   ],
   "source": [
    "mean = 1.5\n",
    "sigma = 2.0\n",
    "x = 2.5\n",
    "px = ((2*np.pi)**(-0.5))*np.exp((-0.5*(x - mean)**2)/sigma**2)\n",
    "dpx_mean_analytic = ((x - mean)/sigma**2)*px\n",
    "dpx_sigma_analytic = (((x - mean)**2)/sigma**3)*px\n",
    "print(dpx_mean_analytic, dpx_sigma_analytic)"
   ]
  }
 ],
 "metadata": {
  "kernelspec": {
   "display_name": "Python 3",
   "language": "python",
   "name": "python3"
  },
  "language_info": {
   "codemirror_mode": {
    "name": "ipython",
    "version": 3
   },
   "file_extension": ".py",
   "mimetype": "text/x-python",
   "name": "python",
   "nbconvert_exporter": "python",
   "pygments_lexer": "ipython3",
   "version": "3.7.9"
  }
 },
 "nbformat": 4,
 "nbformat_minor": 4
}
