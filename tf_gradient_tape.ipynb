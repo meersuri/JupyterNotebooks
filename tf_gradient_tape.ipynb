{
 "cells": [
  {
   "cell_type": "code",
   "execution_count": 2,
   "metadata": {},
   "outputs": [],
   "source": [
    "import numpy as np\n",
    "import matplotlib.pyplot as plt\n",
    "import tensorflow as tf"
   ]
  },
  {
   "cell_type": "code",
   "execution_count": 3,
   "metadata": {},
   "outputs": [
    {
     "name": "stdout",
     "output_type": "stream",
     "text": [
      "tf.Tensor(3.0, shape=(), dtype=float32) tf.Tensor(2.0, shape=(), dtype=float32)\n"
     ]
    }
   ],
   "source": [
    "a = tf.Variable(2.0)\n",
    "b = tf.Variable(3.0)\n",
    "with tf.GradientTape(persistent=True) as tape:\n",
    "    y = a*b\n",
    "dy_a = tape.gradient(y, a)\n",
    "dy_b = tape.gradient(y, b)\n",
    "print(dy_a, dy_b)"
   ]
  },
  {
   "cell_type": "code",
   "execution_count": 4,
   "metadata": {},
   "outputs": [
    {
     "name": "stdout",
     "output_type": "stream",
     "text": [
      "tf.Tensor(0.14676267, shape=(), dtype=float32) tf.Tensor(0.073381335, shape=(), dtype=float32)\n"
     ]
    }
   ],
   "source": [
    "mean = tf.Variable(0.5)\n",
    "var = tf.Variable(2.0)\n",
    "x = tf.Variable(2.5)\n",
    "with tf.GradientTape(persistent=True) as tape:\n",
    "    px = ((2*np.pi)**(-0.5))*tf.exp((-0.5*(x - mean)**2)/var)\n",
    "dpx_mean = tape.gradient(px, mean)\n",
    "dpy_var = tape.gradient(px, var)\n",
    "print(dpx_mean, dpy_var)"
   ]
  },
  {
   "cell_type": "code",
   "execution_count": 7,
   "metadata": {},
   "outputs": [
    {
     "name": "stdout",
     "output_type": "stream",
     "text": [
      "0.14676266317373993 0.07338133158686996\n"
     ]
    }
   ],
   "source": [
    "mean = 0.5\n",
    "var = 2.0\n",
    "x = 2.5\n",
    "px = ((2*np.pi)**(-0.5))*np.exp((-0.5*(x - mean)**2)/var)\n",
    "dpx_mean_analytic = ((x - mean)/var)*px\n",
    "dpx_var_analytic = (((x - mean)**2)/var**3)*px\n",
    "print(dpx_mean_analytic, dpx_var_analytic)"
   ]
  }
 ],
 "metadata": {
  "kernelspec": {
   "display_name": "Python 3",
   "language": "python",
   "name": "python3"
  },
  "language_info": {
   "codemirror_mode": {
    "name": "ipython",
    "version": 3
   },
   "file_extension": ".py",
   "mimetype": "text/x-python",
   "name": "python",
   "nbconvert_exporter": "python",
   "pygments_lexer": "ipython3",
   "version": "3.7.9"
  }
 },
 "nbformat": 4,
 "nbformat_minor": 4
}
