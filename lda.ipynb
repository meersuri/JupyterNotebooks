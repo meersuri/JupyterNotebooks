{
 "cells": [
  {
   "cell_type": "code",
   "execution_count": 8,
   "metadata": {},
   "outputs": [],
   "source": [
    "import numpy as np\n",
    "import sklearn\n",
    "import sklearn.datasets as ds\n",
    "import scipy.stats as stats\n",
    "import matplotlib.pyplot as plt\n",
    "import sklearn.decomposition"
   ]
  },
  {
   "cell_type": "code",
   "execution_count": 2,
   "metadata": {},
   "outputs": [],
   "source": [
    "dataset = ds.fetch_kddcup99(shuffle=True)"
   ]
  },
  {
   "cell_type": "code",
   "execution_count": 3,
   "metadata": {},
   "outputs": [
    {
     "data": {
      "text/plain": [
       "(494021, 41)"
      ]
     },
     "execution_count": 3,
     "metadata": {},
     "output_type": "execute_result"
    }
   ],
   "source": [
    "data = dataset.data\n",
    "data.shape"
   ]
  },
  {
   "cell_type": "code",
   "execution_count": 4,
   "metadata": {},
   "outputs": [
    {
     "name": "stdout",
     "output_type": "stream",
     "text": [
      "1 <class 'bytes'>\n",
      "2 <class 'bytes'>\n",
      "3 <class 'bytes'>\n"
     ]
    }
   ],
   "source": [
    "#find and convert categorical to one-hot numerical\n",
    "categorical = []\n",
    "classes = []\n",
    "encodings = []\n",
    "for i in range(data.shape[1]):\n",
    "    if not (isinstance(data[0, i], float) or isinstance(data[0, i], int)):\n",
    "        print(i, type(data[0, i]))\n",
    "        categorical.append(i)\n",
    "        classes.append(set(data[:, i]))\n",
    "        code = {}\n",
    "        j = 0\n",
    "        for x in classes[-1]:\n",
    "            if x not in code:\n",
    "                code[x] = j\n",
    "                j += 1\n",
    "        encodings.append(code)"
   ]
  },
  {
   "cell_type": "code",
   "execution_count": 5,
   "metadata": {},
   "outputs": [
    {
     "name": "stdout",
     "output_type": "stream",
     "text": [
      "[1. 0. 0.]\n",
      "b'icmp'\n",
      "[0. 0. 0. 0. 0. 0. 0. 0. 0. 0. 0. 0. 0. 0. 1. 0. 0. 0. 0. 0. 0. 0. 0. 0.\n",
      " 0. 0. 0. 0. 0. 0. 0. 0. 0. 0. 0. 0. 0. 0. 0. 0. 0. 0. 0. 0. 0. 0. 0. 0.\n",
      " 0. 0. 0. 0. 0. 0. 0. 0. 0. 0. 0. 0. 0. 0. 0. 0. 0. 0.]\n",
      "b'ecr_i'\n",
      "[0. 0. 0. 0. 0. 0. 0. 0. 0. 0. 1.]\n",
      "b'SF'\n"
     ]
    },
    {
     "data": {
      "text/plain": [
       "(494021, 118)"
      ]
     },
     "execution_count": 5,
     "metadata": {},
     "output_type": "execute_result"
    }
   ],
   "source": [
    "#one-hot encoding\n",
    "idx = [i for i in range(data.shape[1]) if i not in categorical]\n",
    "X = data[:, idx]\n",
    "for i in range(len(categorical)):\n",
    "    idx = categorical[i]\n",
    "    code = encodings[i]\n",
    "    Xh = np.zeros((data.shape[0], len(code)), dtype = np.float32)\n",
    "    for j in range(data[:, idx].shape[0]):\n",
    "        Xh[j][code[data[j, idx]]] = 1\n",
    "    print(Xh[0])\n",
    "    print(data[0, idx])\n",
    "    X = np.concatenate([X, Xh], axis = 1)\n",
    "X = np.array(X, dtype = np.float32)\n",
    "X.shape"
   ]
  },
  {
   "cell_type": "code",
   "execution_count": 50,
   "metadata": {},
   "outputs": [
    {
     "data": {
      "text/plain": [
       "(494021, 3)"
      ]
     },
     "execution_count": 50,
     "metadata": {},
     "output_type": "execute_result"
    }
   ],
   "source": [
    "#project to a lower dimension to improve MLE fitting\n",
    "PCA = sklearn.decomposition.PCA(n_components = 3)\n",
    "Xp = PCA.fit_transform(X) \n",
    "Xp.shape"
   ]
  },
  {
   "cell_type": "code",
   "execution_count": 51,
   "metadata": {},
   "outputs": [
    {
     "data": {
      "text/plain": [
       "<Container object of 3 artists>"
      ]
     },
     "execution_count": 51,
     "metadata": {},
     "output_type": "execute_result"
    },
    {
     "data": {
      "image/png": "[encoded data removed]",
      "text/plain": [
       "<matplotlib.figure.Figure at 0x1f5ec773860>"
      ]
     },
     "metadata": {},
     "output_type": "display_data"
    }
   ],
   "source": [
    "plt.stem(PCA.explained_variance_ratio_)"
   ]
  },
  {
   "cell_type": "code",
   "execution_count": 52,
   "metadata": {},
   "outputs": [
    {
     "name": "stdout",
     "output_type": "stream",
     "text": [
      "(345814, 3) (74103, 3) (74104, 3)\n"
     ]
    }
   ],
   "source": [
    "train_frac = 0.70\n",
    "val_frac = 0.15\n",
    "n = X.shape[0]\n",
    "X_train = Xp[:int(n*train_frac)]\n",
    "X_val = Xp[int(n*train_frac):int(n*(train_frac + val_frac))]\n",
    "X_test = Xp[int(n*(train_frac + val_frac)):]\n",
    "print(X_train.shape, X_val.shape, X_test.shape)"
   ]
  },
  {
   "cell_type": "code",
   "execution_count": 53,
   "metadata": {},
   "outputs": [
    {
     "data": {
      "text/plain": [
       "dtype('float32')"
      ]
     },
     "execution_count": 53,
     "metadata": {},
     "output_type": "execute_result"
    }
   ],
   "source": [
    "X.dtype"
   ]
  },
  {
   "cell_type": "code",
   "execution_count": 54,
   "metadata": {},
   "outputs": [
    {
     "data": {
      "text/plain": [
       "(494021,)"
      ]
     },
     "execution_count": 54,
     "metadata": {},
     "output_type": "execute_result"
    }
   ],
   "source": [
    "target = dataset.target\n",
    "target.shape"
   ]
  },
  {
   "cell_type": "code",
   "execution_count": 55,
   "metadata": {},
   "outputs": [
    {
     "data": {
      "text/plain": [
       "array([b'smurf.', b'smurf.', b'smurf.', b'neptune.', b'neptune.'],\n",
       "      dtype=object)"
      ]
     },
     "execution_count": 55,
     "metadata": {},
     "output_type": "execute_result"
    }
   ],
   "source": [
    "target[:5]"
   ]
  },
  {
   "cell_type": "code",
   "execution_count": 56,
   "metadata": {},
   "outputs": [],
   "source": [
    "#mapping from class names to numeric labels\n",
    "class_encoding = {}\n",
    "i = 0\n",
    "for x in target:\n",
    "    if x not in class_encoding:\n",
    "        class_encoding[x] = i\n",
    "        i += 1\n",
    "K = i"
   ]
  },
  {
   "cell_type": "code",
   "execution_count": 57,
   "metadata": {},
   "outputs": [
    {
     "data": {
      "text/plain": [
       "(494021, 23)"
      ]
     },
     "execution_count": 57,
     "metadata": {},
     "output_type": "execute_result"
    }
   ],
   "source": [
    "Y = np.zeros((target.shape[0], K))\n",
    "Y.shape"
   ]
  },
  {
   "cell_type": "code",
   "execution_count": 58,
   "metadata": {},
   "outputs": [],
   "source": [
    "#one-hot encoding\n",
    "for i, y in enumerate(target):\n",
    "    Y[i][class_encoding[y]] = 1"
   ]
  },
  {
   "cell_type": "code",
   "execution_count": 59,
   "metadata": {},
   "outputs": [
    {
     "data": {
      "text/plain": [
       "array([[1., 0., 0., 0., 0., 0., 0., 0., 0., 0., 0., 0., 0., 0., 0., 0.,\n",
       "        0., 0., 0., 0., 0., 0., 0.],\n",
       "       [1., 0., 0., 0., 0., 0., 0., 0., 0., 0., 0., 0., 0., 0., 0., 0.,\n",
       "        0., 0., 0., 0., 0., 0., 0.],\n",
       "       [1., 0., 0., 0., 0., 0., 0., 0., 0., 0., 0., 0., 0., 0., 0., 0.,\n",
       "        0., 0., 0., 0., 0., 0., 0.]])"
      ]
     },
     "execution_count": 59,
     "metadata": {},
     "output_type": "execute_result"
    }
   ],
   "source": [
    "Y[:3]"
   ]
  },
  {
   "cell_type": "code",
   "execution_count": 60,
   "metadata": {},
   "outputs": [
    {
     "data": {
      "text/plain": [
       "array([b'smurf.', b'smurf.', b'smurf.'], dtype=object)"
      ]
     },
     "execution_count": 60,
     "metadata": {},
     "output_type": "execute_result"
    }
   ],
   "source": [
    "target[:3]"
   ]
  },
  {
   "cell_type": "code",
   "execution_count": 61,
   "metadata": {},
   "outputs": [
    {
     "name": "stdout",
     "output_type": "stream",
     "text": [
      "(345814, 23) (74103, 23) (74104, 23)\n"
     ]
    }
   ],
   "source": [
    "n = Y.shape[0]\n",
    "Y_train = Y[:int(n*train_frac)]\n",
    "Y_val = Y[int(n*train_frac):int(n*(train_frac + val_frac))]\n",
    "Y_test = Y[int(n*(train_frac + val_frac)):]\n",
    "print(Y_train.shape, Y_val.shape, Y_test.shape)"
   ]
  },
  {
   "cell_type": "code",
   "execution_count": 62,
   "metadata": {},
   "outputs": [],
   "source": [
    "class LDA:\n",
    "    def __init__(self, data):\n",
    "        #init class priors and Gaussian class conditionals\n",
    "        assert type(data) == tuple\n",
    "        assert len(data) == 2\n",
    "        self.X = data[0]\n",
    "        self.Y = data[1]\n",
    "        assert self.X.shape[0] == self.Y.shape[0]\n",
    "        self.d = self.X.shape[1]\n",
    "        self.K = self.Y.shape[1]\n",
    "        \n",
    "        self.r = np.zeros((self.K, 1), dtype = np.float32)\n",
    "        self.u = np.zeros((self.K, self.d), dtype = np.float32)\n",
    "        self.S = np.zeros((1, self.d, self.d), dtype = np.float32)\n",
    "    \n",
    "    def fit(self):\n",
    "        #estimate the class priors and class conditional means using sample stats\n",
    "        for i in range(self.X.shape[0]):\n",
    "            c = np.nonzero(self.Y[i])[0][0]\n",
    "            self.r[c] += 1\n",
    "            self.u[c] += self.X[i]\n",
    "\n",
    "        self.u /= self.r \n",
    "        self.r /= self.X.shape[0]\n",
    "        \n",
    "        #estimate shared covariance matrix using their sample stats\n",
    "        for i in range(self.X.shape[0]):\n",
    "            c = np.nonzero(self.Y[i])[0][0]\n",
    "            x = np.expand_dims(self.X[i], axis = 1)\n",
    "            self.S[0] += np.matmul((x - self.u[c]), (x - self.u[c]).T)\n",
    "        \n",
    "        self.S /= (self.X.shape[0] - self.K)\n",
    "    \n",
    "    def predict(self, X):\n",
    "        out = []\n",
    "        for i in range(X.shape[0]):\n",
    "            #posterior = prior * likelihood\n",
    "            posteriors = [self.r[j]*stats.multivariate_normal.pdf(X[i], self.u[j], self.S[0]) for j in range(self.K)]\n",
    "            pred = np.argmax(posteriors)\n",
    "            out.append(pred)\n",
    "        return out"
   ]
  },
  {
   "cell_type": "code",
   "execution_count": 63,
   "metadata": {},
   "outputs": [],
   "source": [
    "model = LDA((X_train, Y_train))\n",
    "model.fit()"
   ]
  },
  {
   "cell_type": "code",
   "execution_count": 64,
   "metadata": {},
   "outputs": [
    {
     "data": {
      "text/plain": [
       "<Container object of 3 artists>"
      ]
     },
     "execution_count": 64,
     "metadata": {},
     "output_type": "execute_result"
    },
    {
     "data": {
      "image/png": "[encoded data removed]",
      "text/plain": [
       "<matplotlib.figure.Figure at 0x1f5ec46c240>"
      ]
     },
     "metadata": {},
     "output_type": "display_data"
    }
   ],
   "source": [
    "plt.stem(model.r)"
   ]
  },
  {
   "cell_type": "code",
   "execution_count": 65,
   "metadata": {},
   "outputs": [
    {
     "data": {
      "text/plain": [
       "array([4.1801265e+12, 1.2444337e+09, 5.8072105e+09], dtype=float32)"
      ]
     },
     "execution_count": 65,
     "metadata": {},
     "output_type": "execute_result"
    }
   ],
   "source": [
    "w, v = np.linalg.eig(model.S[0])\n",
    "w"
   ]
  },
  {
   "cell_type": "code",
   "execution_count": 66,
   "metadata": {},
   "outputs": [],
   "source": [
    "Y_val_preds = model.predict(X_val)"
   ]
  },
  {
   "cell_type": "code",
   "execution_count": 73,
   "metadata": {},
   "outputs": [
    {
     "data": {
      "text/plain": [
       "array([ 1284,  1486,  5292,  6122,  6714, 20579, 34608, 35274, 37094,\n",
       "       37556, 41920, 43179], dtype=int64)"
      ]
     },
     "execution_count": 73,
     "metadata": {},
     "output_type": "execute_result"
    }
   ],
   "source": [
    "np.nonzero(Y_val_preds)[0]"
   ]
  },
  {
   "cell_type": "code",
   "execution_count": 79,
   "metadata": {},
   "outputs": [],
   "source": [
    "Y_val_n = np.zeros((Y_val.shape[0], ))\n",
    "for i in range(Y_val.shape[0]):\n",
    "    Y_val_n[i] = np.nonzero(Y_val[i])[0]"
   ]
  },
  {
   "cell_type": "code",
   "execution_count": 80,
   "metadata": {},
   "outputs": [
    {
     "data": {
      "text/plain": [
       "array([    0,     4,     5, ..., 74100, 74101, 74102], dtype=int64)"
      ]
     },
     "execution_count": 80,
     "metadata": {},
     "output_type": "execute_result"
    }
   ],
   "source": [
    "np.nonzero(Y_val_n)[0]"
   ]
  },
  {
   "cell_type": "code",
   "execution_count": 81,
   "metadata": {},
   "outputs": [
    {
     "data": {
      "text/plain": [
       "0.567912230274078"
      ]
     },
     "execution_count": 81,
     "metadata": {},
     "output_type": "execute_result"
    }
   ],
   "source": [
    "np.nonzero(Y_val_preds == Y_val_n)[0].shape[0]/(Y_val.shape[0])"
   ]
  }
 ],
 "metadata": {
  "kernelspec": {
   "display_name": "Python 3",
   "language": "python",
   "name": "python3"
  },
  "language_info": {
   "codemirror_mode": {
    "name": "ipython",
    "version": 3
   },
   "file_extension": ".py",
   "mimetype": "text/x-python",
   "name": "python",
   "nbconvert_exporter": "python",
   "pygments_lexer": "ipython3",
   "version": "3.5.4"
  }
 },
 "nbformat": 4,
 "nbformat_minor": 2
}
