{
 "cells": [
  {
   "cell_type": "code",
   "execution_count": 162,
   "metadata": {},
   "outputs": [],
   "source": [
    "import numpy as np\n",
    "import sklearn\n",
    "import sklearn.datasets as ds\n",
    "import scipy.stats as stats"
   ]
  },
  {
   "cell_type": "code",
   "execution_count": 2,
   "metadata": {},
   "outputs": [
    {
     "name": "stderr",
     "output_type": "stream",
     "text": [
      "Downloading https://ndownloader.figshare.com/files/5976042\n"
     ]
    }
   ],
   "source": [
    "dataset = ds.fetch_kddcup99(shuffle=True)"
   ]
  },
  {
   "cell_type": "code",
   "execution_count": 5,
   "metadata": {},
   "outputs": [
    {
     "data": {
      "text/plain": [
       "(494021, 41)"
      ]
     },
     "execution_count": 5,
     "metadata": {},
     "output_type": "execute_result"
    }
   ],
   "source": [
    "data = dataset.data\n",
    "data.shape"
   ]
  },
  {
   "cell_type": "code",
   "execution_count": 115,
   "metadata": {},
   "outputs": [
    {
     "name": "stdout",
     "output_type": "stream",
     "text": [
      "1 <class 'bytes'>\n",
      "2 <class 'bytes'>\n",
      "3 <class 'bytes'>\n"
     ]
    }
   ],
   "source": [
    "#find and convert categorical to one-hot numerical\n",
    "categorical = []\n",
    "classes = []\n",
    "encodings = []\n",
    "for i in range(data.shape[1]):\n",
    "    if not (isinstance(data[0, i], float) or isinstance(data[0, i], int)):\n",
    "        print(i, type(data[0, i]))\n",
    "        categorical.append(i)\n",
    "        classes.append(set(data[:, i]))\n",
    "        code = {}\n",
    "        j = 0\n",
    "        for x in classes[-1]:\n",
    "            if x not in code:\n",
    "                code[x] = j\n",
    "                j += 1\n",
    "        encodings.append(code)"
   ]
  },
  {
   "cell_type": "code",
   "execution_count": 145,
   "metadata": {},
   "outputs": [
    {
     "name": "stdout",
     "output_type": "stream",
     "text": [
      "[0. 1. 0.]\n",
      "b'icmp'\n",
      "[0. 0. 0. 0. 0. 1. 0. 0. 0. 0. 0. 0. 0. 0. 0. 0. 0. 0. 0. 0. 0. 0. 0. 0.\n",
      " 0. 0. 0. 0. 0. 0. 0. 0. 0. 0. 0. 0. 0. 0. 0. 0. 0. 0. 0. 0. 0. 0. 0. 0.\n",
      " 0. 0. 0. 0. 0. 0. 0. 0. 0. 0. 0. 0. 0. 0. 0. 0. 0. 0.]\n",
      "b'ecr_i'\n",
      "[0. 0. 0. 0. 0. 0. 0. 0. 0. 0. 1.]\n",
      "b'SF'\n"
     ]
    },
    {
     "data": {
      "text/plain": [
       "(494021, 118)"
      ]
     },
     "execution_count": 145,
     "metadata": {},
     "output_type": "execute_result"
    }
   ],
   "source": [
    "#one-hot encoding\n",
    "idx = [i for i in range(data.shape[1]) if i not in categorical]\n",
    "X = data[:, idx]\n",
    "for i in range(len(categorical)):\n",
    "    idx = categorical[i]\n",
    "    code = encodings[i]\n",
    "    Xh = np.zeros((data.shape[0], len(code)), dtype = np.float32)\n",
    "    for j in range(data[:, idx].shape[0]):\n",
    "        Xh[j][code[data[j, idx]]] = 1\n",
    "    print(Xh[0])\n",
    "    print(data[0, idx])\n",
    "    X = np.concatenate([X, Xh], axis = 1)\n",
    "X = np.array(X, dtype = np.float32)\n",
    "X.shape"
   ]
  },
  {
   "cell_type": "code",
   "execution_count": 147,
   "metadata": {},
   "outputs": [
    {
     "name": "stdout",
     "output_type": "stream",
     "text": [
      "(345814, 118) (74103, 118) (74104, 118)\n"
     ]
    }
   ],
   "source": [
    "train_frac = 0.70\n",
    "val_frac = 0.15\n",
    "n = X.shape[0]\n",
    "X_train = X[:int(n*train_frac)]\n",
    "X_val = X[int(n*train_frac):int(n*(train_frac + val_frac))]\n",
    "X_test = X[int(n*(train_frac + val_frac)):]\n",
    "print(X_train.shape, X_val.shape, X_test.shape)"
   ]
  },
  {
   "cell_type": "code",
   "execution_count": 148,
   "metadata": {},
   "outputs": [
    {
     "data": {
      "text/plain": [
       "dtype('float32')"
      ]
     },
     "execution_count": 148,
     "metadata": {},
     "output_type": "execute_result"
    }
   ],
   "source": [
    "X.dtype"
   ]
  },
  {
   "cell_type": "code",
   "execution_count": 9,
   "metadata": {},
   "outputs": [
    {
     "data": {
      "text/plain": [
       "(494021,)"
      ]
     },
     "execution_count": 9,
     "metadata": {},
     "output_type": "execute_result"
    }
   ],
   "source": [
    "target = dataset.target\n",
    "target.shape"
   ]
  },
  {
   "cell_type": "code",
   "execution_count": 11,
   "metadata": {},
   "outputs": [
    {
     "data": {
      "text/plain": [
       "array([b'smurf.', b'neptune.', b'smurf.', b'smurf.', b'smurf.'],\n",
       "      dtype=object)"
      ]
     },
     "execution_count": 11,
     "metadata": {},
     "output_type": "execute_result"
    }
   ],
   "source": [
    "target[:5]"
   ]
  },
  {
   "cell_type": "code",
   "execution_count": 23,
   "metadata": {},
   "outputs": [],
   "source": [
    "#mapping from class names to numeric labels\n",
    "class_encoding = {}\n",
    "i = 0\n",
    "for x in target:\n",
    "    if x not in class_encoding:\n",
    "        class_encoding[x] = i\n",
    "        i += 1\n",
    "K = i"
   ]
  },
  {
   "cell_type": "code",
   "execution_count": 24,
   "metadata": {},
   "outputs": [
    {
     "data": {
      "text/plain": [
       "{b'back.': 5,\n",
       " b'buffer_overflow.': 15,\n",
       " b'ftp_write.': 19,\n",
       " b'guess_passwd.': 13,\n",
       " b'imap.': 18,\n",
       " b'ipsweep.': 3,\n",
       " b'land.': 11,\n",
       " b'loadmodule.': 17,\n",
       " b'multihop.': 16,\n",
       " b'neptune.': 1,\n",
       " b'nmap.': 12,\n",
       " b'normal.': 2,\n",
       " b'perl.': 21,\n",
       " b'phf.': 20,\n",
       " b'pod.': 7,\n",
       " b'portsweep.': 8,\n",
       " b'rootkit.': 14,\n",
       " b'satan.': 6,\n",
       " b'smurf.': 0,\n",
       " b'spy.': 22,\n",
       " b'teardrop.': 9,\n",
       " b'warezclient.': 4,\n",
       " b'warezmaster.': 10}"
      ]
     },
     "execution_count": 24,
     "metadata": {},
     "output_type": "execute_result"
    }
   ],
   "source": [
    "class_encoding"
   ]
  },
  {
   "cell_type": "code",
   "execution_count": 25,
   "metadata": {},
   "outputs": [
    {
     "data": {
      "text/plain": [
       "(494021, 23)"
      ]
     },
     "execution_count": 25,
     "metadata": {},
     "output_type": "execute_result"
    }
   ],
   "source": [
    "Y = np.zeros((target.shape[0], K))\n",
    "Y.shape"
   ]
  },
  {
   "cell_type": "code",
   "execution_count": 26,
   "metadata": {},
   "outputs": [],
   "source": [
    "#one-hot encoding\n",
    "for i, y in enumerate(target):\n",
    "    Y[i][class_encoding[y]] = 1"
   ]
  },
  {
   "cell_type": "code",
   "execution_count": 27,
   "metadata": {},
   "outputs": [
    {
     "data": {
      "text/plain": [
       "array([[1., 0., 0., 0., 0., 0., 0., 0., 0., 0., 0., 0., 0., 0., 0., 0.,\n",
       "        0., 0., 0., 0., 0., 0., 0.],\n",
       "       [0., 1., 0., 0., 0., 0., 0., 0., 0., 0., 0., 0., 0., 0., 0., 0.,\n",
       "        0., 0., 0., 0., 0., 0., 0.],\n",
       "       [1., 0., 0., 0., 0., 0., 0., 0., 0., 0., 0., 0., 0., 0., 0., 0.,\n",
       "        0., 0., 0., 0., 0., 0., 0.]])"
      ]
     },
     "execution_count": 27,
     "metadata": {},
     "output_type": "execute_result"
    }
   ],
   "source": [
    "Y[:3]"
   ]
  },
  {
   "cell_type": "code",
   "execution_count": 28,
   "metadata": {},
   "outputs": [
    {
     "data": {
      "text/plain": [
       "array([b'smurf.', b'neptune.', b'smurf.'], dtype=object)"
      ]
     },
     "execution_count": 28,
     "metadata": {},
     "output_type": "execute_result"
    }
   ],
   "source": [
    "target[:3]"
   ]
  },
  {
   "cell_type": "code",
   "execution_count": 52,
   "metadata": {},
   "outputs": [
    {
     "name": "stdout",
     "output_type": "stream",
     "text": [
      "(345814, 23) (74103, 23) (74104, 23)\n"
     ]
    }
   ],
   "source": [
    "n = Y.shape[0]\n",
    "Y_train = Y[:int(n*train_frac)]\n",
    "Y_val = Y[int(n*train_frac):int(n*(train_frac + val_frac))]\n",
    "Y_test = Y[int(n*(train_frac + val_frac)):]\n",
    "print(Y_train.shape, Y_val.shape, Y_test.shape)"
   ]
  },
  {
   "cell_type": "code",
   "execution_count": 169,
   "metadata": {},
   "outputs": [],
   "source": [
    "class LDA:\n",
    "    def __init__(self, data):\n",
    "        #init class priors and Gaussian class conditionals\n",
    "        assert type(data) == tuple\n",
    "        assert len(data) == 2\n",
    "        self.X = data[0]\n",
    "        self.Y = data[1]\n",
    "        assert self.X.shape[0] == self.Y.shape[0]\n",
    "        self.d = self.X.shape[1]\n",
    "        self.K = self.Y.shape[1]\n",
    "        \n",
    "        self.r = np.zeros((self.K, 1), dtype = np.float32)\n",
    "        self.u = np.zeros((self.K, self.d), dtype = np.float32)\n",
    "        self.S = np.zeros((1, self.d, self.d), dtype = np.float32)\n",
    "    \n",
    "    def fit(self):\n",
    "        #estimate the class priors and class conditional means using sample stats\n",
    "        for i in range(self.X.shape[0]):\n",
    "            c = np.nonzero(self.Y[i])[0][0]\n",
    "            self.r[c] += 1\n",
    "            self.u[c] += self.X[i]\n",
    "\n",
    "        self.u /= self.r \n",
    "        self.r /= self.X.shape[0]\n",
    "        \n",
    "        #estimate shared covariance matrix using their sample stats\n",
    "        for i in range(self.X.shape[0]):\n",
    "            c = np.nonzero(self.Y[i])[0][0]\n",
    "            self.S[0] += np.matmul((self.X[i] - self.u[c]), (self.X[i] - self.u[c]).T)\n",
    "        \n",
    "        self.S /= (self.X.shape[0] - self.K)\n",
    "    \n",
    "    def predict(self, X):\n",
    "        out = []\n",
    "        for i in range(X.shape[0]):\n",
    "            #posterior = prior * likelihood\n",
    "            posteriors = [self.r[j]*stats.multivariate_normal.pdf(X[i], self.u[j], self.S[0])\n",
    "                          for j in range(self.K)]\n",
    "            pred = np.argmax(posteriors)\n",
    "            out.append(pred)\n",
    "        return out"
   ]
  },
  {
   "cell_type": "code",
   "execution_count": 170,
   "metadata": {},
   "outputs": [],
   "source": [
    "model = LDA((X_train, Y_train))\n",
    "model.fit()"
   ]
  },
  {
   "cell_type": "code",
   "execution_count": 175,
   "metadata": {},
   "outputs": [
    {
     "data": {
      "text/plain": [
       "1.0"
      ]
     },
     "execution_count": 175,
     "metadata": {},
     "output_type": "execute_result"
    }
   ],
   "source": [
    "model.r.sum()"
   ]
  },
  {
   "cell_type": "code",
   "execution_count": 173,
   "metadata": {},
   "outputs": [
    {
     "data": {
      "text/plain": [
       "array([[4.0154499e+09, 4.0154499e+09, 4.0154499e+09, 4.0154499e+09,\n",
       "        4.0154499e+09, 4.0154499e+09, 4.0154499e+09, 4.0154499e+09,\n",
       "        4.0154499e+09, 4.0154499e+09],\n",
       "       [4.0154499e+09, 4.0154499e+09, 4.0154499e+09, 4.0154499e+09,\n",
       "        4.0154499e+09, 4.0154499e+09, 4.0154499e+09, 4.0154499e+09,\n",
       "        4.0154499e+09, 4.0154499e+09],\n",
       "       [4.0154499e+09, 4.0154499e+09, 4.0154499e+09, 4.0154499e+09,\n",
       "        4.0154499e+09, 4.0154499e+09, 4.0154499e+09, 4.0154499e+09,\n",
       "        4.0154499e+09, 4.0154499e+09],\n",
       "       [4.0154499e+09, 4.0154499e+09, 4.0154499e+09, 4.0154499e+09,\n",
       "        4.0154499e+09, 4.0154499e+09, 4.0154499e+09, 4.0154499e+09,\n",
       "        4.0154499e+09, 4.0154499e+09],\n",
       "       [4.0154499e+09, 4.0154499e+09, 4.0154499e+09, 4.0154499e+09,\n",
       "        4.0154499e+09, 4.0154499e+09, 4.0154499e+09, 4.0154499e+09,\n",
       "        4.0154499e+09, 4.0154499e+09],\n",
       "       [4.0154499e+09, 4.0154499e+09, 4.0154499e+09, 4.0154499e+09,\n",
       "        4.0154499e+09, 4.0154499e+09, 4.0154499e+09, 4.0154499e+09,\n",
       "        4.0154499e+09, 4.0154499e+09],\n",
       "       [4.0154499e+09, 4.0154499e+09, 4.0154499e+09, 4.0154499e+09,\n",
       "        4.0154499e+09, 4.0154499e+09, 4.0154499e+09, 4.0154499e+09,\n",
       "        4.0154499e+09, 4.0154499e+09],\n",
       "       [4.0154499e+09, 4.0154499e+09, 4.0154499e+09, 4.0154499e+09,\n",
       "        4.0154499e+09, 4.0154499e+09, 4.0154499e+09, 4.0154499e+09,\n",
       "        4.0154499e+09, 4.0154499e+09],\n",
       "       [4.0154499e+09, 4.0154499e+09, 4.0154499e+09, 4.0154499e+09,\n",
       "        4.0154499e+09, 4.0154499e+09, 4.0154499e+09, 4.0154499e+09,\n",
       "        4.0154499e+09, 4.0154499e+09],\n",
       "       [4.0154499e+09, 4.0154499e+09, 4.0154499e+09, 4.0154499e+09,\n",
       "        4.0154499e+09, 4.0154499e+09, 4.0154499e+09, 4.0154499e+09,\n",
       "        4.0154499e+09, 4.0154499e+09]], dtype=float32)"
      ]
     },
     "execution_count": 173,
     "metadata": {},
     "output_type": "execute_result"
    }
   ],
   "source": [
    "model.S[0][:10, :10]"
   ]
  },
  {
   "cell_type": "code",
   "execution_count": 165,
   "metadata": {},
   "outputs": [
    {
     "ename": "LinAlgError",
     "evalue": "singular matrix",
     "output_type": "error",
     "traceback": [
      "\u001b[1;31m---------------------------------------------------------------------------\u001b[0m",
      "\u001b[1;31mLinAlgError\u001b[0m                               Traceback (most recent call last)",
      "\u001b[1;32m<ipython-input-165-ebb84a785460>\u001b[0m in \u001b[0;36m<module>\u001b[1;34m()\u001b[0m\n\u001b[1;32m----> 1\u001b[1;33m \u001b[0mY_train_preds\u001b[0m \u001b[1;33m=\u001b[0m \u001b[0mmodel\u001b[0m\u001b[1;33m.\u001b[0m\u001b[0mpredict\u001b[0m\u001b[1;33m(\u001b[0m\u001b[0mX_train\u001b[0m\u001b[1;33m)\u001b[0m\u001b[1;33m\u001b[0m\u001b[0m\n\u001b[0m",
      "\u001b[1;32m<ipython-input-163-fb554f9ae8bd>\u001b[0m in \u001b[0;36mpredict\u001b[1;34m(self, X)\u001b[0m\n\u001b[0;32m     35\u001b[0m             \u001b[1;31m#posterior = prior * class-conditional prob\u001b[0m\u001b[1;33m\u001b[0m\u001b[1;33m\u001b[0m\u001b[0m\n\u001b[0;32m     36\u001b[0m             posteriors = [self.r[j]*stats.multivariate_normal.pdf(X[i], self.u[j], self.S[0])\n\u001b[1;32m---> 37\u001b[1;33m                           for j in range(self.K)]\n\u001b[0m\u001b[0;32m     38\u001b[0m             \u001b[0mpred\u001b[0m \u001b[1;33m=\u001b[0m \u001b[0mnp\u001b[0m\u001b[1;33m.\u001b[0m\u001b[0margmax\u001b[0m\u001b[1;33m(\u001b[0m\u001b[0mposteriors\u001b[0m\u001b[1;33m)\u001b[0m\u001b[1;33m\u001b[0m\u001b[0m\n\u001b[0;32m     39\u001b[0m             \u001b[0mout\u001b[0m\u001b[1;33m.\u001b[0m\u001b[0mappend\u001b[0m\u001b[1;33m(\u001b[0m\u001b[0mpred\u001b[0m\u001b[1;33m)\u001b[0m\u001b[1;33m\u001b[0m\u001b[0m\n",
      "\u001b[1;32m<ipython-input-163-fb554f9ae8bd>\u001b[0m in \u001b[0;36m<listcomp>\u001b[1;34m(.0)\u001b[0m\n\u001b[0;32m     35\u001b[0m             \u001b[1;31m#posterior = prior * class-conditional prob\u001b[0m\u001b[1;33m\u001b[0m\u001b[1;33m\u001b[0m\u001b[0m\n\u001b[0;32m     36\u001b[0m             posteriors = [self.r[j]*stats.multivariate_normal.pdf(X[i], self.u[j], self.S[0])\n\u001b[1;32m---> 37\u001b[1;33m                           for j in range(self.K)]\n\u001b[0m\u001b[0;32m     38\u001b[0m             \u001b[0mpred\u001b[0m \u001b[1;33m=\u001b[0m \u001b[0mnp\u001b[0m\u001b[1;33m.\u001b[0m\u001b[0margmax\u001b[0m\u001b[1;33m(\u001b[0m\u001b[0mposteriors\u001b[0m\u001b[1;33m)\u001b[0m\u001b[1;33m\u001b[0m\u001b[0m\n\u001b[0;32m     39\u001b[0m             \u001b[0mout\u001b[0m\u001b[1;33m.\u001b[0m\u001b[0mappend\u001b[0m\u001b[1;33m(\u001b[0m\u001b[0mpred\u001b[0m\u001b[1;33m)\u001b[0m\u001b[1;33m\u001b[0m\u001b[0m\n",
      "\u001b[1;32m~\\AppData\\Local\\conda\\conda\\envs\\py35\\lib\\site-packages\\scipy\\stats\\_multivariate.py\u001b[0m in \u001b[0;36mpdf\u001b[1;34m(self, x, mean, cov, allow_singular)\u001b[0m\n\u001b[0;32m    511\u001b[0m         \u001b[0mdim\u001b[0m\u001b[1;33m,\u001b[0m \u001b[0mmean\u001b[0m\u001b[1;33m,\u001b[0m \u001b[0mcov\u001b[0m \u001b[1;33m=\u001b[0m \u001b[0mself\u001b[0m\u001b[1;33m.\u001b[0m\u001b[0m_process_parameters\u001b[0m\u001b[1;33m(\u001b[0m\u001b[1;32mNone\u001b[0m\u001b[1;33m,\u001b[0m \u001b[0mmean\u001b[0m\u001b[1;33m,\u001b[0m \u001b[0mcov\u001b[0m\u001b[1;33m)\u001b[0m\u001b[1;33m\u001b[0m\u001b[0m\n\u001b[0;32m    512\u001b[0m         \u001b[0mx\u001b[0m \u001b[1;33m=\u001b[0m \u001b[0mself\u001b[0m\u001b[1;33m.\u001b[0m\u001b[0m_process_quantiles\u001b[0m\u001b[1;33m(\u001b[0m\u001b[0mx\u001b[0m\u001b[1;33m,\u001b[0m \u001b[0mdim\u001b[0m\u001b[1;33m)\u001b[0m\u001b[1;33m\u001b[0m\u001b[0m\n\u001b[1;32m--> 513\u001b[1;33m         \u001b[0mpsd\u001b[0m \u001b[1;33m=\u001b[0m \u001b[0m_PSD\u001b[0m\u001b[1;33m(\u001b[0m\u001b[0mcov\u001b[0m\u001b[1;33m,\u001b[0m \u001b[0mallow_singular\u001b[0m\u001b[1;33m=\u001b[0m\u001b[0mallow_singular\u001b[0m\u001b[1;33m)\u001b[0m\u001b[1;33m\u001b[0m\u001b[0m\n\u001b[0m\u001b[0;32m    514\u001b[0m         \u001b[0mout\u001b[0m \u001b[1;33m=\u001b[0m \u001b[0mnp\u001b[0m\u001b[1;33m.\u001b[0m\u001b[0mexp\u001b[0m\u001b[1;33m(\u001b[0m\u001b[0mself\u001b[0m\u001b[1;33m.\u001b[0m\u001b[0m_logpdf\u001b[0m\u001b[1;33m(\u001b[0m\u001b[0mx\u001b[0m\u001b[1;33m,\u001b[0m \u001b[0mmean\u001b[0m\u001b[1;33m,\u001b[0m \u001b[0mpsd\u001b[0m\u001b[1;33m.\u001b[0m\u001b[0mU\u001b[0m\u001b[1;33m,\u001b[0m \u001b[0mpsd\u001b[0m\u001b[1;33m.\u001b[0m\u001b[0mlog_pdet\u001b[0m\u001b[1;33m,\u001b[0m \u001b[0mpsd\u001b[0m\u001b[1;33m.\u001b[0m\u001b[0mrank\u001b[0m\u001b[1;33m)\u001b[0m\u001b[1;33m)\u001b[0m\u001b[1;33m\u001b[0m\u001b[0m\n\u001b[0;32m    515\u001b[0m         \u001b[1;32mreturn\u001b[0m \u001b[0m_squeeze_output\u001b[0m\u001b[1;33m(\u001b[0m\u001b[0mout\u001b[0m\u001b[1;33m)\u001b[0m\u001b[1;33m\u001b[0m\u001b[0m\n",
      "\u001b[1;32m~\\AppData\\Local\\conda\\conda\\envs\\py35\\lib\\site-packages\\scipy\\stats\\_multivariate.py\u001b[0m in \u001b[0;36m__init__\u001b[1;34m(self, M, cond, rcond, lower, check_finite, allow_singular)\u001b[0m\n\u001b[0;32m    157\u001b[0m         \u001b[0md\u001b[0m \u001b[1;33m=\u001b[0m \u001b[0ms\u001b[0m\u001b[1;33m[\u001b[0m\u001b[0ms\u001b[0m \u001b[1;33m>\u001b[0m \u001b[0meps\u001b[0m\u001b[1;33m]\u001b[0m\u001b[1;33m\u001b[0m\u001b[0m\n\u001b[0;32m    158\u001b[0m         \u001b[1;32mif\u001b[0m \u001b[0mlen\u001b[0m\u001b[1;33m(\u001b[0m\u001b[0md\u001b[0m\u001b[1;33m)\u001b[0m \u001b[1;33m<\u001b[0m \u001b[0mlen\u001b[0m\u001b[1;33m(\u001b[0m\u001b[0ms\u001b[0m\u001b[1;33m)\u001b[0m \u001b[1;32mand\u001b[0m \u001b[1;32mnot\u001b[0m \u001b[0mallow_singular\u001b[0m\u001b[1;33m:\u001b[0m\u001b[1;33m\u001b[0m\u001b[0m\n\u001b[1;32m--> 159\u001b[1;33m             \u001b[1;32mraise\u001b[0m \u001b[0mnp\u001b[0m\u001b[1;33m.\u001b[0m\u001b[0mlinalg\u001b[0m\u001b[1;33m.\u001b[0m\u001b[0mLinAlgError\u001b[0m\u001b[1;33m(\u001b[0m\u001b[1;34m'singular matrix'\u001b[0m\u001b[1;33m)\u001b[0m\u001b[1;33m\u001b[0m\u001b[0m\n\u001b[0m\u001b[0;32m    160\u001b[0m         \u001b[0ms_pinv\u001b[0m \u001b[1;33m=\u001b[0m \u001b[0m_pinv_1d\u001b[0m\u001b[1;33m(\u001b[0m\u001b[0ms\u001b[0m\u001b[1;33m,\u001b[0m \u001b[0meps\u001b[0m\u001b[1;33m)\u001b[0m\u001b[1;33m\u001b[0m\u001b[0m\n\u001b[0;32m    161\u001b[0m         \u001b[0mU\u001b[0m \u001b[1;33m=\u001b[0m \u001b[0mnp\u001b[0m\u001b[1;33m.\u001b[0m\u001b[0mmultiply\u001b[0m\u001b[1;33m(\u001b[0m\u001b[0mu\u001b[0m\u001b[1;33m,\u001b[0m \u001b[0mnp\u001b[0m\u001b[1;33m.\u001b[0m\u001b[0msqrt\u001b[0m\u001b[1;33m(\u001b[0m\u001b[0ms_pinv\u001b[0m\u001b[1;33m)\u001b[0m\u001b[1;33m)\u001b[0m\u001b[1;33m\u001b[0m\u001b[0m\n",
      "\u001b[1;31mLinAlgError\u001b[0m: singular matrix"
     ]
    }
   ],
   "source": [
    "Y_train_preds = model.predict(X_train)"
   ]
  },
  {
   "cell_type": "code",
   "execution_count": 155,
   "metadata": {},
   "outputs": [
    {
     "data": {
      "text/plain": [
       "0.00023927977920047084"
      ]
     },
     "execution_count": 155,
     "metadata": {},
     "output_type": "execute_result"
    }
   ],
   "source": [
    "stats.multivariate_normal.pdf([2,3], [0,0],[[1,0],[0,1]])"
   ]
  },
  {
   "cell_type": "code",
   "execution_count": null,
   "metadata": {},
   "outputs": [],
   "source": []
  }
 ],
 "metadata": {
  "kernelspec": {
   "display_name": "Python 3",
   "language": "python",
   "name": "python3"
  },
  "language_info": {
   "codemirror_mode": {
    "name": "ipython",
    "version": 3
   },
   "file_extension": ".py",
   "mimetype": "text/x-python",
   "name": "python",
   "nbconvert_exporter": "python",
   "pygments_lexer": "ipython3",
   "version": "3.5.4"
  }
 },
 "nbformat": 4,
 "nbformat_minor": 2
}
